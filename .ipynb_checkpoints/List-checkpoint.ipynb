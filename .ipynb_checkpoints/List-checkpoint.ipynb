{
 "cells": [
  {
   "cell_type": "code",
   "execution_count": 3,
   "id": "f3a13f0a-30ab-4d95-b749-31d3828d2c7a",
   "metadata": {},
   "outputs": [],
   "source": [
    "students = ['Taha', 'Fahad', 'abdullah','ammar']\n"
   ]
  },
  {
   "cell_type": "code",
   "execution_count": 4,
   "id": "ae716952-f06f-434c-9267-0fae18cd70f3",
   "metadata": {},
   "outputs": [
    {
     "data": {
      "text/plain": [
       "['Taha', 'Fahad', 'abdullah', 'ammar']"
      ]
     },
     "execution_count": 4,
     "metadata": {},
     "output_type": "execute_result"
    }
   ],
   "source": [
    "students"
   ]
  },
  {
   "cell_type": "code",
   "execution_count": 5,
   "id": "1363717e-151b-4f1c-9420-b255569e1af5",
   "metadata": {},
   "outputs": [
    {
     "name": "stdout",
     "output_type": "stream",
     "text": [
      "<class 'list'>\n"
     ]
    }
   ],
   "source": [
    "print(type(students))"
   ]
  },
  {
   "cell_type": "code",
   "execution_count": 8,
   "id": "26b1c464-5750-404c-a90c-3f7be54292be",
   "metadata": {},
   "outputs": [
    {
     "data": {
      "text/plain": [
       "4"
      ]
     },
     "execution_count": 8,
     "metadata": {},
     "output_type": "execute_result"
    }
   ],
   "source": [
    "len(students)"
   ]
  },
  {
   "cell_type": "code",
   "execution_count": 9,
   "id": "93cb06b3-859e-4025-a108-96916d1a4822",
   "metadata": {},
   "outputs": [
    {
     "data": {
      "text/plain": [
       "'Fahad'"
      ]
     },
     "execution_count": 9,
     "metadata": {},
     "output_type": "execute_result"
    }
   ],
   "source": [
    "students[1]"
   ]
  },
  {
   "cell_type": "code",
   "execution_count": 14,
   "id": "6b85f448-a339-414d-b2df-048ee2d28f5b",
   "metadata": {},
   "outputs": [],
   "source": [
    "list = [1,2,3,4,5,6,['Taha', 'Fahad', 'abdullah','ammar']]"
   ]
  },
  {
   "cell_type": "code",
   "execution_count": 6,
   "id": "9842648e-a009-40bb-8100-e4f435ba05cf",
   "metadata": {},
   "outputs": [
    {
     "ename": "TypeError",
     "evalue": "list[6] is not a generic class",
     "output_type": "error",
     "traceback": [
      "\u001b[1;31m---------------------------------------------------------------------------\u001b[0m",
      "\u001b[1;31mTypeError\u001b[0m                                 Traceback (most recent call last)",
      "Cell \u001b[1;32mIn[6], line 1\u001b[0m\n\u001b[1;32m----> 1\u001b[0m \u001b[38;5;28mlist\u001b[39m[\u001b[38;5;241m6\u001b[39m][\u001b[38;5;241m1\u001b[39m]\n",
      "\u001b[1;31mTypeError\u001b[0m: list[6] is not a generic class"
     ]
    }
   ],
   "source": [
    "list[6][1]"
   ]
  },
  {
   "cell_type": "code",
   "execution_count": 26,
   "id": "52946aa0-220c-4024-b456-a2b73895d195",
   "metadata": {},
   "outputs": [],
   "source": [
    "country = \"pak\""
   ]
  },
  {
   "cell_type": "code",
   "execution_count": 27,
   "id": "7f8c1d86-dc50-4574-9159-4c140057cde7",
   "metadata": {},
   "outputs": [
    {
     "data": {
      "text/plain": [
       "'Pak'"
      ]
     },
     "execution_count": 27,
     "metadata": {},
     "output_type": "execute_result"
    }
   ],
   "source": [
    "country.capitalize()"
   ]
  },
  {
   "cell_type": "code",
   "execution_count": 28,
   "id": "1f38175e-db3f-4b64-88b6-f8be90321cf1",
   "metadata": {},
   "outputs": [
    {
     "data": {
      "text/plain": [
       "True"
      ]
     },
     "execution_count": 28,
     "metadata": {},
     "output_type": "execute_result"
    }
   ],
   "source": [
    "country.islower()"
   ]
  },
  {
   "cell_type": "code",
   "execution_count": 29,
   "id": "6e9df562-fd5c-4565-9498-d5bc80387dfd",
   "metadata": {},
   "outputs": [],
   "source": [
    "students.append(\"Mustafa\")"
   ]
  },
  {
   "cell_type": "code",
   "execution_count": 30,
   "id": "52a29dbd-c09b-46ac-a396-d6bbda5edb57",
   "metadata": {},
   "outputs": [
    {
     "data": {
      "text/plain": [
       "['Taha', 'Fahad', 'abdullah', 'ammar', 'Mustafa']"
      ]
     },
     "execution_count": 30,
     "metadata": {},
     "output_type": "execute_result"
    }
   ],
   "source": [
    "students"
   ]
  },
  {
   "cell_type": "code",
   "execution_count": 44,
   "id": "7b041b5c-70c9-43dc-af16-fcdc92630db5",
   "metadata": {},
   "outputs": [
    {
     "data": {
      "text/plain": [
       "['Taha', 'Fahad', 'abdullah', 'Zain', 'ammar']"
      ]
     },
     "execution_count": 44,
     "metadata": {},
     "output_type": "execute_result"
    }
   ],
   "source": [
    "students.insert(3, \"Zain\")\n",
    "students"
   ]
  },
  {
   "cell_type": "code",
   "execution_count": 43,
   "id": "d2d01e82-c8fc-4e2b-92ff-ba62f419134a",
   "metadata": {},
   "outputs": [
    {
     "data": {
      "text/plain": [
       "['Taha', 'Fahad', 'abdullah', 'ammar']"
      ]
     },
     "execution_count": 43,
     "metadata": {},
     "output_type": "execute_result"
    }
   ],
   "source": [
    "students"
   ]
  },
  {
   "cell_type": "code",
   "execution_count": 45,
   "id": "902ec240-d798-4caf-9631-f9dff89916b4",
   "metadata": {},
   "outputs": [],
   "source": [
    "f1 = ['saif','arsal', 'babo', 'salman', 'dani']"
   ]
  },
  {
   "cell_type": "code",
   "execution_count": 47,
   "id": "8ea5e514-6b67-4345-8ddf-18d48f6acd6e",
   "metadata": {},
   "outputs": [],
   "source": [
    "f2 = ['moiz', 'moin', 'muzzi', 'anas', 'rizwan']"
   ]
  },
  {
   "cell_type": "code",
   "execution_count": 48,
   "id": "0d83d05c-7bbe-4844-bae1-ecf8550ed76f",
   "metadata": {},
   "outputs": [],
   "source": [
    "f1.extend(f2)"
   ]
  },
  {
   "cell_type": "code",
   "execution_count": 49,
   "id": "dc1f2588-9529-42f8-8cd8-68b44524789b",
   "metadata": {},
   "outputs": [
    {
     "data": {
      "text/plain": [
       "['saif',\n",
       " 'arsal',\n",
       " 'babo',\n",
       " 'salman',\n",
       " 'dani',\n",
       " 'moiz',\n",
       " 'moin',\n",
       " 'muzzi',\n",
       " 'anas',\n",
       " 'rizwan']"
      ]
     },
     "execution_count": 49,
     "metadata": {},
     "output_type": "execute_result"
    }
   ],
   "source": [
    "f1"
   ]
  },
  {
   "cell_type": "raw",
   "id": "eef5fcac-8d4c-4e21-b7b2-12ba642f9935",
   "metadata": {},
   "source": [
    "#removing element"
   ]
  },
  {
   "cell_type": "code",
   "execution_count": 4,
   "id": "ce02bfcb-1a27-44d3-b460-790e1b672421",
   "metadata": {},
   "outputs": [],
   "source": [
    "new = [1,2,3,4,5,6,7,8]"
   ]
  },
  {
   "cell_type": "code",
   "execution_count": 6,
   "id": "811f6198-d27e-44a7-8838-60d64d61401a",
   "metadata": {},
   "outputs": [
    {
     "data": {
      "text/plain": [
       "8"
      ]
     },
     "execution_count": 6,
     "metadata": {},
     "output_type": "execute_result"
    }
   ],
   "source": [
    "new.pop()"
   ]
  },
  {
   "cell_type": "code",
   "execution_count": 16,
   "id": "9df71dba-696f-417b-a6ea-1eb883c4bd22",
   "metadata": {},
   "outputs": [
    {
     "data": {
      "text/plain": [
       "[2, 4, 5, 6, 7]"
      ]
     },
     "execution_count": 16,
     "metadata": {},
     "output_type": "execute_result"
    }
   ],
   "source": [
    "new"
   ]
  },
  {
   "cell_type": "code",
   "execution_count": 7,
   "id": "0426ec46-9be3-45b9-8765-c046b9592722",
   "metadata": {},
   "outputs": [
    {
     "data": {
      "text/plain": [
       "[12, 3]"
      ]
     },
     "execution_count": 7,
     "metadata": {},
     "output_type": "execute_result"
    }
   ],
   "source": [
    "neo = [12,3,4]\n",
    "neo.remove(4)\n",
    "neo"
   ]
  },
  {
   "cell_type": "code",
   "execution_count": 44,
   "id": "7fb60013-be78-4798-a674-a8cacbcdbdfc",
   "metadata": {},
   "outputs": [],
   "source": [
    "tea_varities= [\"Lemon\",\"White\", \"Oolong\", \"green\", \"masala\"]\n"
   ]
  },
  {
   "cell_type": "code",
   "execution_count": 47,
   "id": "c978ad6e-4a66-4018-8f47-d13ef1666748",
   "metadata": {},
   "outputs": [
    {
     "name": "stdout",
     "output_type": "stream",
     "text": [
      "Lemon/White/Oolong/green/masala/"
     ]
    }
   ],
   "source": [
    "for a in tea_varities:\n",
    "    print(a ,end=\"/\")"
   ]
  },
  {
   "cell_type": "code",
   "execution_count": 27,
   "id": "daba7d83-9a41-4c63-b3a8-7c07759e88ee",
   "metadata": {},
   "outputs": [
    {
     "data": {
      "text/plain": [
       "range(0, 10)"
      ]
     },
     "execution_count": 27,
     "metadata": {},
     "output_type": "execute_result"
    }
   ],
   "source": [
    "y"
   ]
  },
  {
   "cell_type": "code",
   "execution_count": 40,
   "id": "5cb3e086-3f47-4529-a762-0ba0ecfa797e",
   "metadata": {},
   "outputs": [],
   "source": [
    "y=range(10)"
   ]
  },
  {
   "cell_type": "code",
   "execution_count": 51,
   "id": "4fe64ce4-4f8c-4291-b679-acaf9ffc08d0",
   "metadata": {},
   "outputs": [],
   "source": [
    "tea_varities_copy = tea_varities.copy()"
   ]
  },
  {
   "cell_type": "code",
   "execution_count": 53,
   "id": "318402a7-0cdc-4461-a7f3-dd939f1cf44f",
   "metadata": {},
   "outputs": [],
   "source": [
    "tea_varities_copy=[x**2 for x in y]"
   ]
  },
  {
   "cell_type": "code",
   "execution_count": 55,
   "id": "f8c88fcd-5c0d-4898-b43d-e342b33acc01",
   "metadata": {},
   "outputs": [
    {
     "data": {
      "text/plain": [
       "[0, 1, 4, 9, 16, 25, 36, 49, 64, 81]"
      ]
     },
     "execution_count": 55,
     "metadata": {},
     "output_type": "execute_result"
    }
   ],
   "source": [
    "tea_varities_copy"
   ]
  },
  {
   "cell_type": "code",
   "execution_count": null,
   "id": "6f81c78f-2eef-440a-95c6-098dc873f024",
   "metadata": {},
   "outputs": [],
   "source": []
  }
 ],
 "metadata": {
  "kernelspec": {
   "display_name": "Python 3 (ipykernel)",
   "language": "python",
   "name": "python3"
  },
  "language_info": {
   "codemirror_mode": {
    "name": "ipython",
    "version": 3
   },
   "file_extension": ".py",
   "mimetype": "text/x-python",
   "name": "python",
   "nbconvert_exporter": "python",
   "pygments_lexer": "ipython3",
   "version": "3.11.7"
  }
 },
 "nbformat": 4,
 "nbformat_minor": 5
}
