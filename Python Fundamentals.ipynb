{
 "cells": [
  {
   "cell_type": "markdown",
   "id": "df5e437e",
   "metadata": {},
   "source": [
    "# Todays' Agenda \n",
    "      - print()\n",
    "      - type of values \n",
    "      - variables\n",
    "      - Operators"
   ]
  },
  {
   "cell_type": "markdown",
   "id": "b30453c6",
   "metadata": {},
   "source": [
    "# Print()\n",
    "     - print() is python function.\n",
    "     - it prints anything(valid) provided on the console output."
   ]
  },
  {
   "cell_type": "code",
   "execution_count": 1,
   "id": "f459e8c9",
   "metadata": {},
   "outputs": [
    {
     "name": "stdout",
     "output_type": "stream",
     "text": [
      "Nasir Hussain\n"
     ]
    }
   ],
   "source": [
    "print(\"Nasir Hussain\")"
   ]
  },
  {
   "cell_type": "code",
   "execution_count": 2,
   "id": "3c1ef151",
   "metadata": {},
   "outputs": [
    {
     "name": "stdout",
     "output_type": "stream",
     "text": [
      "Nasir Hussain Sohail\n"
     ]
    }
   ],
   "source": [
    "print(\"Nasir Hussain\", \"Sohail\")"
   ]
  },
  {
   "cell_type": "code",
   "execution_count": 3,
   "id": "82adedeb",
   "metadata": {},
   "outputs": [
    {
     "name": "stdout",
     "output_type": "stream",
     "text": [
      "100\n"
     ]
    }
   ],
   "source": [
    "print(100)"
   ]
  },
  {
   "cell_type": "code",
   "execution_count": 4,
   "id": "fc4eb31c",
   "metadata": {},
   "outputs": [
    {
     "name": "stdout",
     "output_type": "stream",
     "text": [
      "1230\n"
     ]
    }
   ],
   "source": [
    "print(1230)"
   ]
  },
  {
   "cell_type": "code",
   "execution_count": 5,
   "id": "87a04c7f",
   "metadata": {},
   "outputs": [
    {
     "name": "stdout",
     "output_type": "stream",
     "text": [
      "12 3 45 6 7\n"
     ]
    }
   ],
   "source": [
    "print(12,3,45,6,7)"
   ]
  },
  {
   "cell_type": "code",
   "execution_count": 6,
   "id": "a98c2424",
   "metadata": {},
   "outputs": [
    {
     "name": "stdout",
     "output_type": "stream",
     "text": [
      "12.6\n"
     ]
    }
   ],
   "source": [
    "print(12.6)"
   ]
  },
  {
   "cell_type": "raw",
   "id": "a8507891",
   "metadata": {},
   "source": [
    "What we are supplying to print function are values. \n",
    "Question: how many type of values\n",
    "\n",
    "Values : Data >>>>> data types\n",
    "\n",
    "\n",
    " Text >>>>> String >> \"i am string\" >>> str\n",
    " Number >>>> \n",
    "         - Whole Numbers        >>>>> Integers   >>>>  int\n",
    "         - Decimal Numbers      >>>>> Floats     >>>>  float \n",
    "Boolean >>>> Yes/NO >>>> True/False   >>>>> bool\n",
    " "
   ]
  },
  {
   "cell_type": "code",
   "execution_count": 8,
   "id": "4a82b560",
   "metadata": {},
   "outputs": [
    {
     "name": "stdout",
     "output_type": "stream",
     "text": [
      "SMIT 100 500.5 True\n"
     ]
    }
   ],
   "source": [
    "print(\"SMIT\", 100, 500.5, True)"
   ]
  },
  {
   "cell_type": "code",
   "execution_count": 9,
   "id": "0bde489d",
   "metadata": {},
   "outputs": [
    {
     "data": {
      "text/plain": [
       "str"
      ]
     },
     "execution_count": 9,
     "metadata": {},
     "output_type": "execute_result"
    }
   ],
   "source": [
    "type(\"SMIT\")"
   ]
  },
  {
   "cell_type": "code",
   "execution_count": 10,
   "id": "95a0a518",
   "metadata": {},
   "outputs": [
    {
     "data": {
      "text/plain": [
       "int"
      ]
     },
     "execution_count": 10,
     "metadata": {},
     "output_type": "execute_result"
    }
   ],
   "source": [
    "type(234)"
   ]
  },
  {
   "cell_type": "code",
   "execution_count": 11,
   "id": "39f4142e",
   "metadata": {},
   "outputs": [
    {
     "data": {
      "text/plain": [
       "float"
      ]
     },
     "execution_count": 11,
     "metadata": {},
     "output_type": "execute_result"
    }
   ],
   "source": [
    "type(45.6)"
   ]
  },
  {
   "cell_type": "code",
   "execution_count": 12,
   "id": "84bceba1",
   "metadata": {},
   "outputs": [
    {
     "data": {
      "text/plain": [
       "bool"
      ]
     },
     "execution_count": 12,
     "metadata": {},
     "output_type": "execute_result"
    }
   ],
   "source": [
    "type(False)"
   ]
  },
  {
   "cell_type": "code",
   "execution_count": 20,
   "id": "a798e1f3",
   "metadata": {},
   "outputs": [
    {
     "name": "stdout",
     "output_type": "stream",
     "text": [
      "AhsunNasir\n"
     ]
    }
   ],
   "source": [
    "print(\"Ahsun\",\"Nasir\", sep=\"\")"
   ]
  },
  {
   "cell_type": "code",
   "execution_count": 23,
   "id": "080ab31e",
   "metadata": {},
   "outputs": [
    {
     "name": "stdout",
     "output_type": "stream",
     "text": [
      "Hello Python\n",
      "\n",
      "\n",
      "\n",
      "\n",
      "\n",
      "Hello Boys\n"
     ]
    }
   ],
   "source": [
    "print(\"Hello Python\", end=\"\\n\\n\\n\\n\\n\\n\")\n",
    "print(\"Hello Boys\")"
   ]
  },
  {
   "cell_type": "code",
   "execution_count": 24,
   "id": "73995df8",
   "metadata": {},
   "outputs": [
    {
     "ename": "SyntaxError",
     "evalue": "unterminated string literal (detected at line 1) (1514326339.py, line 1)",
     "output_type": "error",
     "traceback": [
      "\u001b[1;36m  Cell \u001b[1;32mIn[24], line 1\u001b[1;36m\u001b[0m\n\u001b[1;33m    print(\"Wow wew are now learning Python\u001b[0m\n\u001b[1;37m          ^\u001b[0m\n\u001b[1;31mSyntaxError\u001b[0m\u001b[1;31m:\u001b[0m unterminated string literal (detected at line 1)\n"
     ]
    }
   ],
   "source": [
    "print(\"Wow wew are now learning Python\n",
    "      Thank you SMIT\")"
   ]
  },
  {
   "cell_type": "code",
   "execution_count": 26,
   "id": "e05f8f57",
   "metadata": {},
   "outputs": [
    {
     "name": "stdout",
     "output_type": "stream",
     "text": [
      "Wow we \n",
      "are now learning Python.\n",
      "Thank you SMIT\n"
     ]
    }
   ],
   "source": [
    "print(\"Wow we \\nare now learning Python.\\nThank you SMIT\")"
   ]
  },
  {
   "cell_type": "markdown",
   "id": "03f30159",
   "metadata": {},
   "source": [
    "# String kese kese bana sakte hen "
   ]
  },
  {
   "cell_type": "code",
   "execution_count": 27,
   "id": "138fe971",
   "metadata": {},
   "outputs": [
    {
     "data": {
      "text/plain": [
       "'I am double quote string'"
      ]
     },
     "execution_count": 27,
     "metadata": {},
     "output_type": "execute_result"
    }
   ],
   "source": [
    "\"I am double quote string\""
   ]
  },
  {
   "cell_type": "code",
   "execution_count": 28,
   "id": "33849fe0",
   "metadata": {},
   "outputs": [
    {
     "data": {
      "text/plain": [
       "'I am single quote string'"
      ]
     },
     "execution_count": 28,
     "metadata": {},
     "output_type": "execute_result"
    }
   ],
   "source": [
    "'I am single quote string'"
   ]
  },
  {
   "cell_type": "code",
   "execution_count": 29,
   "id": "96227b59",
   "metadata": {},
   "outputs": [
    {
     "data": {
      "text/plain": [
       "'I m a tripple quote string'"
      ]
     },
     "execution_count": 29,
     "metadata": {},
     "output_type": "execute_result"
    }
   ],
   "source": [
    "\"\"\"I m a tripple quote string\"\"\""
   ]
  },
  {
   "cell_type": "code",
   "execution_count": 30,
   "id": "b6429a46",
   "metadata": {},
   "outputs": [
    {
     "data": {
      "text/plain": [
       "'I m a single tripple quote string'"
      ]
     },
     "execution_count": 30,
     "metadata": {},
     "output_type": "execute_result"
    }
   ],
   "source": [
    "'''I m a single tripple quote string'''"
   ]
  },
  {
   "cell_type": "raw",
   "id": "4a5f9734",
   "metadata": {},
   "source": [
    "       SMIT\n",
    "   Name: Nasir\n",
    "   Course: Python\n",
    "   Days: Tuesday and Thursday\n",
    "   Campus: HO-Bahadurabad\n",
    "   Time  : 7-9\n",
    "   "
   ]
  },
  {
   "cell_type": "code",
   "execution_count": 38,
   "id": "aa8c6311",
   "metadata": {},
   "outputs": [
    {
     "name": "stdout",
     "output_type": "stream",
     "text": [
      "\t\tSMIT\n",
      " \tName: Nasir\n",
      "\tCourse:Python\n",
      "\tDays:Tuesday and Thursday\n",
      "\tCampus: HO-Bahadurabad\n",
      "\tTime  : 7-9\n"
     ]
    }
   ],
   "source": [
    "print(\"\\t\\tSMIT\\n \\tName: Nasir\\n\\tCourse:Python\\n\\tDays:Tuesday and Thursday\\n\\tCampus: HO-Bahadurabad\\n\\tTime  : 7-9\")"
   ]
  },
  {
   "cell_type": "code",
   "execution_count": 39,
   "id": "9fe07eb3",
   "metadata": {},
   "outputs": [
    {
     "name": "stdout",
     "output_type": "stream",
     "text": [
      "\n",
      "           SMIT\n",
      "   Name: Nasir\n",
      "   Course: Python\n",
      "   Days: Tuesday and Thursday\n",
      "   Campus: HO-Bahadurabad\n",
      "   Time  : 7-9\n",
      "\n"
     ]
    }
   ],
   "source": [
    "print(\"\"\"\n",
    "           SMIT\n",
    "   Name: Nasir\n",
    "   Course: Python\n",
    "   Days: Tuesday and Thursday\n",
    "   Campus: HO-Bahadurabad\n",
    "   Time  : 7-9\n",
    "\"\"\")"
   ]
  },
  {
   "cell_type": "markdown",
   "id": "1e54c991",
   "metadata": {},
   "source": [
    "# Variables\n",
    "     - Variables are identifiers\n",
    "     - They are containers\n",
    "     "
   ]
  },
  {
   "cell_type": "code",
   "execution_count": 51,
   "id": "65122d87",
   "metadata": {},
   "outputs": [],
   "source": [
    "student = \"Ahsun Khan\""
   ]
  },
  {
   "cell_type": "raw",
   "id": "22d24103",
   "metadata": {},
   "source": [
    "students >>>>> identifier\n",
    "               variable name\n",
    "               contianer name\n",
    "=       >>>>>  operator (assignment operator)\n",
    "\"Ahsun Khan\"  >>>> value >>>> string type\n",
    "\n",
    "\n",
    "A string type value \"Ahsun Khan\" is assigned in variable students"
   ]
  },
  {
   "cell_type": "code",
   "execution_count": 41,
   "id": "06e4fb03",
   "metadata": {},
   "outputs": [
    {
     "name": "stdout",
     "output_type": "stream",
     "text": [
      "Ahsun Khan\n"
     ]
    }
   ],
   "source": [
    "print(student)"
   ]
  },
  {
   "cell_type": "code",
   "execution_count": 42,
   "id": "0b02278b",
   "metadata": {},
   "outputs": [
    {
     "data": {
      "text/plain": [
       "2576283936688"
      ]
     },
     "execution_count": 42,
     "metadata": {},
     "output_type": "execute_result"
    }
   ],
   "source": [
    "id(student)"
   ]
  },
  {
   "cell_type": "code",
   "execution_count": 49,
   "id": "c4cf5d6d",
   "metadata": {},
   "outputs": [],
   "source": [
    "student = \"Nasir Hussain\""
   ]
  },
  {
   "cell_type": "code",
   "execution_count": 44,
   "id": "312b8de1",
   "metadata": {},
   "outputs": [
    {
     "name": "stdout",
     "output_type": "stream",
     "text": [
      "Nasir Hussain\n"
     ]
    }
   ],
   "source": [
    "print(student)"
   ]
  },
  {
   "cell_type": "code",
   "execution_count": 50,
   "id": "c2248e76",
   "metadata": {},
   "outputs": [
    {
     "data": {
      "text/plain": [
       "2576284407472"
      ]
     },
     "execution_count": 50,
     "metadata": {},
     "output_type": "execute_result"
    }
   ],
   "source": [
    "type(student)\n",
    "id(student)"
   ]
  },
  {
   "cell_type": "code",
   "execution_count": 46,
   "id": "4de3a2f6",
   "metadata": {},
   "outputs": [],
   "source": [
    "student = 123456"
   ]
  },
  {
   "cell_type": "code",
   "execution_count": 47,
   "id": "4af993db",
   "metadata": {},
   "outputs": [
    {
     "name": "stdout",
     "output_type": "stream",
     "text": [
      "123456\n"
     ]
    }
   ],
   "source": [
    "print(student)"
   ]
  },
  {
   "cell_type": "code",
   "execution_count": 48,
   "id": "a7a18c6e",
   "metadata": {},
   "outputs": [
    {
     "data": {
      "text/plain": [
       "2576287064144"
      ]
     },
     "execution_count": 48,
     "metadata": {},
     "output_type": "execute_result"
    }
   ],
   "source": [
    "id(student)"
   ]
  },
  {
   "cell_type": "code",
   "execution_count": 52,
   "id": "a1a9485f",
   "metadata": {},
   "outputs": [],
   "source": [
    "number = 100"
   ]
  },
  {
   "cell_type": "code",
   "execution_count": 53,
   "id": "13d8eb2b",
   "metadata": {},
   "outputs": [],
   "source": [
    "is_present = False"
   ]
  },
  {
   "cell_type": "code",
   "execution_count": 54,
   "id": "b66b4dbb",
   "metadata": {},
   "outputs": [],
   "source": [
    "percentage = 78.8"
   ]
  },
  {
   "cell_type": "markdown",
   "id": "a889ce0b",
   "metadata": {},
   "source": [
    "# Variable Naming Legal and Illegal "
   ]
  },
  {
   "cell_type": "markdown",
   "id": "6291315f",
   "metadata": {},
   "source": [
    " - python used words (reserved words) are not allowed as variable name\n",
    " - there can be no space in variable name\n",
    " - variable name can not be started with a number\n",
    " - Special character are not allowed (@,#,$,%,^,&,)\n",
    " "
   ]
  },
  {
   "cell_type": "raw",
   "id": "e999a9ac",
   "metadata": {},
   "source": [
    "List of Reserved Words : \n",
    "\n",
    "False\tdef\tif\traise\n",
    "None\tdel\timport\treturn\n",
    "True\telif\tin\ttry\n",
    "and\telse\tis\twhile\n",
    "as\texcept\tlambda\twith\n",
    "assert\tfinally\tnonlocal\tyield\n",
    "break\tfor\tnot\n",
    "class\tform\tor\n",
    "continue\tglobal\tpass\n"
   ]
  },
  {
   "cell_type": "code",
   "execution_count": 57,
   "id": "517636ff",
   "metadata": {},
   "outputs": [
    {
     "ename": "SyntaxError",
     "evalue": "invalid syntax (3876829238.py, line 1)",
     "output_type": "error",
     "traceback": [
      "\u001b[1;36m  Cell \u001b[1;32mIn[57], line 1\u001b[1;36m\u001b[0m\n\u001b[1;33m    global = 123\u001b[0m\n\u001b[1;37m           ^\u001b[0m\n\u001b[1;31mSyntaxError\u001b[0m\u001b[1;31m:\u001b[0m invalid syntax\n"
     ]
    }
   ],
   "source": [
    "global = 123"
   ]
  },
  {
   "cell_type": "code",
   "execution_count": 58,
   "id": "43fa4b2d",
   "metadata": {},
   "outputs": [
    {
     "ename": "SyntaxError",
     "evalue": "invalid syntax (186596501.py, line 1)",
     "output_type": "error",
     "traceback": [
      "\u001b[1;36m  Cell \u001b[1;32mIn[58], line 1\u001b[1;36m\u001b[0m\n\u001b[1;33m    father name = \"Khalil Bhai\"\u001b[0m\n\u001b[1;37m           ^\u001b[0m\n\u001b[1;31mSyntaxError\u001b[0m\u001b[1;31m:\u001b[0m invalid syntax\n"
     ]
    }
   ],
   "source": [
    "father name = \"Khalil Bhai\""
   ]
  },
  {
   "cell_type": "code",
   "execution_count": 59,
   "id": "c3cb9f8a",
   "metadata": {},
   "outputs": [
    {
     "ename": "SyntaxError",
     "evalue": "invalid decimal literal (3060037044.py, line 1)",
     "output_type": "error",
     "traceback": [
      "\u001b[1;36m  Cell \u001b[1;32mIn[59], line 1\u001b[1;36m\u001b[0m\n\u001b[1;33m    1stprize = \"nasir\"\u001b[0m\n\u001b[1;37m    ^\u001b[0m\n\u001b[1;31mSyntaxError\u001b[0m\u001b[1;31m:\u001b[0m invalid decimal literal\n"
     ]
    }
   ],
   "source": [
    "1stprize = \"nasir\" "
   ]
  },
  {
   "cell_type": "code",
   "execution_count": 60,
   "id": "8678c7a8",
   "metadata": {},
   "outputs": [
    {
     "ename": "SyntaxError",
     "evalue": "cannot assign to expression here. Maybe you meant '==' instead of '='? (4128869008.py, line 1)",
     "output_type": "error",
     "traceback": [
      "\u001b[1;36m  Cell \u001b[1;32mIn[60], line 1\u001b[1;36m\u001b[0m\n\u001b[1;33m    n@me = \"Nasir\"\u001b[0m\n\u001b[1;37m    ^\u001b[0m\n\u001b[1;31mSyntaxError\u001b[0m\u001b[1;31m:\u001b[0m cannot assign to expression here. Maybe you meant '==' instead of '='?\n"
     ]
    }
   ],
   "source": [
    "n@me = \"Nasir\""
   ]
  },
  {
   "cell_type": "code",
   "execution_count": 62,
   "id": "d34488b3",
   "metadata": {},
   "outputs": [],
   "source": [
    "father_name = \"Khalil Bhai\"\n",
    "fatherName = \"Khalil Bhai\"\n",
    "fathername = \"Khalil Bhai\""
   ]
  },
  {
   "cell_type": "code",
   "execution_count": 63,
   "id": "151df08d",
   "metadata": {},
   "outputs": [],
   "source": [
    "my_first_book_on_coding_is_python_for_kids = \"Programming for kids\""
   ]
  },
  {
   "cell_type": "code",
   "execution_count": 64,
   "id": "76f2781e",
   "metadata": {},
   "outputs": [],
   "source": [
    "myFirstBookOnCodingIsPythonForKids=\"Programming for kids\""
   ]
  },
  {
   "cell_type": "markdown",
   "id": "dd21fbae",
   "metadata": {},
   "source": [
    "# Operators\n",
    "          Arithmetic  \n",
    "                   - Addition(+)\n",
    "                   - Subtraction(-)\n",
    "                   - Multiplication (*)\n",
    "                   - Float Division (/)\n",
    "                   - Integer Division(//)\n",
    "                   - Power (**)\n",
    "                   - Remainder (%)\n",
    "                   - Assignment (=)\n",
    "                   \n",
    "                   "
   ]
  },
  {
   "cell_type": "code",
   "execution_count": 66,
   "id": "ab22b040",
   "metadata": {},
   "outputs": [
    {
     "data": {
      "text/plain": [
       "16"
      ]
     },
     "execution_count": 66,
     "metadata": {},
     "output_type": "execute_result"
    }
   ],
   "source": [
    "12 + 4"
   ]
  },
  {
   "cell_type": "code",
   "execution_count": 67,
   "id": "6c84b294",
   "metadata": {},
   "outputs": [
    {
     "data": {
      "text/plain": [
       "556"
      ]
     },
     "execution_count": 67,
     "metadata": {},
     "output_type": "execute_result"
    }
   ],
   "source": [
    "1234- 678"
   ]
  },
  {
   "cell_type": "code",
   "execution_count": 68,
   "id": "3b9169b9",
   "metadata": {},
   "outputs": [
    {
     "data": {
      "text/plain": [
       "72"
      ]
     },
     "execution_count": 68,
     "metadata": {},
     "output_type": "execute_result"
    }
   ],
   "source": [
    "12 *6"
   ]
  },
  {
   "cell_type": "code",
   "execution_count": 70,
   "id": "f2e56dd9",
   "metadata": {},
   "outputs": [
    {
     "data": {
      "text/plain": [
       "2.4"
      ]
     },
     "execution_count": 70,
     "metadata": {},
     "output_type": "execute_result"
    }
   ],
   "source": [
    "12/5"
   ]
  },
  {
   "cell_type": "code",
   "execution_count": 71,
   "id": "4f471ecb",
   "metadata": {},
   "outputs": [
    {
     "data": {
      "text/plain": [
       "2"
      ]
     },
     "execution_count": 71,
     "metadata": {},
     "output_type": "execute_result"
    }
   ],
   "source": [
    "12//5"
   ]
  },
  {
   "cell_type": "code",
   "execution_count": 72,
   "id": "3599d7d8",
   "metadata": {},
   "outputs": [
    {
     "data": {
      "text/plain": [
       "8"
      ]
     },
     "execution_count": 72,
     "metadata": {},
     "output_type": "execute_result"
    }
   ],
   "source": [
    "2**3"
   ]
  },
  {
   "cell_type": "code",
   "execution_count": 75,
   "id": "50b78b70",
   "metadata": {},
   "outputs": [],
   "source": [
    "num1 = 23\n",
    "num2 = 34"
   ]
  },
  {
   "cell_type": "code",
   "execution_count": 76,
   "id": "205ba306",
   "metadata": {},
   "outputs": [
    {
     "data": {
      "text/plain": [
       "57"
      ]
     },
     "execution_count": 76,
     "metadata": {},
     "output_type": "execute_result"
    }
   ],
   "source": [
    "num1 + num2 "
   ]
  },
  {
   "cell_type": "code",
   "execution_count": 77,
   "id": "a6dff6ba",
   "metadata": {},
   "outputs": [
    {
     "data": {
      "text/plain": [
       "10.0"
      ]
     },
     "execution_count": 77,
     "metadata": {},
     "output_type": "execute_result"
    }
   ],
   "source": [
    "20/2"
   ]
  },
  {
   "cell_type": "code",
   "execution_count": 78,
   "id": "d6a019ae",
   "metadata": {},
   "outputs": [
    {
     "data": {
      "text/plain": [
       "0"
      ]
     },
     "execution_count": 78,
     "metadata": {},
     "output_type": "execute_result"
    }
   ],
   "source": [
    "20%2"
   ]
  },
  {
   "cell_type": "markdown",
   "id": "ff47e553",
   "metadata": {},
   "source": [
    "# Class3(28May2024)"
   ]
  },
  {
   "cell_type": "markdown",
   "id": "398e58a8",
   "metadata": {},
   "source": [
    "## Operator Ambiguity: Solving Expression "
   ]
  },
  {
   "cell_type": "markdown",
   "id": "e3d90a60",
   "metadata": {},
   "source": [
    "# Comparision Operators: \n",
    "     - == (equal to)\n",
    "     - != (not equal to)\n",
    "     - > greater than\n",
    "     - < less than\n",
    "     - >=\n",
    "     - <=\n",
    "     - in \n",
    "     - and \n",
    "     - or \n",
    "     - not\n",
    "    \n",
    "        "
   ]
  },
  {
   "cell_type": "code",
   "execution_count": 1,
   "id": "470e72c0",
   "metadata": {},
   "outputs": [
    {
     "data": {
      "text/plain": [
       "False"
      ]
     },
     "execution_count": 1,
     "metadata": {},
     "output_type": "execute_result"
    }
   ],
   "source": [
    "not(True)"
   ]
  },
  {
   "cell_type": "code",
   "execution_count": 3,
   "id": "8db1389d",
   "metadata": {},
   "outputs": [
    {
     "data": {
      "text/plain": [
       "True"
      ]
     },
     "execution_count": 3,
     "metadata": {},
     "output_type": "execute_result"
    }
   ],
   "source": [
    "\"i\" in \"Pakistan\""
   ]
  },
  {
   "cell_type": "code",
   "execution_count": 4,
   "id": "f8a8ea5d",
   "metadata": {},
   "outputs": [],
   "source": [
    "import math "
   ]
  },
  {
   "cell_type": "code",
   "execution_count": 7,
   "id": "739a1c13",
   "metadata": {},
   "outputs": [
    {
     "data": {
      "text/plain": [
       "12"
      ]
     },
     "execution_count": 7,
     "metadata": {},
     "output_type": "execute_result"
    }
   ],
   "source": [
    "math.floor(12.9)"
   ]
  },
  {
   "cell_type": "code",
   "execution_count": 8,
   "id": "8712566b",
   "metadata": {},
   "outputs": [
    {
     "data": {
      "text/plain": [
       "13"
      ]
     },
     "execution_count": 8,
     "metadata": {},
     "output_type": "execute_result"
    }
   ],
   "source": [
    "math.ceil(12.0001)"
   ]
  },
  {
   "cell_type": "code",
   "execution_count": 10,
   "id": "10d47731",
   "metadata": {},
   "outputs": [
    {
     "data": {
      "text/plain": [
       "2"
      ]
     },
     "execution_count": 10,
     "metadata": {},
     "output_type": "execute_result"
    }
   ],
   "source": [
    "12//5"
   ]
  },
  {
   "cell_type": "code",
   "execution_count": 11,
   "id": "d3af7571",
   "metadata": {},
   "outputs": [
    {
     "data": {
      "text/plain": [
       "True"
      ]
     },
     "execution_count": 11,
     "metadata": {},
     "output_type": "execute_result"
    }
   ],
   "source": [
    "3 != 3 or 5 > 4"
   ]
  },
  {
   "cell_type": "code",
   "execution_count": 12,
   "id": "41b92965",
   "metadata": {},
   "outputs": [
    {
     "data": {
      "text/plain": [
       "False"
      ]
     },
     "execution_count": 12,
     "metadata": {},
     "output_type": "execute_result"
    }
   ],
   "source": [
    "10 == 10 and 5 > 6"
   ]
  },
  {
   "cell_type": "code",
   "execution_count": 13,
   "id": "8f04f938",
   "metadata": {},
   "outputs": [
    {
     "data": {
      "text/plain": [
       "4.0"
      ]
     },
     "execution_count": 13,
     "metadata": {},
     "output_type": "execute_result"
    }
   ],
   "source": [
    "12/3"
   ]
  },
  {
   "cell_type": "code",
   "execution_count": 15,
   "id": "c0e450a5",
   "metadata": {},
   "outputs": [
    {
     "data": {
      "text/plain": [
       "2.0"
      ]
     },
     "execution_count": 15,
     "metadata": {},
     "output_type": "execute_result"
    }
   ],
   "source": [
    "12.0//5"
   ]
  },
  {
   "cell_type": "code",
   "execution_count": 16,
   "id": "93f56365",
   "metadata": {},
   "outputs": [
    {
     "data": {
      "text/plain": [
       "10.0"
      ]
     },
     "execution_count": 16,
     "metadata": {},
     "output_type": "execute_result"
    }
   ],
   "source": [
    "8 / 2 + 2 * 3"
   ]
  },
  {
   "cell_type": "code",
   "execution_count": 17,
   "id": "b946aff2",
   "metadata": {},
   "outputs": [
    {
     "data": {
      "text/plain": [
       "False"
      ]
     },
     "execution_count": 17,
     "metadata": {},
     "output_type": "execute_result"
    }
   ],
   "source": [
    "10 > 5 < 2"
   ]
  },
  {
   "cell_type": "code",
   "execution_count": 18,
   "id": "b5a66edf",
   "metadata": {},
   "outputs": [
    {
     "data": {
      "text/plain": [
       "'HelloHelloHello'"
      ]
     },
     "execution_count": 18,
     "metadata": {},
     "output_type": "execute_result"
    }
   ],
   "source": [
    "3 * \"Hello\""
   ]
  },
  {
   "cell_type": "code",
   "execution_count": 19,
   "id": "3a3b2faf",
   "metadata": {},
   "outputs": [
    {
     "data": {
      "text/plain": [
       "-3"
      ]
     },
     "execution_count": 19,
     "metadata": {},
     "output_type": "execute_result"
    }
   ],
   "source": [
    "-5 // 2"
   ]
  },
  {
   "cell_type": "code",
   "execution_count": 20,
   "id": "6d6c664c",
   "metadata": {},
   "outputs": [
    {
     "data": {
      "text/plain": [
       "18"
      ]
     },
     "execution_count": 20,
     "metadata": {},
     "output_type": "execute_result"
    }
   ],
   "source": [
    "8 % 3 + 2 ** 2 * (2 + 2)"
   ]
  },
  {
   "cell_type": "code",
   "execution_count": 22,
   "id": "22319060",
   "metadata": {},
   "outputs": [
    {
     "data": {
      "text/plain": [
       "8.4"
      ]
     },
     "execution_count": 22,
     "metadata": {},
     "output_type": "execute_result"
    }
   ],
   "source": [
    "(12+30)/5"
   ]
  },
  {
   "cell_type": "code",
   "execution_count": 23,
   "id": "ce1841e8",
   "metadata": {},
   "outputs": [
    {
     "data": {
      "text/plain": [
       "5.0"
      ]
     },
     "execution_count": 23,
     "metadata": {},
     "output_type": "execute_result"
    }
   ],
   "source": [
    "(3 + 2) * 4 / 2 ** 2"
   ]
  },
  {
   "cell_type": "code",
   "execution_count": 24,
   "id": "3b761c02",
   "metadata": {},
   "outputs": [
    {
     "name": "stdout",
     "output_type": "stream",
     "text": [
      "10\n"
     ]
    }
   ],
   "source": [
    "x = 5\n",
    "y = x * 2 if x < 10 else x / 2\n",
    "print(y)"
   ]
  },
  {
   "cell_type": "code",
   "execution_count": 29,
   "id": "de431db2",
   "metadata": {},
   "outputs": [
    {
     "name": "stdout",
     "output_type": "stream",
     "text": [
      "Please enter a value for x2\n",
      "4\n"
     ]
    }
   ],
   "source": [
    "x =int(input(\"Please enter a value for x\"))\n",
    "y = x * 2 if x < 10 else x / 2\n",
    "print(y)"
   ]
  },
  {
   "cell_type": "code",
   "execution_count": 30,
   "id": "0e462090",
   "metadata": {},
   "outputs": [
    {
     "data": {
      "text/plain": [
       "2.56"
      ]
     },
     "execution_count": 30,
     "metadata": {},
     "output_type": "execute_result"
    }
   ],
   "source": [
    "round(2.564, 2)"
   ]
  },
  {
   "cell_type": "markdown",
   "id": "0034f534",
   "metadata": {},
   "source": [
    "# Truthy "
   ]
  },
  {
   "cell_type": "code",
   "execution_count": 34,
   "id": "df8452bd",
   "metadata": {},
   "outputs": [
    {
     "data": {
      "text/plain": [
       "12"
      ]
     },
     "execution_count": 34,
     "metadata": {},
     "output_type": "execute_result"
    }
   ],
   "source": [
    "12 or 20 or 3 or 5 or 678"
   ]
  },
  {
   "cell_type": "code",
   "execution_count": 33,
   "id": "e3de722d",
   "metadata": {},
   "outputs": [
    {
     "data": {
      "text/plain": [
       "5"
      ]
     },
     "execution_count": 33,
     "metadata": {},
     "output_type": "execute_result"
    }
   ],
   "source": [
    "12 and 20 and 23 and 1 and 5"
   ]
  },
  {
   "cell_type": "markdown",
   "id": "de64be2d",
   "metadata": {},
   "source": [
    "# Conditional Statments / Control Flow\n",
    "  - if else\n",
    "  - if elif else\n",
    "  "
   ]
  },
  {
   "cell_type": "code",
   "execution_count": 37,
   "id": "87c4ec06",
   "metadata": {},
   "outputs": [
    {
     "name": "stdout",
     "output_type": "stream",
     "text": [
      "Khana Pakana hy\n",
      "Python Parhni hy\n"
     ]
    }
   ],
   "source": [
    "a =10\n",
    "b= 20 \n",
    "\n",
    "if a < b:\n",
    "    print(\"Khana Pakana hy\")\n",
    "    print(\"Python Parhni hy\")"
   ]
  },
  {
   "cell_type": "code",
   "execution_count": 38,
   "id": "ba6c8310",
   "metadata": {},
   "outputs": [],
   "source": [
    "a =100\n",
    "b= 20 \n",
    "\n",
    "if a < b:\n",
    "    print(\"Khana Pakana hy\")\n",
    "    print(\"Python Parhni hy\")"
   ]
  },
  {
   "cell_type": "code",
   "execution_count": 39,
   "id": "3a5622a5",
   "metadata": {},
   "outputs": [
    {
     "name": "stdout",
     "output_type": "stream",
     "text": [
      "Khana Pakana hy\n",
      "Python Parhni hy\n"
     ]
    }
   ],
   "source": [
    "a =10\n",
    "b= 20 \n",
    "\n",
    "if a < b:\n",
    "    print(\"Khana Pakana hy\")\n",
    "    print(\"Python Parhni hy\")\n",
    "else:\n",
    "    print(\"Sojana\")"
   ]
  },
  {
   "cell_type": "code",
   "execution_count": 40,
   "id": "7d12214a",
   "metadata": {},
   "outputs": [
    {
     "name": "stdout",
     "output_type": "stream",
     "text": [
      "Sojana\n"
     ]
    }
   ],
   "source": [
    "a =101\n",
    "b= 20 \n",
    "\n",
    "if a < b:\n",
    "    print(\"Khana Pakana hy\")\n",
    "    print(\"Python Parhni hy\")\n",
    "else:\n",
    "    print(\"Sojana\")"
   ]
  },
  {
   "cell_type": "code",
   "execution_count": 41,
   "id": "aeb66e80",
   "metadata": {},
   "outputs": [
    {
     "name": "stdout",
     "output_type": "stream",
     "text": [
      "Anday kia hisab hen40\n"
     ]
    },
    {
     "ename": "TypeError",
     "evalue": "'<' not supported between instances of 'str' and 'int'",
     "output_type": "error",
     "traceback": [
      "\u001b[1;31m---------------------------------------------------------------------------\u001b[0m",
      "\u001b[1;31mTypeError\u001b[0m                                 Traceback (most recent call last)",
      "Cell \u001b[1;32mIn[41], line 3\u001b[0m\n\u001b[0;32m      1\u001b[0m price \u001b[38;5;241m=\u001b[39m \u001b[38;5;28minput\u001b[39m(\u001b[38;5;124m\"\u001b[39m\u001b[38;5;124mAnday kia hisab hen\u001b[39m\u001b[38;5;124m\"\u001b[39m)\n\u001b[1;32m----> 3\u001b[0m \u001b[38;5;28;01mif\u001b[39;00m price \u001b[38;5;241m<\u001b[39m\u001b[38;5;241m20\u001b[39m:\n\u001b[0;32m      4\u001b[0m     \u001b[38;5;28mprint\u001b[39m(\u001b[38;5;124m\"\u001b[39m\u001b[38;5;124mEk darjan dedo\u001b[39m\u001b[38;5;124m\"\u001b[39m)\n\u001b[0;32m      5\u001b[0m \u001b[38;5;28;01melse\u001b[39;00m:\n",
      "\u001b[1;31mTypeError\u001b[0m: '<' not supported between instances of 'str' and 'int'"
     ]
    }
   ],
   "source": [
    "price = input(\"Anday kia hisab hen\")\n",
    "\n",
    "if price <20:\n",
    "    print(\"Ek darjan dedo\")\n",
    "else:\n",
    "    print(\"Ek dedo\")"
   ]
  },
  {
   "cell_type": "code",
   "execution_count": 44,
   "id": "947ec56a",
   "metadata": {},
   "outputs": [
    {
     "name": "stdout",
     "output_type": "stream",
     "text": [
      "Anday kia hisab hen56\n",
      "<class 'str'>\n"
     ]
    },
    {
     "data": {
      "text/plain": [
       "'56'"
      ]
     },
     "execution_count": 44,
     "metadata": {},
     "output_type": "execute_result"
    }
   ],
   "source": [
    "price = input(\"Anday kia hisab hen\")\n",
    "\n",
    "print(type(price))\n",
    "price\n"
   ]
  },
  {
   "cell_type": "code",
   "execution_count": 43,
   "id": "ff26a772",
   "metadata": {},
   "outputs": [
    {
     "data": {
      "text/plain": [
       "45"
      ]
     },
     "execution_count": 43,
     "metadata": {},
     "output_type": "execute_result"
    }
   ],
   "source": [
    "int(\"45\")"
   ]
  },
  {
   "cell_type": "code",
   "execution_count": 46,
   "id": "0a880a9d",
   "metadata": {},
   "outputs": [
    {
     "name": "stdout",
     "output_type": "stream",
     "text": [
      "Anday kia hisab hen10\n",
      "Ek darjan dedo\n"
     ]
    }
   ],
   "source": [
    "price = int(input(\"Anday kia hisab hen\"))\n",
    "if price <20:\n",
    "    print(\"Ek darjan dedo\")\n",
    "else:\n",
    "    print(\"Ek dedo\")"
   ]
  },
  {
   "cell_type": "code",
   "execution_count": 48,
   "id": "0590056e",
   "metadata": {},
   "outputs": [
    {
     "name": "stdout",
     "output_type": "stream",
     "text": [
      "Enter your marks45\n",
      "Fail\n"
     ]
    }
   ],
   "source": [
    "marks = int(input(\"Enter your marks\"))\n",
    "\n",
    "if marks<50:\n",
    "    print(\"Fail\")\n",
    "else:\n",
    "    print(\"Pass\")"
   ]
  },
  {
   "cell_type": "code",
   "execution_count": 50,
   "id": "0b484533",
   "metadata": {},
   "outputs": [
    {
     "name": "stdout",
     "output_type": "stream",
     "text": [
      "Tamater kia kilo hen200\n",
      "dahi kka hisab hy80\n",
      "1 kilo dahi dedo\n"
     ]
    }
   ],
   "source": [
    "price = int(input(\"Tamater kia kilo hen\"))\n",
    "dahi_price = int(input(\"dahi kka hisab hy\"))\n",
    "\n",
    "if price <100:\n",
    "    print(\"2 Kilo dedo\")\n",
    "elif dahi_price <100:\n",
    "    print(\"1 kilo dahi dedo\")\n",
    "else:\n",
    "    print(\"Wapas ajana\")"
   ]
  },
  {
   "cell_type": "markdown",
   "id": "90ca8412",
   "metadata": {},
   "source": [
    "# Class4(30May2024)"
   ]
  },
  {
   "cell_type": "code",
   "execution_count": 2,
   "id": "11c6a28c",
   "metadata": {},
   "outputs": [
    {
     "name": "stdout",
     "output_type": "stream",
     "text": [
      "Enter purchase amt2000\n",
      "You 5% discount\n"
     ]
    }
   ],
   "source": [
    "purchase_amt = int(input(\"Enter purchase amt\"))\n",
    "\n",
    "if purchase_amt>=10000:\n",
    "    print(\"You got 10% discount\")\n",
    "else:\n",
    "    print(\"You 5% discount\")"
   ]
  },
  {
   "cell_type": "code",
   "execution_count": 14,
   "id": "d25e73ee",
   "metadata": {},
   "outputs": [
    {
     "name": "stdout",
     "output_type": "stream",
     "text": [
      "Enter shoes price1\n",
      "Enter glasses price2\n",
      "Enter shirt price3\n",
      "Enter watch price4\n",
      "Enter cap price5\n",
      "You are not eligible for discount\n"
     ]
    },
    {
     "ename": "NameError",
     "evalue": "name 'discount' is not defined",
     "output_type": "error",
     "traceback": [
      "\u001b[1;31m---------------------------------------------------------------------------\u001b[0m",
      "\u001b[1;31mNameError\u001b[0m                                 Traceback (most recent call last)",
      "Cell \u001b[1;32mIn[14], line 26\u001b[0m\n\u001b[0;32m     19\u001b[0m \u001b[38;5;28;01melse\u001b[39;00m:\n\u001b[0;32m     20\u001b[0m     \u001b[38;5;28mprint\u001b[39m(\u001b[38;5;124m\"\u001b[39m\u001b[38;5;124mYou are not eligible for discount\u001b[39m\u001b[38;5;124m\"\u001b[39m)\n\u001b[0;32m     22\u001b[0m \u001b[38;5;28mprint\u001b[39m(\u001b[38;5;124mf\u001b[39m\u001b[38;5;124m\"\"\"\u001b[39m\n\u001b[0;32m     23\u001b[0m \u001b[38;5;124m            Thank you for shopping!!!\u001b[39m\n\u001b[0;32m     24\u001b[0m \u001b[38;5;124m            \u001b[39m\n\u001b[0;32m     25\u001b[0m \u001b[38;5;124m            Total: \u001b[39m\u001b[38;5;132;01m{\u001b[39;00mtotal\u001b[38;5;132;01m}\u001b[39;00m\n\u001b[1;32m---> 26\u001b[0m \u001b[38;5;124m            Discount: \u001b[39m\u001b[38;5;132;01m{\u001b[39;00mdiscount\u001b[38;5;132;01m}\u001b[39;00m\n\u001b[0;32m     27\u001b[0m \u001b[38;5;124m            Payable: \u001b[39m\u001b[38;5;132;01m{\u001b[39;00mtotal\u001b[38;5;241m-\u001b[39mdiscount\u001b[38;5;132;01m}\u001b[39;00m\n\u001b[0;32m     28\u001b[0m \n\u001b[0;32m     29\u001b[0m \u001b[38;5;124m \u001b[39m\u001b[38;5;124m\"\"\"\u001b[39m)\n",
      "\u001b[1;31mNameError\u001b[0m: name 'discount' is not defined"
     ]
    }
   ],
   "source": [
    "cost_shoes = float(input('Enter shoes price'))\n",
    "cost_glasses = float(input('Enter glasses price'))\n",
    "cost_shirt = float(input('Enter shirt price'))\n",
    "cost_watch = float(input('Enter watch price'))\n",
    "cost_cap = float(input('Enter cap price'))\n",
    "\n",
    "\n",
    "total  = cost_cap+cost_glasses+cost_shirt+cost_watch+cost_shoes\n",
    "# discount = 0\n",
    "\n",
    "if total>=15000:\n",
    "    discount=total*0.15\n",
    "elif total>=10000:\n",
    "    discount=total*0.10\n",
    "elif total>=5000:\n",
    "    discount=total*0.05\n",
    "elif total>=1000:\n",
    "    discount=total*.01\n",
    "else:\n",
    "    print(\"You are not eligible for discount\")\n",
    "    \n",
    "print(f\"\"\"\n",
    "            Thank you for shopping!!!\n",
    "            \n",
    "            Total: {total}\n",
    "            Discount: {discount}\n",
    "            Payable: {total-discount}\n",
    "\n",
    " \"\"\")"
   ]
  },
  {
   "cell_type": "code",
   "execution_count": 12,
   "id": "d1832f96",
   "metadata": {},
   "outputs": [],
   "source": [
    "del discount"
   ]
  },
  {
   "cell_type": "code",
   "execution_count": 13,
   "id": "a1bbc72a",
   "metadata": {},
   "outputs": [
    {
     "ename": "NameError",
     "evalue": "name 'discount' is not defined",
     "output_type": "error",
     "traceback": [
      "\u001b[1;31m---------------------------------------------------------------------------\u001b[0m",
      "\u001b[1;31mNameError\u001b[0m                                 Traceback (most recent call last)",
      "Cell \u001b[1;32mIn[13], line 1\u001b[0m\n\u001b[1;32m----> 1\u001b[0m discount\n",
      "\u001b[1;31mNameError\u001b[0m: name 'discount' is not defined"
     ]
    }
   ],
   "source": [
    "discount"
   ]
  },
  {
   "cell_type": "code",
   "execution_count": 5,
   "id": "7551fefa",
   "metadata": {},
   "outputs": [
    {
     "data": {
      "text/plain": [
       "12"
      ]
     },
     "execution_count": 5,
     "metadata": {},
     "output_type": "execute_result"
    }
   ],
   "source": [
    "int('12')"
   ]
  },
  {
   "cell_type": "code",
   "execution_count": 6,
   "id": "3272a5f8",
   "metadata": {},
   "outputs": [
    {
     "ename": "ValueError",
     "evalue": "invalid literal for int() with base 10: '12.5'",
     "output_type": "error",
     "traceback": [
      "\u001b[1;31m---------------------------------------------------------------------------\u001b[0m",
      "\u001b[1;31mValueError\u001b[0m                                Traceback (most recent call last)",
      "Cell \u001b[1;32mIn[6], line 1\u001b[0m\n\u001b[1;32m----> 1\u001b[0m \u001b[38;5;28mint\u001b[39m(\u001b[38;5;124m'\u001b[39m\u001b[38;5;124m12.5\u001b[39m\u001b[38;5;124m'\u001b[39m)\n",
      "\u001b[1;31mValueError\u001b[0m: invalid literal for int() with base 10: '12.5'"
     ]
    }
   ],
   "source": [
    "int('12.5')"
   ]
  },
  {
   "cell_type": "code",
   "execution_count": 7,
   "id": "7fbc7f1a",
   "metadata": {},
   "outputs": [
    {
     "data": {
      "text/plain": [
       "12.5"
      ]
     },
     "execution_count": 7,
     "metadata": {},
     "output_type": "execute_result"
    }
   ],
   "source": [
    "float('12.5')"
   ]
  },
  {
   "cell_type": "markdown",
   "id": "bda06450",
   "metadata": {},
   "source": [
    "# String : \n",
    "    - Every entity in Python is object.\n",
    "    - An object belongs to a class\n",
    "    - Class contains methods and properties"
   ]
  },
  {
   "cell_type": "code",
   "execution_count": 16,
   "id": "c22bdba2",
   "metadata": {},
   "outputs": [
    {
     "name": "stdout",
     "output_type": "stream",
     "text": [
      "<class 'str'>\n"
     ]
    }
   ],
   "source": [
    "name = \"Ahsun Khan\"\n",
    "print(type(name))\n",
    "\n",
    "# it is an object of string class"
   ]
  },
  {
   "cell_type": "code",
   "execution_count": 17,
   "id": "cdf59140",
   "metadata": {},
   "outputs": [
    {
     "data": {
      "text/plain": [
       "'Ahsun khan'"
      ]
     },
     "execution_count": 17,
     "metadata": {},
     "output_type": "execute_result"
    }
   ],
   "source": [
    "name.capitalize()"
   ]
  },
  {
   "cell_type": "code",
   "execution_count": 18,
   "id": "d52e2507",
   "metadata": {},
   "outputs": [
    {
     "data": {
      "text/plain": [
       "'AHSUN KHAN'"
      ]
     },
     "execution_count": 18,
     "metadata": {},
     "output_type": "execute_result"
    }
   ],
   "source": [
    "name.upper()"
   ]
  },
  {
   "cell_type": "code",
   "execution_count": 19,
   "id": "908ac7fa",
   "metadata": {},
   "outputs": [
    {
     "data": {
      "text/plain": [
       "'ahsun khan'"
      ]
     },
     "execution_count": 19,
     "metadata": {},
     "output_type": "execute_result"
    }
   ],
   "source": [
    "name.lower()"
   ]
  },
  {
   "cell_type": "code",
   "execution_count": 20,
   "id": "c7557f40",
   "metadata": {},
   "outputs": [],
   "source": [
    "name = 100"
   ]
  },
  {
   "cell_type": "markdown",
   "id": "b2a1ca72",
   "metadata": {},
   "source": [
    "### string contenation( join)"
   ]
  },
  {
   "cell_type": "code",
   "execution_count": 36,
   "id": "2563351f",
   "metadata": {},
   "outputs": [],
   "source": [
    "first_name = \"nasir\"\n",
    "last_name = 'hussain'\n",
    "\n",
    "age  = 20"
   ]
  },
  {
   "cell_type": "code",
   "execution_count": 31,
   "id": "b84c56e6",
   "metadata": {},
   "outputs": [
    {
     "data": {
      "text/plain": [
       "'nasir'"
      ]
     },
     "execution_count": 31,
     "metadata": {},
     "output_type": "execute_result"
    }
   ],
   "source": [
    "first_name"
   ]
  },
  {
   "cell_type": "code",
   "execution_count": 32,
   "id": "0e11add6",
   "metadata": {},
   "outputs": [
    {
     "data": {
      "text/plain": [
       "'hussain'"
      ]
     },
     "execution_count": 32,
     "metadata": {},
     "output_type": "execute_result"
    }
   ],
   "source": [
    "last_name"
   ]
  },
  {
   "cell_type": "code",
   "execution_count": 33,
   "id": "19449f1d",
   "metadata": {},
   "outputs": [
    {
     "data": {
      "text/plain": [
       "'nasirhussain'"
      ]
     },
     "execution_count": 33,
     "metadata": {},
     "output_type": "execute_result"
    }
   ],
   "source": [
    "first_name+last_name"
   ]
  },
  {
   "cell_type": "code",
   "execution_count": 38,
   "id": "13166ab4",
   "metadata": {},
   "outputs": [
    {
     "data": {
      "text/plain": [
       "'nasir hussain20'"
      ]
     },
     "execution_count": 38,
     "metadata": {},
     "output_type": "execute_result"
    }
   ],
   "source": [
    "first_name+\" \"+last_name + str(age)"
   ]
  },
  {
   "cell_type": "markdown",
   "id": "34113718",
   "metadata": {},
   "source": [
    "### My name is Nasir Hussain, And I am 50 years old."
   ]
  },
  {
   "cell_type": "code",
   "execution_count": 41,
   "id": "c4e517bc",
   "metadata": {},
   "outputs": [
    {
     "name": "stdout",
     "output_type": "stream",
     "text": [
      "My name is Nasir Hussain, And I am 20 years old.\n"
     ]
    }
   ],
   "source": [
    "print(\"My name is \"+first_name.capitalize()+\" \"+last_name.capitalize()+\", And I am \"+str(age)+\" years old.\")"
   ]
  },
  {
   "cell_type": "markdown",
   "id": "8675a9e7",
   "metadata": {},
   "source": [
    "# String Format"
   ]
  },
  {
   "cell_type": "code",
   "execution_count": 47,
   "id": "6c2d2abe",
   "metadata": {},
   "outputs": [
    {
     "name": "stdout",
     "output_type": "stream",
     "text": [
      "My name is Nasir Hussain, And I am 20 years old\n"
     ]
    }
   ],
   "source": [
    "print(\"My name is {} {}, And I am {} years old\".format(first_name.capitalize(), last_name.capitalize(), age))"
   ]
  },
  {
   "cell_type": "code",
   "execution_count": 46,
   "id": "c5b432d5",
   "metadata": {},
   "outputs": [
    {
     "data": {
      "text/plain": [
       "'My name is Nasir Hussain, And I am 20 years old'"
      ]
     },
     "execution_count": 46,
     "metadata": {},
     "output_type": "execute_result"
    }
   ],
   "source": [
    "\"My name is {} {}, And I am {} years old\".format(first_name.capitalize(), last_name.capitalize(), age)"
   ]
  },
  {
   "cell_type": "code",
   "execution_count": 50,
   "id": "3a485872",
   "metadata": {},
   "outputs": [
    {
     "name": "stdout",
     "output_type": "stream",
     "text": [
      "My name is {first_name.capitalize()} {last_name.capitalize()}, And I am {age} years old\n"
     ]
    }
   ],
   "source": [
    "print(\"My name is {first_name.capitalize()} {last_name.capitalize()}, And I am {age} years old\")"
   ]
  },
  {
   "cell_type": "code",
   "execution_count": 51,
   "id": "f4369aad",
   "metadata": {},
   "outputs": [
    {
     "name": "stdout",
     "output_type": "stream",
     "text": [
      "Please tell me your name:    Ahsun Ali\n",
      "Tell me your age    :    21\n",
      "Tell me your course   :    Python Programming \n",
      "Input tell me your campus: Head Office \n",
      "Tell mr your student id:   12345\n",
      "\n",
      "           Saylani Mass IT Training Programm\n",
      "           __________________________________\n",
      "           \n",
      "                    Student Identity Card\n",
      "                    =====================\n",
      "            Student Name:  Ahsun Ali \n",
      "            Course      :  Python Programming \n",
      "            Student_Id  :  12345\n",
      "            Campus      :  Head Office \n",
      "            Age         :  21\n",
      "            \n",
      "            \n",
      "            Note: Kisi ko mile to karebi letter box me dale den              \n",
      "                    \n",
      "\n",
      "\n",
      "\n",
      "\n",
      "\n",
      "\n"
     ]
    }
   ],
   "source": [
    "name= input(\"Please tell me your name:    \")\n",
    "age = int(input(\"Tell me your age    :    \"))\n",
    "course= input(\"Tell me your course   :    \")\n",
    "campus = input(\"Input tell me your campus: \")\n",
    "st_id  = input(\"Tell mr your student id:   \")\n",
    "\n",
    "\n",
    "print(f\"\"\"\n",
    "           Saylani Mass IT Training Programm\n",
    "           __________________________________\n",
    "           \n",
    "                    Student Identity Card\n",
    "                    =====================\n",
    "            Student Name:  {name} \n",
    "            Course      :  {course}\n",
    "            Student_Id  :  {st_id}\n",
    "            Campus      :  {campus}\n",
    "            Age         :  {age}\n",
    "            \n",
    "            \n",
    "            Note: Kisi ko mile to karebi letter box me dale den       \n",
    "                    \n",
    "\n",
    "\n",
    "\n",
    "\n",
    "\n",
    "\"\"\")"
   ]
  },
  {
   "cell_type": "code",
   "execution_count": 57,
   "id": "9e5ade80",
   "metadata": {},
   "outputs": [],
   "source": [
    "text = \"My name is Nasir Hussain, And I am 20 years old.\""
   ]
  },
  {
   "cell_type": "code",
   "execution_count": 58,
   "id": "bf1b249a",
   "metadata": {},
   "outputs": [
    {
     "data": {
      "text/plain": [
       "'My name is nasir hussain, and i am 20 years old.'"
      ]
     },
     "execution_count": 58,
     "metadata": {},
     "output_type": "execute_result"
    }
   ],
   "source": [
    "text.capitalize()"
   ]
  },
  {
   "cell_type": "code",
   "execution_count": 59,
   "id": "dd626e31",
   "metadata": {},
   "outputs": [
    {
     "data": {
      "text/plain": [
       "5"
      ]
     },
     "execution_count": 59,
     "metadata": {},
     "output_type": "execute_result"
    }
   ],
   "source": [
    "text.count(\"a\")"
   ]
  },
  {
   "cell_type": "code",
   "execution_count": 56,
   "id": "64768ace",
   "metadata": {},
   "outputs": [
    {
     "data": {
      "text/plain": [
       "2"
      ]
     },
     "execution_count": 56,
     "metadata": {},
     "output_type": "execute_result"
    }
   ],
   "source": [
    "text.count(\"am\")"
   ]
  },
  {
   "cell_type": "code",
   "execution_count": 61,
   "id": "a71155cd",
   "metadata": {},
   "outputs": [
    {
     "data": {
      "text/plain": [
       "True"
      ]
     },
     "execution_count": 61,
     "metadata": {},
     "output_type": "execute_result"
    }
   ],
   "source": [
    "text.endswith(\"d.\")"
   ]
  },
  {
   "cell_type": "code",
   "execution_count": 62,
   "id": "b6176006",
   "metadata": {},
   "outputs": [
    {
     "data": {
      "text/plain": [
       "False"
      ]
     },
     "execution_count": 62,
     "metadata": {},
     "output_type": "execute_result"
    }
   ],
   "source": [
    "text.startswith('m')"
   ]
  },
  {
   "cell_type": "code",
   "execution_count": 64,
   "id": "bb3a97b1",
   "metadata": {},
   "outputs": [
    {
     "name": "stdout",
     "output_type": "stream",
     "text": [
      "Head Office \n"
     ]
    }
   ],
   "source": [
    "print(campus)"
   ]
  },
  {
   "cell_type": "code",
   "execution_count": 65,
   "id": "f6a53010",
   "metadata": {},
   "outputs": [
    {
     "data": {
      "text/plain": [
       "False"
      ]
     },
     "execution_count": 65,
     "metadata": {},
     "output_type": "execute_result"
    }
   ],
   "source": [
    "campus==\"Head Office\""
   ]
  },
  {
   "cell_type": "code",
   "execution_count": 66,
   "id": "b9e09455",
   "metadata": {},
   "outputs": [
    {
     "data": {
      "text/plain": [
       "'Head Office '"
      ]
     },
     "execution_count": 66,
     "metadata": {},
     "output_type": "execute_result"
    }
   ],
   "source": [
    "campus.lstrip()"
   ]
  },
  {
   "cell_type": "code",
   "execution_count": 67,
   "id": "638596b8",
   "metadata": {},
   "outputs": [
    {
     "data": {
      "text/plain": [
       "'Head Office'"
      ]
     },
     "execution_count": 67,
     "metadata": {},
     "output_type": "execute_result"
    }
   ],
   "source": [
    "campus.rstrip()"
   ]
  },
  {
   "cell_type": "code",
   "execution_count": 71,
   "id": "8796ca1d",
   "metadata": {},
   "outputs": [
    {
     "data": {
      "text/plain": [
       "'Head Office'"
      ]
     },
     "execution_count": 71,
     "metadata": {},
     "output_type": "execute_result"
    }
   ],
   "source": [
    "campus.strip()"
   ]
  },
  {
   "cell_type": "markdown",
   "id": "9bf71d97",
   "metadata": {},
   "source": [
    "# String is Immutable: unchangeable"
   ]
  },
  {
   "cell_type": "code",
   "execution_count": 69,
   "id": "158fa1a9",
   "metadata": {},
   "outputs": [
    {
     "data": {
      "text/plain": [
       "'Head Office '"
      ]
     },
     "execution_count": 69,
     "metadata": {},
     "output_type": "execute_result"
    }
   ],
   "source": [
    "campus"
   ]
  },
  {
   "cell_type": "code",
   "execution_count": 76,
   "id": "fdc9d6d1",
   "metadata": {},
   "outputs": [
    {
     "data": {
      "text/plain": [
       "True"
      ]
     },
     "execution_count": 76,
     "metadata": {},
     "output_type": "execute_result"
    }
   ],
   "source": [
    "\"a\".isalnum()"
   ]
  },
  {
   "cell_type": "markdown",
   "id": "319a0386",
   "metadata": {},
   "source": [
    "# Class5 Assignment (4June2024)\n"
   ]
  },
  {
   "cell_type": "markdown",
   "id": "5d04b599",
   "metadata": {},
   "source": [
    "# Class6(6June2024)"
   ]
  },
  {
   "cell_type": "code",
   "execution_count": 2,
   "id": "e02398e3",
   "metadata": {},
   "outputs": [],
   "source": [
    "num1 = 100"
   ]
  },
  {
   "cell_type": "code",
   "execution_count": 3,
   "id": "4df136e2",
   "metadata": {},
   "outputs": [],
   "source": [
    "num2 = 200"
   ]
  },
  {
   "cell_type": "code",
   "execution_count": 6,
   "id": "9074b6a2",
   "metadata": {},
   "outputs": [
    {
     "name": "stdout",
     "output_type": "stream",
     "text": [
      "Farmish k lie pehle dulha bano\n"
     ]
    }
   ],
   "source": [
    "if num1 > 100:    \n",
    "    print(\"Khana Khao\")\n",
    "    print(\"Mohsin Parhlo\")\n",
    "    print(\"Chai Banao Begum\")\n",
    "\n",
    "else:\n",
    "    print(\"Farmish k lie pehle dulha bano\")\n"
   ]
  },
  {
   "cell_type": "code",
   "execution_count": 22,
   "id": "390de88d",
   "metadata": {},
   "outputs": [
    {
     "name": "stdout",
     "output_type": "stream",
     "text": [
      "6 anday dedo\n"
     ]
    }
   ],
   "source": [
    "anda  = 25\n",
    "\n",
    "if anda <=25:\n",
    "    print(\"6 anday dedo\")\n",
    "else:\n",
    "    print(\"1 anda dedo\")"
   ]
  },
  {
   "cell_type": "code",
   "execution_count": 21,
   "id": "665efc60",
   "metadata": {},
   "outputs": [
    {
     "name": "stdout",
     "output_type": "stream",
     "text": [
      "Please tell me 1 anda price50\n"
     ]
    },
    {
     "ename": "TypeError",
     "evalue": "'<' not supported between instances of 'str' and 'int'",
     "output_type": "error",
     "traceback": [
      "\u001b[1;31m---------------------------------------------------------------------------\u001b[0m",
      "\u001b[1;31mTypeError\u001b[0m                                 Traceback (most recent call last)",
      "Cell \u001b[1;32mIn[21], line 2\u001b[0m\n\u001b[0;32m      1\u001b[0m anda_price \u001b[38;5;241m=\u001b[39m \u001b[38;5;28minput\u001b[39m(\u001b[38;5;124m\"\u001b[39m\u001b[38;5;124mPlease tell me 1 anda price\u001b[39m\u001b[38;5;124m\"\u001b[39m)\n\u001b[1;32m----> 2\u001b[0m \u001b[38;5;28;01mif\u001b[39;00m anda_price\u001b[38;5;241m<\u001b[39m\u001b[38;5;241m20\u001b[39m:\n\u001b[0;32m      3\u001b[0m     \u001b[38;5;28mprint\u001b[39m(\u001b[38;5;124m\"\u001b[39m\u001b[38;5;124m1 dozen\u001b[39m\u001b[38;5;124m\"\u001b[39m)\n\u001b[0;32m      4\u001b[0m \u001b[38;5;28;01melse\u001b[39;00m:\n",
      "\u001b[1;31mTypeError\u001b[0m: '<' not supported between instances of 'str' and 'int'"
     ]
    }
   ],
   "source": [
    "anda_price = input(\"Please tell me 1 anda price\")\n",
    "if anda_price<20:\n",
    "    print(\"1 dozen\")\n",
    "else:\n",
    "    print(\"1\")"
   ]
  },
  {
   "cell_type": "code",
   "execution_count": 27,
   "id": "03936ace",
   "metadata": {},
   "outputs": [
    {
     "name": "stdout",
     "output_type": "stream",
     "text": [
      "Tell me your age4\n",
      "You have to wait 14.0 years\n"
     ]
    }
   ],
   "source": [
    "age = float(input(\"Tell me your age\"))\n",
    "if age>=18:\n",
    "    print(\"Eligible for CNIC\")\n",
    "else:\n",
    "    print(f\"You have to wait {18-age} years\")\n",
    "    "
   ]
  },
  {
   "cell_type": "markdown",
   "id": "51bb2eb9",
   "metadata": {},
   "source": [
    "# Numbers\n",
    "     - Whole Numbers   {0,1,2,3,4,5,6..... }\n",
    "              - integers (-1, 2, 5, ...} \n",
    "                 - int\n",
    "     \n",
    "     - Decimal Numbers {1.0,2.0,3.0,......}\n",
    "              - floating point\n",
    "                  float\n",
    "              \n",
    "                  \n",
    "                      "
   ]
  },
  {
   "cell_type": "code",
   "execution_count": 31,
   "id": "d1732501",
   "metadata": {},
   "outputs": [
    {
     "data": {
      "text/plain": [
       "int"
      ]
     },
     "execution_count": 31,
     "metadata": {},
     "output_type": "execute_result"
    }
   ],
   "source": [
    "type(45)"
   ]
  },
  {
   "cell_type": "code",
   "execution_count": 32,
   "id": "75479113",
   "metadata": {},
   "outputs": [
    {
     "data": {
      "text/plain": [
       "float"
      ]
     },
     "execution_count": 32,
     "metadata": {},
     "output_type": "execute_result"
    }
   ],
   "source": [
    "type(32.6)"
   ]
  },
  {
   "cell_type": "markdown",
   "id": "b2b2df3e",
   "metadata": {},
   "source": [
    "# Type Casting"
   ]
  },
  {
   "cell_type": "code",
   "execution_count": 33,
   "id": "c217a10d",
   "metadata": {},
   "outputs": [
    {
     "name": "stdout",
     "output_type": "stream",
     "text": [
      "30.6 <class 'float'>\n"
     ]
    }
   ],
   "source": [
    "age  = 30.6\n",
    "print(age,type(age))"
   ]
  },
  {
   "cell_type": "code",
   "execution_count": 34,
   "id": "573db804",
   "metadata": {},
   "outputs": [
    {
     "name": "stdout",
     "output_type": "stream",
     "text": [
      "30 <class 'int'>\n"
     ]
    }
   ],
   "source": [
    "age  = int(age)\n",
    "print(age,type(age))"
   ]
  },
  {
   "cell_type": "code",
   "execution_count": 38,
   "id": "ecd2b499",
   "metadata": {},
   "outputs": [
    {
     "data": {
      "text/plain": [
       "30.376"
      ]
     },
     "execution_count": 38,
     "metadata": {},
     "output_type": "execute_result"
    }
   ],
   "source": [
    "round(30.3764567,3)"
   ]
  },
  {
   "cell_type": "code",
   "execution_count": 41,
   "id": "33b9922f",
   "metadata": {},
   "outputs": [
    {
     "name": "stdout",
     "output_type": "stream",
     "text": [
      "Enter physics k marks89\n",
      "Enter chem k marks85\n",
      "Enter maths k marks89\n",
      "Enter english k marks96\n",
      "Enter computer k marks85\n",
      "Enter urdu k marks87\n",
      "Mubarak ho! app ka grade A aya hy\n",
      "Apki percentage 88.5 i hy\n",
      "Apk total marks 600 me se  531.0 aye hen\n"
     ]
    }
   ],
   "source": [
    "phy  = float(input(\"Enter physics k marks\"))\n",
    "chem = float(input(\"Enter chem k marks\"))\n",
    "math = float(input(\"Enter maths k marks\"))\n",
    "eng = float(input(\"Enter english k marks\"))\n",
    "comp = float(input(\"Enter computer k marks\"))\n",
    "urdu = float(input(\"Enter urdu k marks\"))\n",
    "total_obt = phy+chem+math+eng+comp+urdu\n",
    "percentage = total_obt/600*100\n",
    "\n",
    "if percentage>=90:\n",
    "    grade = \"A+\"\n",
    "elif percentage>=80:\n",
    "    grade = \"A\"\n",
    "elif percentage>=70:\n",
    "    grade = \"B\"\n",
    "elif percentage>=60:\n",
    "    grade = \"C\"\n",
    "elif percentage>=50:\n",
    "    grade = \"D\"\n",
    "elif percentage>40:\n",
    "    grade = \"E\"\n",
    "else:\n",
    "    grade = \"F\"\n",
    "print(f\"Mubarak ho! app ka grade {grade} aya hy\")\n",
    "print(f\"Apki percentage {percentage} i hy\")\n",
    "print(f\"Apk total marks 600 me se  {total_obt} aye hen\")"
   ]
  },
  {
   "cell_type": "raw",
   "id": "e14dc797",
   "metadata": {},
   "source": [
    "\"Mere dost ka nam Khursheed hy. Or wo Lahore me rehata hy. Uski umer 20 saal hy\""
   ]
  },
  {
   "cell_type": "code",
   "execution_count": 43,
   "id": "e7196ed5",
   "metadata": {},
   "outputs": [
    {
     "ename": "TypeError",
     "evalue": "can only concatenate str (not \"int\") to str",
     "output_type": "error",
     "traceback": [
      "\u001b[1;31m---------------------------------------------------------------------------\u001b[0m",
      "\u001b[1;31mTypeError\u001b[0m                                 Traceback (most recent call last)",
      "Cell \u001b[1;32mIn[43], line 4\u001b[0m\n\u001b[0;32m      2\u001b[0m city  \u001b[38;5;241m=\u001b[39m \u001b[38;5;124m\"\u001b[39m\u001b[38;5;124mLahore\u001b[39m\u001b[38;5;124m\"\u001b[39m\n\u001b[0;32m      3\u001b[0m age  \u001b[38;5;241m=\u001b[39m \u001b[38;5;241m20\u001b[39m\n\u001b[1;32m----> 4\u001b[0m \u001b[38;5;28mprint\u001b[39m(\u001b[38;5;124m\"\u001b[39m\u001b[38;5;124mMere dost ka nam\u001b[39m\u001b[38;5;124m\"\u001b[39m\u001b[38;5;241m+\u001b[39m dost_ka_nam \u001b[38;5;241m+\u001b[39m \u001b[38;5;124m\"\u001b[39m\u001b[38;5;124mhy. Or wo \u001b[39m\u001b[38;5;124m\"\u001b[39m\u001b[38;5;241m+\u001b[39mcity\u001b[38;5;241m+\u001b[39m\u001b[38;5;124m\"\u001b[39m\u001b[38;5;124mme rehta hy. Uski umer \u001b[39m\u001b[38;5;124m\"\u001b[39m\u001b[38;5;241m+\u001b[39mage\u001b[38;5;241m+\u001b[39m \u001b[38;5;124m\"\u001b[39m\u001b[38;5;124msaal hy\u001b[39m\u001b[38;5;124m\"\u001b[39m)\n",
      "\u001b[1;31mTypeError\u001b[0m: can only concatenate str (not \"int\") to str"
     ]
    }
   ],
   "source": [
    "dost_ka_nam = \"Khursheed\"\n",
    "city  = \"Lahore\"\n",
    "age  = 20\n",
    "print(\"Mere dost ka nam\"+ dost_ka_nam + \"hy. Or wo \"+city+\"me rehta hy. Uski umer \"+age+ \"saal hy\")"
   ]
  },
  {
   "cell_type": "code",
   "execution_count": 45,
   "id": "d4dea6af",
   "metadata": {},
   "outputs": [
    {
     "name": "stdout",
     "output_type": "stream",
     "text": [
      "Mere dost ka nam Khursheed hy. Or wo Lahore me rehta hy. Uski umer 20 saal hy\n"
     ]
    }
   ],
   "source": [
    "dost_ka_nam = \"Khursheed\"\n",
    "city  = \"Lahore\"\n",
    "age  = 20\n",
    "print(\"Mere dost ka nam \"+ dost_ka_nam + \" hy. Or wo \"+city+\" me rehta hy. Uski umer \"+str(age)+ \" saal hy\")"
   ]
  },
  {
   "cell_type": "code",
   "execution_count": 49,
   "id": "9480ce1c",
   "metadata": {},
   "outputs": [
    {
     "name": "stdout",
     "output_type": "stream",
     "text": [
      "Tell me your dost nametalha\n",
      "Wo kahan rehta hykarachi\n",
      "Wo kitne saal ka hy 33\n",
      "Mere dost ka nam talha hy or wo karachi me rehta hy. Uski umer 33 saal hy\n"
     ]
    }
   ],
   "source": [
    "dost_ka_nam = input(\"Tell me your dost name\")\n",
    "city = input(\"Wo kahan rehta hy\")\n",
    "age  = input(\"Wo kitne saal ka hy \")\n",
    "print(f\"Mere dost ka nam {dost_ka_nam} hy or wo {city} me rehta hy. Uski umer {age} saal hy\")"
   ]
  },
  {
   "cell_type": "markdown",
   "id": "694ecadc",
   "metadata": {},
   "source": [
    "# Class7(11June2024)"
   ]
  },
  {
   "cell_type": "markdown",
   "id": "3fc02067",
   "metadata": {},
   "source": [
    "# String \n",
    "   - Every python data is a object. And object it belongs to a class. \n",
    "   - A class can have methods/ functions and properties\n",
    "   - String is immutable"
   ]
  },
  {
   "cell_type": "code",
   "execution_count": 7,
   "id": "1580b4e9",
   "metadata": {},
   "outputs": [],
   "source": [
    "country = \"pakistan\""
   ]
  },
  {
   "cell_type": "code",
   "execution_count": 8,
   "id": "5075f2a9",
   "metadata": {},
   "outputs": [
    {
     "name": "stdout",
     "output_type": "stream",
     "text": [
      "<class 'str'>\n"
     ]
    }
   ],
   "source": [
    "print(type(country))"
   ]
  },
  {
   "cell_type": "code",
   "execution_count": 9,
   "id": "7907ad7f",
   "metadata": {},
   "outputs": [
    {
     "name": "stdout",
     "output_type": "stream",
     "text": [
      "<class 'int'>\n"
     ]
    }
   ],
   "source": [
    "marks = 12\n",
    "print(type(marks))"
   ]
  },
  {
   "cell_type": "code",
   "execution_count": 10,
   "id": "9d78413f",
   "metadata": {},
   "outputs": [
    {
     "name": "stdout",
     "output_type": "stream",
     "text": [
      "<class 'bool'>\n"
     ]
    }
   ],
   "source": [
    "boolean = True\n",
    "print(type(boolean))"
   ]
  },
  {
   "cell_type": "code",
   "execution_count": 13,
   "id": "7272d848",
   "metadata": {},
   "outputs": [],
   "source": [
    "new_country = country.capitalize()"
   ]
  },
  {
   "cell_type": "code",
   "execution_count": 12,
   "id": "a8269ffe",
   "metadata": {},
   "outputs": [
    {
     "data": {
      "text/plain": [
       "'pakistan'"
      ]
     },
     "execution_count": 12,
     "metadata": {},
     "output_type": "execute_result"
    }
   ],
   "source": [
    "country"
   ]
  },
  {
   "cell_type": "code",
   "execution_count": 14,
   "id": "e34d1892",
   "metadata": {},
   "outputs": [
    {
     "data": {
      "text/plain": [
       "'Pakistan'"
      ]
     },
     "execution_count": 14,
     "metadata": {},
     "output_type": "execute_result"
    }
   ],
   "source": [
    "new_country"
   ]
  },
  {
   "cell_type": "code",
   "execution_count": 15,
   "id": "8141f311",
   "metadata": {},
   "outputs": [],
   "source": [
    "country = \"USA\""
   ]
  },
  {
   "cell_type": "code",
   "execution_count": 16,
   "id": "bfb50ce7",
   "metadata": {},
   "outputs": [
    {
     "data": {
      "text/plain": [
       "'USA'"
      ]
     },
     "execution_count": 16,
     "metadata": {},
     "output_type": "execute_result"
    }
   ],
   "source": [
    "country"
   ]
  },
  {
   "cell_type": "code",
   "execution_count": 17,
   "id": "2748be88",
   "metadata": {},
   "outputs": [],
   "source": [
    "country = country.lower()"
   ]
  },
  {
   "cell_type": "code",
   "execution_count": 18,
   "id": "b02b2093",
   "metadata": {},
   "outputs": [
    {
     "data": {
      "text/plain": [
       "'usa'"
      ]
     },
     "execution_count": 18,
     "metadata": {},
     "output_type": "execute_result"
    }
   ],
   "source": [
    "country"
   ]
  },
  {
   "cell_type": "code",
   "execution_count": 19,
   "id": "5ab01a0a",
   "metadata": {},
   "outputs": [
    {
     "data": {
      "text/plain": [
       "'USA'"
      ]
     },
     "execution_count": 19,
     "metadata": {},
     "output_type": "execute_result"
    }
   ],
   "source": [
    "country.upper()"
   ]
  },
  {
   "cell_type": "code",
   "execution_count": 23,
   "id": "89a8be1a",
   "metadata": {},
   "outputs": [
    {
     "data": {
      "text/plain": [
       "0"
      ]
     },
     "execution_count": 23,
     "metadata": {},
     "output_type": "execute_result"
    }
   ],
   "source": [
    "country.count(\"ua\")"
   ]
  },
  {
   "cell_type": "code",
   "execution_count": 24,
   "id": "bca94185",
   "metadata": {},
   "outputs": [
    {
     "data": {
      "text/plain": [
       "False"
      ]
     },
     "execution_count": 24,
     "metadata": {},
     "output_type": "execute_result"
    }
   ],
   "source": [
    "country.endswith(\"A\")"
   ]
  },
  {
   "cell_type": "code",
   "execution_count": 25,
   "id": "471bce7a",
   "metadata": {},
   "outputs": [
    {
     "data": {
      "text/plain": [
       "True"
      ]
     },
     "execution_count": 25,
     "metadata": {},
     "output_type": "execute_result"
    }
   ],
   "source": [
    "country.endswith(\"a\")"
   ]
  },
  {
   "cell_type": "code",
   "execution_count": 26,
   "id": "c70a418b",
   "metadata": {},
   "outputs": [
    {
     "data": {
      "text/plain": [
       "True"
      ]
     },
     "execution_count": 26,
     "metadata": {},
     "output_type": "execute_result"
    }
   ],
   "source": [
    "country.startswith(\"u\")"
   ]
  },
  {
   "cell_type": "code",
   "execution_count": 27,
   "id": "3fef22c1",
   "metadata": {},
   "outputs": [],
   "source": [
    "text = \"We are learning Python. Python is great language.\""
   ]
  },
  {
   "cell_type": "code",
   "execution_count": 28,
   "id": "fda2c5a5",
   "metadata": {},
   "outputs": [
    {
     "data": {
      "text/plain": [
       "16"
      ]
     },
     "execution_count": 28,
     "metadata": {},
     "output_type": "execute_result"
    }
   ],
   "source": [
    "text.index(\"P\")"
   ]
  },
  {
   "cell_type": "code",
   "execution_count": 29,
   "id": "cabc6231",
   "metadata": {},
   "outputs": [
    {
     "data": {
      "text/plain": [
       "34"
      ]
     },
     "execution_count": 29,
     "metadata": {},
     "output_type": "execute_result"
    }
   ],
   "source": [
    "text.index(\"great\")"
   ]
  },
  {
   "cell_type": "code",
   "execution_count": 30,
   "id": "4b9a3ab0",
   "metadata": {},
   "outputs": [
    {
     "data": {
      "text/plain": [
       "24"
      ]
     },
     "execution_count": 30,
     "metadata": {},
     "output_type": "execute_result"
    }
   ],
   "source": [
    "text.index(\"Python\", 17)"
   ]
  },
  {
   "cell_type": "code",
   "execution_count": 31,
   "id": "6931e1e8",
   "metadata": {},
   "outputs": [
    {
     "data": {
      "text/plain": [
       "2"
      ]
     },
     "execution_count": 31,
     "metadata": {},
     "output_type": "execute_result"
    }
   ],
   "source": [
    "text.count(\"Python\")"
   ]
  },
  {
   "cell_type": "code",
   "execution_count": 32,
   "id": "f18d8b2b",
   "metadata": {},
   "outputs": [
    {
     "data": {
      "text/plain": [
       "16"
      ]
     },
     "execution_count": 32,
     "metadata": {},
     "output_type": "execute_result"
    }
   ],
   "source": [
    "text.index(\"Python\")"
   ]
  },
  {
   "cell_type": "code",
   "execution_count": 33,
   "id": "470c2ba2",
   "metadata": {},
   "outputs": [
    {
     "data": {
      "text/plain": [
       "24"
      ]
     },
     "execution_count": 33,
     "metadata": {},
     "output_type": "execute_result"
    }
   ],
   "source": [
    "text.index(\"Python\",17)"
   ]
  },
  {
   "cell_type": "code",
   "execution_count": 34,
   "id": "ae202651",
   "metadata": {},
   "outputs": [
    {
     "ename": "ValueError",
     "evalue": "substring not found",
     "output_type": "error",
     "traceback": [
      "\u001b[1;31m---------------------------------------------------------------------------\u001b[0m",
      "\u001b[1;31mValueError\u001b[0m                                Traceback (most recent call last)",
      "Cell \u001b[1;32mIn[34], line 1\u001b[0m\n\u001b[1;32m----> 1\u001b[0m text\u001b[38;5;241m.\u001b[39mindex(\u001b[38;5;124m\"\u001b[39m\u001b[38;5;124mpython\u001b[39m\u001b[38;5;124m\"\u001b[39m)\n",
      "\u001b[1;31mValueError\u001b[0m: substring not found"
     ]
    }
   ],
   "source": [
    "text.index(\"python\")"
   ]
  },
  {
   "cell_type": "code",
   "execution_count": 36,
   "id": "48df7009",
   "metadata": {},
   "outputs": [
    {
     "data": {
      "text/plain": [
       "-1"
      ]
     },
     "execution_count": 36,
     "metadata": {},
     "output_type": "execute_result"
    }
   ],
   "source": [
    "text.find(\"python\")"
   ]
  },
  {
   "cell_type": "code",
   "execution_count": 41,
   "id": "9f19a6a3",
   "metadata": {},
   "outputs": [
    {
     "data": {
      "text/plain": [
       "True"
      ]
     },
     "execution_count": 41,
     "metadata": {},
     "output_type": "execute_result"
    }
   ],
   "source": [
    "\"python\".capitalize() in text"
   ]
  },
  {
   "cell_type": "code",
   "execution_count": 43,
   "id": "abffc737",
   "metadata": {},
   "outputs": [
    {
     "data": {
      "text/plain": [
       "'We are learning JavaScript. JavaScript is great language.'"
      ]
     },
     "execution_count": 43,
     "metadata": {},
     "output_type": "execute_result"
    }
   ],
   "source": [
    "text.replace(\"Python\", \"JavaScript\")"
   ]
  },
  {
   "cell_type": "code",
   "execution_count": 44,
   "id": "ec1c5bae",
   "metadata": {},
   "outputs": [],
   "source": [
    "name = \"nasir hussain \""
   ]
  },
  {
   "cell_type": "code",
   "execution_count": 45,
   "id": "ba9035b7",
   "metadata": {},
   "outputs": [
    {
     "name": "stdout",
     "output_type": "stream",
     "text": [
      "nasir hussain \n"
     ]
    }
   ],
   "source": [
    "print(name)"
   ]
  },
  {
   "cell_type": "code",
   "execution_count": 46,
   "id": "aad9b927",
   "metadata": {},
   "outputs": [
    {
     "data": {
      "text/plain": [
       "14"
      ]
     },
     "execution_count": 46,
     "metadata": {},
     "output_type": "execute_result"
    }
   ],
   "source": [
    "len(name)"
   ]
  },
  {
   "cell_type": "code",
   "execution_count": 49,
   "id": "7e1e5cd2",
   "metadata": {},
   "outputs": [
    {
     "data": {
      "text/plain": [
       "'nasir hussain'"
      ]
     },
     "execution_count": 49,
     "metadata": {},
     "output_type": "execute_result"
    }
   ],
   "source": [
    "name.strip()"
   ]
  },
  {
   "cell_type": "code",
   "execution_count": 53,
   "id": "2e6d9bb0",
   "metadata": {},
   "outputs": [],
   "source": [
    "name = \" abdul haseeb \""
   ]
  },
  {
   "cell_type": "code",
   "execution_count": 54,
   "id": "46acde14",
   "metadata": {},
   "outputs": [
    {
     "name": "stdout",
     "output_type": "stream",
     "text": [
      " abdul haseeb \n"
     ]
    }
   ],
   "source": [
    "print(name)"
   ]
  },
  {
   "cell_type": "code",
   "execution_count": 55,
   "id": "d27a3d9d",
   "metadata": {},
   "outputs": [
    {
     "data": {
      "text/plain": [
       "False"
      ]
     },
     "execution_count": 55,
     "metadata": {},
     "output_type": "execute_result"
    }
   ],
   "source": [
    "name == \"abdul haseeb\""
   ]
  },
  {
   "cell_type": "code",
   "execution_count": 59,
   "id": "e92e55f1",
   "metadata": {},
   "outputs": [],
   "source": [
    "name = name.strip()"
   ]
  },
  {
   "cell_type": "code",
   "execution_count": 60,
   "id": "17933572",
   "metadata": {},
   "outputs": [
    {
     "data": {
      "text/plain": [
       "'abdul haseeb'"
      ]
     },
     "execution_count": 60,
     "metadata": {},
     "output_type": "execute_result"
    }
   ],
   "source": [
    "name"
   ]
  },
  {
   "cell_type": "code",
   "execution_count": 61,
   "id": "274f98e0",
   "metadata": {},
   "outputs": [
    {
     "data": {
      "text/plain": [
       "True"
      ]
     },
     "execution_count": 61,
     "metadata": {},
     "output_type": "execute_result"
    }
   ],
   "source": [
    "name == \"abdul haseeb\""
   ]
  },
  {
   "cell_type": "code",
   "execution_count": null,
   "id": "234ad3d9",
   "metadata": {},
   "outputs": [],
   "source": [
    "Values: numeric, digits\n",
    "        char\n",
    "        alphanumeric: A23\n",
    "        space\n",
    "        "
   ]
  },
  {
   "cell_type": "code",
   "execution_count": 62,
   "id": "d738931e",
   "metadata": {},
   "outputs": [],
   "source": [
    "data = \"100\""
   ]
  },
  {
   "cell_type": "code",
   "execution_count": 63,
   "id": "fdb13c1a",
   "metadata": {},
   "outputs": [
    {
     "data": {
      "text/plain": [
       "True"
      ]
     },
     "execution_count": 63,
     "metadata": {},
     "output_type": "execute_result"
    }
   ],
   "source": [
    "data.isalnum()"
   ]
  },
  {
   "cell_type": "code",
   "execution_count": 64,
   "id": "06c14568",
   "metadata": {},
   "outputs": [],
   "source": [
    "data = \"apple\""
   ]
  },
  {
   "cell_type": "code",
   "execution_count": 65,
   "id": "4933049f",
   "metadata": {},
   "outputs": [
    {
     "data": {
      "text/plain": [
       "True"
      ]
     },
     "execution_count": 65,
     "metadata": {},
     "output_type": "execute_result"
    }
   ],
   "source": [
    "data.isalnum()"
   ]
  },
  {
   "cell_type": "code",
   "execution_count": 66,
   "id": "a3eea387",
   "metadata": {},
   "outputs": [],
   "source": [
    "data = \"123Ap\""
   ]
  },
  {
   "cell_type": "code",
   "execution_count": 67,
   "id": "b92a1c26",
   "metadata": {},
   "outputs": [
    {
     "data": {
      "text/plain": [
       "True"
      ]
     },
     "execution_count": 67,
     "metadata": {},
     "output_type": "execute_result"
    }
   ],
   "source": [
    "data.isalnum()"
   ]
  },
  {
   "cell_type": "code",
   "execution_count": 68,
   "id": "79e3c09c",
   "metadata": {},
   "outputs": [
    {
     "data": {
      "text/plain": [
       "False"
      ]
     },
     "execution_count": 68,
     "metadata": {},
     "output_type": "execute_result"
    }
   ],
   "source": [
    "data.isalpha()"
   ]
  },
  {
   "cell_type": "code",
   "execution_count": 69,
   "id": "71c7bb13",
   "metadata": {},
   "outputs": [],
   "source": [
    "data= \"a\""
   ]
  },
  {
   "cell_type": "code",
   "execution_count": 70,
   "id": "ed59c43d",
   "metadata": {},
   "outputs": [
    {
     "data": {
      "text/plain": [
       "True"
      ]
     },
     "execution_count": 70,
     "metadata": {},
     "output_type": "execute_result"
    }
   ],
   "source": [
    "data.isalpha()"
   ]
  },
  {
   "cell_type": "code",
   "execution_count": 71,
   "id": "dcb28c6d",
   "metadata": {},
   "outputs": [],
   "source": [
    "data = \"100\""
   ]
  },
  {
   "cell_type": "code",
   "execution_count": 72,
   "id": "6c1951ec",
   "metadata": {},
   "outputs": [
    {
     "data": {
      "text/plain": [
       "True"
      ]
     },
     "execution_count": 72,
     "metadata": {},
     "output_type": "execute_result"
    }
   ],
   "source": [
    "data.isnumeric()"
   ]
  },
  {
   "cell_type": "code",
   "execution_count": 73,
   "id": "d225d1f6",
   "metadata": {},
   "outputs": [
    {
     "data": {
      "text/plain": [
       "True"
      ]
     },
     "execution_count": 73,
     "metadata": {},
     "output_type": "execute_result"
    }
   ],
   "source": [
    "data.isdigit()"
   ]
  },
  {
   "cell_type": "code",
   "execution_count": 74,
   "id": "27e43deb",
   "metadata": {},
   "outputs": [],
   "source": [
    "data= 'hundred'"
   ]
  },
  {
   "cell_type": "code",
   "execution_count": 75,
   "id": "801ec1df",
   "metadata": {},
   "outputs": [
    {
     "data": {
      "text/plain": [
       "False"
      ]
     },
     "execution_count": 75,
     "metadata": {},
     "output_type": "execute_result"
    }
   ],
   "source": [
    "data.isnumeric()"
   ]
  },
  {
   "cell_type": "code",
   "execution_count": 76,
   "id": "3c9a2793",
   "metadata": {},
   "outputs": [
    {
     "data": {
      "text/plain": [
       "False"
      ]
     },
     "execution_count": 76,
     "metadata": {},
     "output_type": "execute_result"
    }
   ],
   "source": [
    "data.isdigit()"
   ]
  },
  {
   "cell_type": "code",
   "execution_count": 105,
   "id": "601a86c9",
   "metadata": {},
   "outputs": [],
   "source": [
    "data = \"1235  \""
   ]
  },
  {
   "cell_type": "code",
   "execution_count": 106,
   "id": "adb40cee",
   "metadata": {},
   "outputs": [
    {
     "data": {
      "text/plain": [
       "False"
      ]
     },
     "execution_count": 106,
     "metadata": {},
     "output_type": "execute_result"
    }
   ],
   "source": [
    "data.isdecimal()"
   ]
  },
  {
   "cell_type": "code",
   "execution_count": 108,
   "id": "b5bf822b",
   "metadata": {},
   "outputs": [
    {
     "data": {
      "text/plain": [
       "'1235  '"
      ]
     },
     "execution_count": 108,
     "metadata": {},
     "output_type": "execute_result"
    }
   ],
   "source": [
    "data.ljust(3,\"*\")"
   ]
  },
  {
   "cell_type": "code",
   "execution_count": 109,
   "id": "da42fa0c",
   "metadata": {},
   "outputs": [
    {
     "data": {
      "text/plain": [
       "'We are learning Python. Python is great language.'"
      ]
     },
     "execution_count": 109,
     "metadata": {},
     "output_type": "execute_result"
    }
   ],
   "source": [
    "text"
   ]
  },
  {
   "cell_type": "code",
   "execution_count": 110,
   "id": "1b473ca5",
   "metadata": {},
   "outputs": [
    {
     "data": {
      "text/plain": [
       "['We', 'are', 'learning', 'Python.', 'Python', 'is', 'great', 'language.']"
      ]
     },
     "execution_count": 110,
     "metadata": {},
     "output_type": "execute_result"
    }
   ],
   "source": [
    "text.split()"
   ]
  },
  {
   "cell_type": "code",
   "execution_count": 113,
   "id": "e0d64060",
   "metadata": {},
   "outputs": [],
   "source": [
    "broken = text.split(\"a\")"
   ]
  },
  {
   "cell_type": "code",
   "execution_count": 114,
   "id": "464bf6eb",
   "metadata": {},
   "outputs": [
    {
     "data": {
      "text/plain": [
       "['We ', 're le', 'rning Python. Python is gre', 't l', 'ngu', 'ge.']"
      ]
     },
     "execution_count": 114,
     "metadata": {},
     "output_type": "execute_result"
    }
   ],
   "source": [
    "broken"
   ]
  },
  {
   "cell_type": "code",
   "execution_count": 115,
   "id": "b86f0d65",
   "metadata": {},
   "outputs": [
    {
     "data": {
      "text/plain": [
       "'We are learning Python. Python is great language.'"
      ]
     },
     "execution_count": 115,
     "metadata": {},
     "output_type": "execute_result"
    }
   ],
   "source": [
    "\"a\".join(broken)"
   ]
  },
  {
   "cell_type": "code",
   "execution_count": 116,
   "id": "3793ef5b",
   "metadata": {},
   "outputs": [
    {
     "ename": "AttributeError",
     "evalue": "'list' object has no attribute 'join'",
     "output_type": "error",
     "traceback": [
      "\u001b[1;31m---------------------------------------------------------------------------\u001b[0m",
      "\u001b[1;31mAttributeError\u001b[0m                            Traceback (most recent call last)",
      "Cell \u001b[1;32mIn[116], line 1\u001b[0m\n\u001b[1;32m----> 1\u001b[0m borken\u001b[38;5;241m.\u001b[39mjoin(\u001b[38;5;124m'\u001b[39m\u001b[38;5;124ma\u001b[39m\u001b[38;5;124m'\u001b[39m)\n",
      "\u001b[1;31mAttributeError\u001b[0m: 'list' object has no attribute 'join'"
     ]
    }
   ],
   "source": []
  },
  {
   "cell_type": "markdown",
   "id": "106d8b66",
   "metadata": {},
   "source": [
    "# Indices"
   ]
  },
  {
   "cell_type": "code",
   "execution_count": 117,
   "id": "2e62b503",
   "metadata": {},
   "outputs": [
    {
     "data": {
      "text/plain": [
       "'usa'"
      ]
     },
     "execution_count": 117,
     "metadata": {},
     "output_type": "execute_result"
    }
   ],
   "source": [
    "country"
   ]
  },
  {
   "cell_type": "code",
   "execution_count": 118,
   "id": "c02b8e4a",
   "metadata": {},
   "outputs": [
    {
     "data": {
      "text/plain": [
       "'u'"
      ]
     },
     "execution_count": 118,
     "metadata": {},
     "output_type": "execute_result"
    }
   ],
   "source": [
    "country[0]"
   ]
  },
  {
   "cell_type": "code",
   "execution_count": 119,
   "id": "bc0ec6b8",
   "metadata": {},
   "outputs": [
    {
     "data": {
      "text/plain": [
       "'s'"
      ]
     },
     "execution_count": 119,
     "metadata": {},
     "output_type": "execute_result"
    }
   ],
   "source": [
    "country[1]"
   ]
  },
  {
   "cell_type": "code",
   "execution_count": 120,
   "id": "c3618b1c",
   "metadata": {},
   "outputs": [
    {
     "data": {
      "text/plain": [
       "'a'"
      ]
     },
     "execution_count": 120,
     "metadata": {},
     "output_type": "execute_result"
    }
   ],
   "source": [
    "country[2]"
   ]
  },
  {
   "cell_type": "code",
   "execution_count": 121,
   "id": "8998b15b",
   "metadata": {},
   "outputs": [
    {
     "ename": "TypeError",
     "evalue": "'str' object does not support item assignment",
     "output_type": "error",
     "traceback": [
      "\u001b[1;31m---------------------------------------------------------------------------\u001b[0m",
      "\u001b[1;31mTypeError\u001b[0m                                 Traceback (most recent call last)",
      "Cell \u001b[1;32mIn[121], line 1\u001b[0m\n\u001b[1;32m----> 1\u001b[0m country[\u001b[38;5;241m0\u001b[39m] \u001b[38;5;241m=\u001b[39m \u001b[38;5;124m\"\u001b[39m\u001b[38;5;124mU\u001b[39m\u001b[38;5;124m\"\u001b[39m\n",
      "\u001b[1;31mTypeError\u001b[0m: 'str' object does not support item assignment"
     ]
    }
   ],
   "source": [
    "country[0] = \"U\""
   ]
  },
  {
   "cell_type": "markdown",
   "id": "92fb846b",
   "metadata": {},
   "source": [
    "# Class8(13June2024)"
   ]
  },
  {
   "cell_type": "markdown",
   "id": "6c48d666",
   "metadata": {},
   "source": [
    "# Python Collections  / Python Data Structures \n",
    "  - String \n",
    "  - List \n",
    "  - Dictionary \n",
    "  - Tuple\n",
    "  - Set"
   ]
  },
  {
   "cell_type": "code",
   "execution_count": 1,
   "id": "bd49cd44",
   "metadata": {},
   "outputs": [],
   "source": [
    "student = \"Nasir Hussain\""
   ]
  },
  {
   "cell_type": "markdown",
   "id": "38dc4531",
   "metadata": {},
   "source": [
    "# List\n",
    "     - a python list is a simple and widely used data structure\n",
    "     "
   ]
  },
  {
   "cell_type": "code",
   "execution_count": 2,
   "id": "8cb8fecb",
   "metadata": {},
   "outputs": [],
   "source": [
    "students = ['Adil', 'Ammar', \"Nasar\", \"Maaz\", 'Sohail']"
   ]
  },
  {
   "cell_type": "code",
   "execution_count": 3,
   "id": "47af65d8",
   "metadata": {},
   "outputs": [
    {
     "name": "stdout",
     "output_type": "stream",
     "text": [
      "<class 'list'>\n"
     ]
    }
   ],
   "source": [
    "print(type(students))"
   ]
  },
  {
   "cell_type": "code",
   "execution_count": 7,
   "id": "ec07a2ab",
   "metadata": {},
   "outputs": [],
   "source": [
    "# accessing items from a list via indices\n",
    "\n",
    "#             -5      -4       -3        -2       -1\n",
    "students = ['Adil', 'Ammar', \"Nasar\", \"Maaz\", 'Sohail']\n",
    "#             0       1         2        3        4"
   ]
  },
  {
   "cell_type": "code",
   "execution_count": 8,
   "id": "87a1df4b",
   "metadata": {},
   "outputs": [
    {
     "data": {
      "text/plain": [
       "'Adil'"
      ]
     },
     "execution_count": 8,
     "metadata": {},
     "output_type": "execute_result"
    }
   ],
   "source": [
    "students[0]"
   ]
  },
  {
   "cell_type": "code",
   "execution_count": 9,
   "id": "81a2c2fa",
   "metadata": {},
   "outputs": [
    {
     "data": {
      "text/plain": [
       "'Maaz'"
      ]
     },
     "execution_count": 9,
     "metadata": {},
     "output_type": "execute_result"
    }
   ],
   "source": [
    "students[3]"
   ]
  },
  {
   "cell_type": "code",
   "execution_count": 10,
   "id": "05e3d4ab",
   "metadata": {},
   "outputs": [
    {
     "data": {
      "text/plain": [
       "'Maaz'"
      ]
     },
     "execution_count": 10,
     "metadata": {},
     "output_type": "execute_result"
    }
   ],
   "source": [
    "students[-2]"
   ]
  },
  {
   "cell_type": "markdown",
   "id": "2c1b7fd6",
   "metadata": {},
   "source": [
    "# A list can hold multiple types of data"
   ]
  },
  {
   "cell_type": "code",
   "execution_count": 11,
   "id": "00963b9e",
   "metadata": {},
   "outputs": [],
   "source": [
    "python_class = ['students', 'trainer', 50, \"lcd\", True, 12.4, False]"
   ]
  },
  {
   "cell_type": "code",
   "execution_count": 12,
   "id": "26021809",
   "metadata": {},
   "outputs": [],
   "source": [
    "lst  = [1,2,3,4,5,6, ['nasir', 'asad', 'fahad', 'sabir']]"
   ]
  },
  {
   "cell_type": "code",
   "execution_count": 13,
   "id": "e9fcd9e9",
   "metadata": {},
   "outputs": [
    {
     "data": {
      "text/plain": [
       "7"
      ]
     },
     "execution_count": 13,
     "metadata": {},
     "output_type": "execute_result"
    }
   ],
   "source": [
    "len(lst)"
   ]
  },
  {
   "cell_type": "code",
   "execution_count": 14,
   "id": "d17264b1",
   "metadata": {},
   "outputs": [
    {
     "data": {
      "text/plain": [
       "['nasir', 'asad', 'fahad', 'sabir']"
      ]
     },
     "execution_count": 14,
     "metadata": {},
     "output_type": "execute_result"
    }
   ],
   "source": [
    "lst[6]"
   ]
  },
  {
   "cell_type": "code",
   "execution_count": 15,
   "id": "a43f57f8",
   "metadata": {},
   "outputs": [
    {
     "data": {
      "text/plain": [
       "'fahad'"
      ]
     },
     "execution_count": 15,
     "metadata": {},
     "output_type": "execute_result"
    }
   ],
   "source": [
    "lst[6][2]"
   ]
  },
  {
   "cell_type": "code",
   "execution_count": 16,
   "id": "60f5767d",
   "metadata": {},
   "outputs": [
    {
     "data": {
      "text/plain": [
       "'d'"
      ]
     },
     "execution_count": 16,
     "metadata": {},
     "output_type": "execute_result"
    }
   ],
   "source": [
    "lst[6][2][-1]"
   ]
  },
  {
   "cell_type": "markdown",
   "id": "9b86ea07",
   "metadata": {},
   "source": [
    "# Adding members in a list\n",
    "    -  append()\n",
    "    -  insert()\n",
    "    -  extends()\n",
    "    -  concat (+)"
   ]
  },
  {
   "cell_type": "code",
   "execution_count": 22,
   "id": "55f5e8e5",
   "metadata": {},
   "outputs": [
    {
     "name": "stdout",
     "output_type": "stream",
     "text": [
      "['Adil', 'Ammar', 'Nasar', 'Maaz', 'Sohail']\n"
     ]
    }
   ],
   "source": [
    "# add a new member in an existing list at end of the list. \n",
    "print(students)\n",
    "students.append(\"Mustafa\")"
   ]
  },
  {
   "cell_type": "code",
   "execution_count": 23,
   "id": "1dee33d6",
   "metadata": {},
   "outputs": [
    {
     "data": {
      "text/plain": [
       "['Adil', 'Ammar', 'Nasar', 'Maaz', 'Sohail', 'Mustafa']"
      ]
     },
     "execution_count": 23,
     "metadata": {},
     "output_type": "execute_result"
    }
   ],
   "source": [
    "students"
   ]
  },
  {
   "cell_type": "code",
   "execution_count": 24,
   "id": "53bba06f",
   "metadata": {},
   "outputs": [
    {
     "ename": "TypeError",
     "evalue": "list.append() takes exactly one argument (2 given)",
     "output_type": "error",
     "traceback": [
      "\u001b[1;31m---------------------------------------------------------------------------\u001b[0m",
      "\u001b[1;31mTypeError\u001b[0m                                 Traceback (most recent call last)",
      "Cell \u001b[1;32mIn[24], line 1\u001b[0m\n\u001b[1;32m----> 1\u001b[0m students\u001b[38;5;241m.\u001b[39mappend(\u001b[38;5;124m'\u001b[39m\u001b[38;5;124mnasir\u001b[39m\u001b[38;5;124m'\u001b[39m, \u001b[38;5;124m'\u001b[39m\u001b[38;5;124myasir\u001b[39m\u001b[38;5;124m'\u001b[39m)\n",
      "\u001b[1;31mTypeError\u001b[0m: list.append() takes exactly one argument (2 given)"
     ]
    }
   ],
   "source": [
    "students.append('nasir', 'yasir')"
   ]
  },
  {
   "cell_type": "code",
   "execution_count": 25,
   "id": "38ad9b23",
   "metadata": {},
   "outputs": [
    {
     "data": {
      "text/plain": [
       "['Adil', 'Ammar', 'Hasnain', 'Nasar', 'Maaz', 'Sohail', 'Mustafa']"
      ]
     },
     "execution_count": 25,
     "metadata": {},
     "output_type": "execute_result"
    }
   ],
   "source": [
    "students.insert(2, \"Hasnain\")\n",
    "students"
   ]
  },
  {
   "cell_type": "code",
   "execution_count": 26,
   "id": "2fa91377",
   "metadata": {},
   "outputs": [],
   "source": [
    "friends = ['mujib', 'zohaib', 'shahnawaz', 'ahmed', 'yasir']"
   ]
  },
  {
   "cell_type": "code",
   "execution_count": 27,
   "id": "795b6542",
   "metadata": {},
   "outputs": [],
   "source": [
    "students.append(friends)"
   ]
  },
  {
   "cell_type": "code",
   "execution_count": 28,
   "id": "d032b4f5",
   "metadata": {},
   "outputs": [
    {
     "data": {
      "text/plain": [
       "['Adil',\n",
       " 'Ammar',\n",
       " 'Hasnain',\n",
       " 'Nasar',\n",
       " 'Maaz',\n",
       " 'Sohail',\n",
       " 'Mustafa',\n",
       " ['mujib', 'zohaib', 'shahnawaz', 'ahmed', 'yasir']]"
      ]
     },
     "execution_count": 28,
     "metadata": {},
     "output_type": "execute_result"
    }
   ],
   "source": [
    "students"
   ]
  },
  {
   "cell_type": "code",
   "execution_count": 29,
   "id": "351c11ba",
   "metadata": {},
   "outputs": [
    {
     "data": {
      "text/plain": [
       "['Adil', 'Ammar', 'Hasnain', 'Nasar', 'Maaz', 'Sohail', 'Mustafa']"
      ]
     },
     "execution_count": 29,
     "metadata": {},
     "output_type": "execute_result"
    }
   ],
   "source": [
    "del students[7]\n",
    "students"
   ]
  },
  {
   "cell_type": "code",
   "execution_count": 30,
   "id": "1a0bb299",
   "metadata": {},
   "outputs": [],
   "source": [
    "students.extend(friends)"
   ]
  },
  {
   "cell_type": "code",
   "execution_count": 31,
   "id": "fb33201a",
   "metadata": {},
   "outputs": [
    {
     "data": {
      "text/plain": [
       "['Adil',\n",
       " 'Ammar',\n",
       " 'Hasnain',\n",
       " 'Nasar',\n",
       " 'Maaz',\n",
       " 'Sohail',\n",
       " 'Mustafa',\n",
       " 'mujib',\n",
       " 'zohaib',\n",
       " 'shahnawaz',\n",
       " 'ahmed',\n",
       " 'yasir']"
      ]
     },
     "execution_count": 31,
     "metadata": {},
     "output_type": "execute_result"
    }
   ],
   "source": [
    "students"
   ]
  },
  {
   "cell_type": "code",
   "execution_count": 32,
   "id": "a72dd10a",
   "metadata": {},
   "outputs": [],
   "source": [
    "relatives = ['imtiaz', 'rumaisa','subhan','hammad', 'anas']"
   ]
  },
  {
   "cell_type": "code",
   "execution_count": 34,
   "id": "fa175154",
   "metadata": {},
   "outputs": [],
   "source": [
    "students = students + relatives"
   ]
  },
  {
   "cell_type": "code",
   "execution_count": 35,
   "id": "88574e9d",
   "metadata": {},
   "outputs": [
    {
     "data": {
      "text/plain": [
       "['Adil',\n",
       " 'Ammar',\n",
       " 'Hasnain',\n",
       " 'Nasar',\n",
       " 'Maaz',\n",
       " 'Sohail',\n",
       " 'Mustafa',\n",
       " 'mujib',\n",
       " 'zohaib',\n",
       " 'shahnawaz',\n",
       " 'ahmed',\n",
       " 'yasir',\n",
       " 'imtiaz',\n",
       " 'rumaisa',\n",
       " 'subhan',\n",
       " 'hammad',\n",
       " 'anas']"
      ]
     },
     "execution_count": 35,
     "metadata": {},
     "output_type": "execute_result"
    }
   ],
   "source": [
    "students"
   ]
  },
  {
   "cell_type": "markdown",
   "id": "1566177b",
   "metadata": {},
   "source": [
    "# Removing Elements from a list\n",
    "     - del \n",
    "     - remove()\n",
    "     - pop()\n",
    "     - clear()\n",
    "     "
   ]
  },
  {
   "cell_type": "code",
   "execution_count": 36,
   "id": "e4da8887",
   "metadata": {},
   "outputs": [
    {
     "data": {
      "text/plain": [
       "[1, 2, 3, 4, 5, 6, ['nasir', 'asad', 'fahad', 'sabir']]"
      ]
     },
     "execution_count": 36,
     "metadata": {},
     "output_type": "execute_result"
    }
   ],
   "source": [
    "lst"
   ]
  },
  {
   "cell_type": "code",
   "execution_count": 37,
   "id": "656c5484",
   "metadata": {},
   "outputs": [
    {
     "ename": "IndexError",
     "evalue": "list index out of range",
     "output_type": "error",
     "traceback": [
      "\u001b[1;31m---------------------------------------------------------------------------\u001b[0m",
      "\u001b[1;31mIndexError\u001b[0m                                Traceback (most recent call last)",
      "Cell \u001b[1;32mIn[37], line 2\u001b[0m\n\u001b[0;32m      1\u001b[0m \u001b[38;5;66;03m# del deletes a value via index\u001b[39;00m\n\u001b[1;32m----> 2\u001b[0m lst[\u001b[38;5;241m7\u001b[39m]\n",
      "\u001b[1;31mIndexError\u001b[0m: list index out of range"
     ]
    }
   ],
   "source": [
    "# del deletes a value via index\n",
    "lst[7]"
   ]
  },
  {
   "cell_type": "code",
   "execution_count": 39,
   "id": "7e79eaf6",
   "metadata": {},
   "outputs": [
    {
     "data": {
      "text/plain": [
       "[1, 2, 3, 4, 5, 6]"
      ]
     },
     "execution_count": 39,
     "metadata": {},
     "output_type": "execute_result"
    }
   ],
   "source": [
    "del lst[6]\n",
    "lst"
   ]
  },
  {
   "cell_type": "code",
   "execution_count": 40,
   "id": "aa50f4be",
   "metadata": {},
   "outputs": [],
   "source": [
    "lst.remove(5)"
   ]
  },
  {
   "cell_type": "code",
   "execution_count": 41,
   "id": "e603b3e9",
   "metadata": {},
   "outputs": [
    {
     "data": {
      "text/plain": [
       "[1, 2, 3, 4, 6]"
      ]
     },
     "execution_count": 41,
     "metadata": {},
     "output_type": "execute_result"
    }
   ],
   "source": [
    "lst"
   ]
  },
  {
   "cell_type": "code",
   "execution_count": 42,
   "id": "a654c89f",
   "metadata": {},
   "outputs": [
    {
     "data": {
      "text/plain": [
       "['Adil',\n",
       " 'Ammar',\n",
       " 'Hasnain',\n",
       " 'Nasar',\n",
       " 'Maaz',\n",
       " 'Sohail',\n",
       " 'Mustafa',\n",
       " 'mujib',\n",
       " 'zohaib',\n",
       " 'shahnawaz',\n",
       " 'ahmed',\n",
       " 'yasir',\n",
       " 'imtiaz',\n",
       " 'rumaisa',\n",
       " 'subhan',\n",
       " 'hammad',\n",
       " 'anas']"
      ]
     },
     "execution_count": 42,
     "metadata": {},
     "output_type": "execute_result"
    }
   ],
   "source": [
    "students"
   ]
  },
  {
   "cell_type": "code",
   "execution_count": 43,
   "id": "641957cd",
   "metadata": {},
   "outputs": [
    {
     "data": {
      "text/plain": [
       "'anas'"
      ]
     },
     "execution_count": 43,
     "metadata": {},
     "output_type": "execute_result"
    }
   ],
   "source": [
    "students.pop()"
   ]
  },
  {
   "cell_type": "code",
   "execution_count": 44,
   "id": "e1165649",
   "metadata": {},
   "outputs": [
    {
     "data": {
      "text/plain": [
       "['Adil',\n",
       " 'Ammar',\n",
       " 'Hasnain',\n",
       " 'Nasar',\n",
       " 'Maaz',\n",
       " 'Sohail',\n",
       " 'Mustafa',\n",
       " 'mujib',\n",
       " 'zohaib',\n",
       " 'shahnawaz',\n",
       " 'ahmed',\n",
       " 'yasir',\n",
       " 'imtiaz',\n",
       " 'rumaisa',\n",
       " 'subhan',\n",
       " 'hammad']"
      ]
     },
     "execution_count": 44,
     "metadata": {},
     "output_type": "execute_result"
    }
   ],
   "source": [
    "students"
   ]
  },
  {
   "cell_type": "code",
   "execution_count": 45,
   "id": "a7c28f58",
   "metadata": {},
   "outputs": [],
   "source": [
    "popped_value = students.pop()"
   ]
  },
  {
   "cell_type": "code",
   "execution_count": 46,
   "id": "6fcf3547",
   "metadata": {},
   "outputs": [
    {
     "data": {
      "text/plain": [
       "'hammad'"
      ]
     },
     "execution_count": 46,
     "metadata": {},
     "output_type": "execute_result"
    }
   ],
   "source": [
    "popped_value"
   ]
  },
  {
   "cell_type": "code",
   "execution_count": 47,
   "id": "b4b7988e",
   "metadata": {},
   "outputs": [
    {
     "data": {
      "text/plain": [
       "'Nasar'"
      ]
     },
     "execution_count": 47,
     "metadata": {},
     "output_type": "execute_result"
    }
   ],
   "source": [
    "students.pop(3)"
   ]
  },
  {
   "cell_type": "code",
   "execution_count": 48,
   "id": "0182f0a6",
   "metadata": {},
   "outputs": [],
   "source": [
    "students.clear()"
   ]
  },
  {
   "cell_type": "code",
   "execution_count": 50,
   "id": "a3a621c4",
   "metadata": {},
   "outputs": [
    {
     "data": {
      "text/plain": [
       "[]"
      ]
     },
     "execution_count": 50,
     "metadata": {},
     "output_type": "execute_result"
    }
   ],
   "source": [
    "students"
   ]
  },
  {
   "cell_type": "code",
   "execution_count": 51,
   "id": "f2e9e115",
   "metadata": {},
   "outputs": [],
   "source": [
    "del students "
   ]
  },
  {
   "cell_type": "code",
   "execution_count": 52,
   "id": "7bc15dab",
   "metadata": {},
   "outputs": [
    {
     "ename": "NameError",
     "evalue": "name 'students' is not defined",
     "output_type": "error",
     "traceback": [
      "\u001b[1;31m---------------------------------------------------------------------------\u001b[0m",
      "\u001b[1;31mNameError\u001b[0m                                 Traceback (most recent call last)",
      "Cell \u001b[1;32mIn[52], line 1\u001b[0m\n\u001b[1;32m----> 1\u001b[0m students\n",
      "\u001b[1;31mNameError\u001b[0m: name 'students' is not defined"
     ]
    }
   ],
   "source": [
    "students"
   ]
  },
  {
   "cell_type": "markdown",
   "id": "8d52138b",
   "metadata": {},
   "source": [
    "# Making duplicates of a list\n",
    "       - copy   - deep copy\n",
    "       - [:] slice\n",
    "       - direct copy  - shallow copy"
   ]
  },
  {
   "cell_type": "code",
   "execution_count": 53,
   "id": "1c946626",
   "metadata": {},
   "outputs": [],
   "source": [
    "students = ['Adil', 'Ammar', \"Nasar\", \"Maaz\", 'Sohail']"
   ]
  },
  {
   "cell_type": "code",
   "execution_count": 58,
   "id": "e30cb0b0",
   "metadata": {},
   "outputs": [],
   "source": [
    "new_students = students.copy()\n",
    "\n",
    "# deep copy"
   ]
  },
  {
   "cell_type": "code",
   "execution_count": 55,
   "id": "d0702bf7",
   "metadata": {},
   "outputs": [
    {
     "data": {
      "text/plain": [
       "['Adil', 'Ammar', 'Nasar', 'Maaz', 'Sohail']"
      ]
     },
     "execution_count": 55,
     "metadata": {},
     "output_type": "execute_result"
    }
   ],
   "source": [
    "new_students"
   ]
  },
  {
   "cell_type": "code",
   "execution_count": 56,
   "id": "41e573a5",
   "metadata": {},
   "outputs": [],
   "source": [
    "old_students = students\n",
    "# shallow copy"
   ]
  },
  {
   "cell_type": "code",
   "execution_count": 57,
   "id": "edce4a11",
   "metadata": {},
   "outputs": [
    {
     "data": {
      "text/plain": [
       "['Adil', 'Ammar', 'Nasar', 'Maaz', 'Sohail']"
      ]
     },
     "execution_count": 57,
     "metadata": {},
     "output_type": "execute_result"
    }
   ],
   "source": [
    "old_students"
   ]
  },
  {
   "cell_type": "code",
   "execution_count": 60,
   "id": "af198429",
   "metadata": {},
   "outputs": [],
   "source": [
    "students.append(\"Saad\")"
   ]
  },
  {
   "cell_type": "code",
   "execution_count": 61,
   "id": "c33f8a5e",
   "metadata": {},
   "outputs": [
    {
     "data": {
      "text/plain": [
       "['Adil', 'Ammar', 'Nasar', 'Maaz', 'Sohail', 'Saad']"
      ]
     },
     "execution_count": 61,
     "metadata": {},
     "output_type": "execute_result"
    }
   ],
   "source": [
    "students"
   ]
  },
  {
   "cell_type": "code",
   "execution_count": 62,
   "id": "32de97eb",
   "metadata": {},
   "outputs": [
    {
     "data": {
      "text/plain": [
       "['Adil', 'Ammar', 'Nasar', 'Maaz', 'Sohail', 'Saad']"
      ]
     },
     "execution_count": 62,
     "metadata": {},
     "output_type": "execute_result"
    }
   ],
   "source": [
    "old_students"
   ]
  },
  {
   "cell_type": "code",
   "execution_count": 65,
   "id": "85f33fda",
   "metadata": {},
   "outputs": [
    {
     "data": {
      "text/plain": [
       "2783536916544"
      ]
     },
     "execution_count": 65,
     "metadata": {},
     "output_type": "execute_result"
    }
   ],
   "source": [
    "id(students)"
   ]
  },
  {
   "cell_type": "code",
   "execution_count": 64,
   "id": "2981e4ec",
   "metadata": {},
   "outputs": [
    {
     "data": {
      "text/plain": [
       "2783536916544"
      ]
     },
     "execution_count": 64,
     "metadata": {},
     "output_type": "execute_result"
    }
   ],
   "source": [
    "id(old_students)"
   ]
  },
  {
   "cell_type": "code",
   "execution_count": 66,
   "id": "356f29ae",
   "metadata": {},
   "outputs": [
    {
     "data": {
      "text/plain": [
       "2783537693696"
      ]
     },
     "execution_count": 66,
     "metadata": {},
     "output_type": "execute_result"
    }
   ],
   "source": [
    "id(new_students)"
   ]
  },
  {
   "cell_type": "code",
   "execution_count": 67,
   "id": "0d8a8351",
   "metadata": {},
   "outputs": [
    {
     "data": {
      "text/plain": [
       "1"
      ]
     },
     "execution_count": 67,
     "metadata": {},
     "output_type": "execute_result"
    }
   ],
   "source": [
    "old_students.count(\"Maaz\")"
   ]
  },
  {
   "cell_type": "code",
   "execution_count": 68,
   "id": "dc8f57b9",
   "metadata": {},
   "outputs": [
    {
     "data": {
      "text/plain": [
       "3"
      ]
     },
     "execution_count": 68,
     "metadata": {},
     "output_type": "execute_result"
    }
   ],
   "source": [
    "old_students.index(\"Maaz\")"
   ]
  },
  {
   "cell_type": "markdown",
   "id": "6036d06e",
   "metadata": {},
   "source": [
    "# Python Collection: Dictionary\n",
    "            - Dictionary is python data structure\n",
    "            - It comprises on key:value pair\n",
    "            - There is no index in dictionary\n",
    "            - Dictionary is mutable\n",
    "            - widely used Ds\n",
    "            \n",
    "            - {key:value} culrley brackets with key value  pair\n",
    "            "
   ]
  },
  {
   "cell_type": "code",
   "execution_count": 10,
   "id": "2eac7c96",
   "metadata": {},
   "outputs": [],
   "source": [
    "# creating a dictionary\n",
    "student1 = {'roll_number':4321, 'name':'Maaz', 'course':'Python',\n",
    "           'age':15, 'email':'maaz@maaz.com', 15:\"Police Help Line\",'roll_number':1234}"
   ]
  },
  {
   "cell_type": "code",
   "execution_count": 11,
   "id": "a5757f83",
   "metadata": {},
   "outputs": [
    {
     "name": "stdout",
     "output_type": "stream",
     "text": [
      "<class 'dict'>\n"
     ]
    }
   ],
   "source": [
    "print(type(student1))"
   ]
  },
  {
   "cell_type": "code",
   "execution_count": 12,
   "id": "a3155c24",
   "metadata": {},
   "outputs": [
    {
     "data": {
      "text/plain": [
       "6"
      ]
     },
     "execution_count": 12,
     "metadata": {},
     "output_type": "execute_result"
    }
   ],
   "source": [
    "len(student1)"
   ]
  },
  {
   "cell_type": "code",
   "execution_count": 13,
   "id": "efdb3d07",
   "metadata": {},
   "outputs": [
    {
     "name": "stdout",
     "output_type": "stream",
     "text": [
      "{'roll_number': 1234, 'name': 'Maaz', 'course': 'Python', 'age': 15, 'email': 'maaz@maaz.com', 15: 'Police Help Line'}\n"
     ]
    }
   ],
   "source": [
    "print(student1)"
   ]
  },
  {
   "cell_type": "markdown",
   "id": "d525c69b",
   "metadata": {},
   "source": [
    "### key can not be duplicated. If you try to make a dulpicate key with some new value it will override the previous one. "
   ]
  },
  {
   "cell_type": "markdown",
   "id": "0711f275",
   "metadata": {},
   "source": [
    "### Aceessing data from dictionary:\n",
    "     - there is no index \n",
    "     - data is accessed via keys "
   ]
  },
  {
   "cell_type": "code",
   "execution_count": 14,
   "id": "3273fd07",
   "metadata": {},
   "outputs": [
    {
     "data": {
      "text/plain": [
       "'Maaz'"
      ]
     },
     "execution_count": 14,
     "metadata": {},
     "output_type": "execute_result"
    }
   ],
   "source": [
    "student1['name']"
   ]
  },
  {
   "cell_type": "code",
   "execution_count": 15,
   "id": "f6d2e686",
   "metadata": {},
   "outputs": [
    {
     "data": {
      "text/plain": [
       "'Police Help Line'"
      ]
     },
     "execution_count": 15,
     "metadata": {},
     "output_type": "execute_result"
    }
   ],
   "source": [
    "student1[15]"
   ]
  },
  {
   "cell_type": "code",
   "execution_count": 16,
   "id": "9552c80c",
   "metadata": {},
   "outputs": [],
   "source": [
    "student2 = [4321, 'Maaz','Python',15, 'maaz@maaz.com', 'Plice Help Line']"
   ]
  },
  {
   "cell_type": "code",
   "execution_count": 17,
   "id": "df4f8a08",
   "metadata": {},
   "outputs": [
    {
     "data": {
      "text/plain": [
       "dict_keys(['roll_number', 'name', 'course', 'age', 'email', 15])"
      ]
     },
     "execution_count": 17,
     "metadata": {},
     "output_type": "execute_result"
    }
   ],
   "source": [
    "# getting all the keys of a dictionary\n",
    "student1.keys()"
   ]
  },
  {
   "cell_type": "code",
   "execution_count": 18,
   "id": "1b62b7b5",
   "metadata": {},
   "outputs": [
    {
     "data": {
      "text/plain": [
       "dict_values([1234, 'Maaz', 'Python', 15, 'maaz@maaz.com', 'Police Help Line'])"
      ]
     },
     "execution_count": 18,
     "metadata": {},
     "output_type": "execute_result"
    }
   ],
   "source": [
    "student1.values()"
   ]
  },
  {
   "cell_type": "code",
   "execution_count": 19,
   "id": "5d5f9969",
   "metadata": {},
   "outputs": [
    {
     "data": {
      "text/plain": [
       "dict_items([('roll_number', 1234), ('name', 'Maaz'), ('course', 'Python'), ('age', 15), ('email', 'maaz@maaz.com'), (15, 'Police Help Line')])"
      ]
     },
     "execution_count": 19,
     "metadata": {},
     "output_type": "execute_result"
    }
   ],
   "source": [
    "student1.items()"
   ]
  },
  {
   "cell_type": "markdown",
   "id": "080f5748",
   "metadata": {},
   "source": [
    "### Adding new key value pair in an existing dictionary"
   ]
  },
  {
   "cell_type": "code",
   "execution_count": 20,
   "id": "ee2e94a2",
   "metadata": {},
   "outputs": [
    {
     "data": {
      "text/plain": [
       "{'roll_number': 1234,\n",
       " 'name': 'Maaz',\n",
       " 'course': 'Python',\n",
       " 'age': 15,\n",
       " 'email': 'maaz@maaz.com',\n",
       " 15: 'Police Help Line'}"
      ]
     },
     "execution_count": 20,
     "metadata": {},
     "output_type": "execute_result"
    }
   ],
   "source": [
    "student1"
   ]
  },
  {
   "cell_type": "code",
   "execution_count": 21,
   "id": "5d5e1eaf",
   "metadata": {},
   "outputs": [],
   "source": [
    "student1['gender'] = 'Male'"
   ]
  },
  {
   "cell_type": "code",
   "execution_count": 22,
   "id": "fe6ac65d",
   "metadata": {},
   "outputs": [
    {
     "data": {
      "text/plain": [
       "{'roll_number': 1234,\n",
       " 'name': 'Maaz',\n",
       " 'course': 'Python',\n",
       " 'age': 15,\n",
       " 'email': 'maaz@maaz.com',\n",
       " 15: 'Police Help Line',\n",
       " 'gender': 'Male'}"
      ]
     },
     "execution_count": 22,
     "metadata": {},
     "output_type": "execute_result"
    }
   ],
   "source": [
    "student1"
   ]
  },
  {
   "cell_type": "code",
   "execution_count": 24,
   "id": "ad831971",
   "metadata": {},
   "outputs": [],
   "source": [
    "siblings = {'cousin':\"Huzaifa\", 'location':'Dhoraji'}"
   ]
  },
  {
   "cell_type": "code",
   "execution_count": 25,
   "id": "8667decd",
   "metadata": {},
   "outputs": [
    {
     "data": {
      "text/plain": [
       "{'roll_number': 1234,\n",
       " 'name': 'Maaz',\n",
       " 'course': 'Python',\n",
       " 'age': 15,\n",
       " 'email': 'maaz@maaz.com',\n",
       " 15: 'Police Help Line',\n",
       " 'gender': 'Male',\n",
       " 'siblings': {'cousin': 'Huzaifa', 'location': 'Dhoraji'}}"
      ]
     },
     "execution_count": 25,
     "metadata": {},
     "output_type": "execute_result"
    }
   ],
   "source": [
    "student1['siblings'] = siblings\n",
    "student1"
   ]
  },
  {
   "cell_type": "code",
   "execution_count": 26,
   "id": "07111609",
   "metadata": {},
   "outputs": [
    {
     "data": {
      "text/plain": [
       "{'roll_number': 1234,\n",
       " 'name': 'Maaz',\n",
       " 'course': 'Python',\n",
       " 'age': 15,\n",
       " 'email': 'maaz@maaz.com',\n",
       " 15: 'Police Help Line',\n",
       " 'gender': 'Male'}"
      ]
     },
     "execution_count": 26,
     "metadata": {},
     "output_type": "execute_result"
    }
   ],
   "source": [
    "del student1['siblings']\n",
    "student1"
   ]
  },
  {
   "cell_type": "code",
   "execution_count": 27,
   "id": "3677dbb7",
   "metadata": {},
   "outputs": [],
   "source": [
    "# it works like extend method of list\n",
    "student1.update(siblings)"
   ]
  },
  {
   "cell_type": "code",
   "execution_count": 28,
   "id": "024022af",
   "metadata": {},
   "outputs": [
    {
     "data": {
      "text/plain": [
       "{'roll_number': 1234,\n",
       " 'name': 'Maaz',\n",
       " 'course': 'Python',\n",
       " 'age': 15,\n",
       " 'email': 'maaz@maaz.com',\n",
       " 15: 'Police Help Line',\n",
       " 'gender': 'Male',\n",
       " 'cousin': 'Huzaifa',\n",
       " 'location': 'Dhoraji'}"
      ]
     },
     "execution_count": 28,
     "metadata": {},
     "output_type": "execute_result"
    }
   ],
   "source": [
    "student1"
   ]
  },
  {
   "cell_type": "code",
   "execution_count": 30,
   "id": "8c8c8dbe",
   "metadata": {},
   "outputs": [
    {
     "data": {
      "text/plain": [
       "('Maaz', 'Maaz')"
      ]
     },
     "execution_count": 30,
     "metadata": {},
     "output_type": "execute_result"
    }
   ],
   "source": [
    "# both are similar\n",
    "student1.get('name') , student1['name']"
   ]
  },
  {
   "cell_type": "markdown",
   "id": "a94726f6",
   "metadata": {},
   "source": [
    "### Removing Items from dictionary\n",
    "    - del \n",
    "    - pop\n",
    "    - pop item"
   ]
  },
  {
   "cell_type": "code",
   "execution_count": 31,
   "id": "0f5e91ca",
   "metadata": {},
   "outputs": [
    {
     "ename": "TypeError",
     "evalue": "pop expected at least 1 argument, got 0",
     "output_type": "error",
     "traceback": [
      "\u001b[1;31m---------------------------------------------------------------------------\u001b[0m",
      "\u001b[1;31mTypeError\u001b[0m                                 Traceback (most recent call last)",
      "Cell \u001b[1;32mIn[31], line 1\u001b[0m\n\u001b[1;32m----> 1\u001b[0m student1\u001b[38;5;241m.\u001b[39mpop()\n",
      "\u001b[1;31mTypeError\u001b[0m: pop expected at least 1 argument, got 0"
     ]
    }
   ],
   "source": [
    "student1.pop()"
   ]
  },
  {
   "cell_type": "code",
   "execution_count": 32,
   "id": "36a60c05",
   "metadata": {},
   "outputs": [
    {
     "data": {
      "text/plain": [
       "'Police Help Line'"
      ]
     },
     "execution_count": 32,
     "metadata": {},
     "output_type": "execute_result"
    }
   ],
   "source": [
    "student1.pop(15)"
   ]
  },
  {
   "cell_type": "code",
   "execution_count": 33,
   "id": "60823494",
   "metadata": {},
   "outputs": [
    {
     "data": {
      "text/plain": [
       "'Dhoraji'"
      ]
     },
     "execution_count": 33,
     "metadata": {},
     "output_type": "execute_result"
    }
   ],
   "source": [
    "student1.pop('location')"
   ]
  },
  {
   "cell_type": "code",
   "execution_count": 34,
   "id": "0555bf90",
   "metadata": {},
   "outputs": [
    {
     "data": {
      "text/plain": [
       "{'roll_number': 1234,\n",
       " 'name': 'Maaz',\n",
       " 'course': 'Python',\n",
       " 'age': 15,\n",
       " 'email': 'maaz@maaz.com',\n",
       " 'gender': 'Male',\n",
       " 'cousin': 'Huzaifa'}"
      ]
     },
     "execution_count": 34,
     "metadata": {},
     "output_type": "execute_result"
    }
   ],
   "source": [
    "student1"
   ]
  },
  {
   "cell_type": "code",
   "execution_count": 35,
   "id": "bf45007f",
   "metadata": {},
   "outputs": [
    {
     "data": {
      "text/plain": [
       "('cousin', 'Huzaifa')"
      ]
     },
     "execution_count": 35,
     "metadata": {},
     "output_type": "execute_result"
    }
   ],
   "source": [
    "student1.popitem()"
   ]
  },
  {
   "cell_type": "markdown",
   "id": "ae3494af",
   "metadata": {},
   "source": [
    "# Conditional Statements / Control flow\n",
    "       - if \n",
    "       - if else\n",
    "       - elif\n",
    "       "
   ]
  },
  {
   "cell_type": "code",
   "execution_count": 37,
   "id": "52cad0ae",
   "metadata": {},
   "outputs": [
    {
     "name": "stdout",
     "output_type": "stream",
     "text": [
      "hello\n"
     ]
    },
    {
     "data": {
      "text/plain": [
       "'hello'"
      ]
     },
     "execution_count": 37,
     "metadata": {},
     "output_type": "execute_result"
    }
   ],
   "source": [
    "input()"
   ]
  },
  {
   "cell_type": "code",
   "execution_count": 38,
   "id": "c5a01484",
   "metadata": {},
   "outputs": [
    {
     "name": "stdout",
     "output_type": "stream",
     "text": [
      "Age batao23\n"
     ]
    },
    {
     "data": {
      "text/plain": [
       "'23'"
      ]
     },
     "execution_count": 38,
     "metadata": {},
     "output_type": "execute_result"
    }
   ],
   "source": [
    "input(\"Age batao\")"
   ]
  },
  {
   "cell_type": "code",
   "execution_count": 43,
   "id": "955a3729",
   "metadata": {},
   "outputs": [
    {
     "name": "stdout",
     "output_type": "stream",
     "text": [
      "Please tell me your birth year1947\n",
      "your are 77.0 years old\n"
     ]
    }
   ],
   "source": [
    "year = float(input(\"Please tell me your birth year\"))\n",
    "print(f\"your are {2024-year} years old\")"
   ]
  },
  {
   "cell_type": "code",
   "execution_count": 45,
   "id": "10ea7869",
   "metadata": {},
   "outputs": [
    {
     "name": "stdout",
     "output_type": "stream",
     "text": [
      "Please tell me your age56\n"
     ]
    }
   ],
   "source": [
    "age = float(input(\"Please tell me your age\"))\n",
    "if age >=60:\n",
    "    print(\"You are a senior citizen\")"
   ]
  },
  {
   "cell_type": "code",
   "execution_count": 47,
   "id": "297938d5",
   "metadata": {},
   "outputs": [
    {
     "name": "stdout",
     "output_type": "stream",
     "text": [
      "Please tell me your age89\n",
      "You are a senior citizen\n"
     ]
    }
   ],
   "source": [
    "age = float(input(\"Please tell me your age\"))\n",
    "if age >=60:\n",
    "    print(\"You are a senior citizen\")\n",
    "else:\n",
    "    print(\"You are Junior Citizen\")"
   ]
  },
  {
   "cell_type": "code",
   "execution_count": 53,
   "id": "46c58ebb",
   "metadata": {},
   "outputs": [
    {
     "name": "stdout",
     "output_type": "stream",
     "text": [
      "Please enter you genderfemale\n",
      "You are a female,Please pay the portal fee to login\n"
     ]
    }
   ],
   "source": [
    "# ask user his/her gender if user is male then allow login to portal\n",
    "# if user female then say her to pay portal fee first. \n",
    "\n",
    "gender = input(\"Please enter you gender\").lower().strip()\n",
    "if gender == \"male\":\n",
    "    print(f\"You are a {gender}, allowed to login to the portal\")\n",
    "else:\n",
    "    print(f\"You are a {gender},Please pay the portal fee to login\")"
   ]
  },
  {
   "cell_type": "code",
   "execution_count": 54,
   "id": "7c8022b3",
   "metadata": {},
   "outputs": [],
   "source": [
    "user_ids = ['yasirpappo', 'mudasirtiger', 'ammirpython', 'baberconda', 'talhachingari']"
   ]
  },
  {
   "cell_type": "markdown",
   "id": "d9ca8b02",
   "metadata": {},
   "source": [
    "# in "
   ]
  },
  {
   "cell_type": "code",
   "execution_count": 55,
   "id": "49ca7575",
   "metadata": {},
   "outputs": [
    {
     "data": {
      "text/plain": [
       "True"
      ]
     },
     "execution_count": 55,
     "metadata": {},
     "output_type": "execute_result"
    }
   ],
   "source": [
    "'yasirpappo' in user_ids"
   ]
  },
  {
   "cell_type": "code",
   "execution_count": 57,
   "id": "98a2e0e8",
   "metadata": {},
   "outputs": [
    {
     "name": "stdout",
     "output_type": "stream",
     "text": [
      "Please enter your useridyasirpappo\n",
      "Logged In with userid yasirpappo\n"
     ]
    }
   ],
   "source": [
    "user_id = input(\"Please enter your userid\")\n",
    "if user_id in user_ids:\n",
    "    print(f\"Logged In with userid {user_id}\")\n",
    "else:\n",
    "    print(f\"Invalid userid {user_id}\")"
   ]
  },
  {
   "cell_type": "code",
   "execution_count": 60,
   "id": "6b03e173",
   "metadata": {},
   "outputs": [
    {
     "name": "stdout",
     "output_type": "stream",
     "text": [
      "Please enter your full namemian muhammad nawaz sharif\n",
      "You have a big name\n"
     ]
    }
   ],
   "source": [
    "# ask user his /her full name \n",
    "# if the length of the name is more than 15 then say You have a big name\n",
    "# if the length of the name is less than 15 then say You have a small name\n",
    "name = input(\"Please enter your full name\")\n",
    "if len(name)>=15:\n",
    "    print(\"You have a big name\")\n",
    "else:\n",
    "    print(\"You have a small name\")\n",
    "    "
   ]
  },
  {
   "cell_type": "markdown",
   "id": "34fa74fe",
   "metadata": {},
   "source": [
    "# Class10(25June2024)"
   ]
  },
  {
   "cell_type": "raw",
   "id": "6608d2d3",
   "metadata": {},
   "source": [
    "if a person is less than 20 >>> teenager\n",
    "if a person is more than 19 but less than 30 >>> young\n",
    "if a person is more than 30 but less than 50 >>> adult \n",
    "if a person is more than 50 but less than 60>>> grownup man\n",
    "if a person is more than 60  >>> oldman"
   ]
  },
  {
   "cell_type": "code",
   "execution_count": 7,
   "id": "b808a97c",
   "metadata": {},
   "outputs": [
    {
     "name": "stdout",
     "output_type": "stream",
     "text": [
      "Please tell me your age: 34\n",
      "You are a adult\n"
     ]
    }
   ],
   "source": [
    "age = float(input(\"Please tell me your age: \"))\n",
    "if age <20:\n",
    "    print(\"You are a teenager\")\n",
    "elif age< 30:\n",
    "    print(\"You are a young\")\n",
    "elif age< 50:\n",
    "    print(\"You are a adult\")\n",
    "elif age <60:\n",
    "    print(\"You are a grownup man\")\n",
    "else:\n",
    "    print(\"You are a oldman\")"
   ]
  },
  {
   "cell_type": "code",
   "execution_count": 17,
   "id": "47a8419b",
   "metadata": {},
   "outputs": [
    {
     "name": "stdout",
     "output_type": "stream",
     "text": [
      "Please tell me your age: 78\n",
      "Oldman\n"
     ]
    }
   ],
   "source": [
    "age = float(input(\"Please tell me your age: \"))\n",
    "if age >=60:\n",
    "    print(\"Oldman\")\n",
    "elif age>=50:\n",
    "    print(\"Grownup\")\n",
    "elif age>=30:\n",
    "    print(\"Adult\")\n",
    "elif age>=20:\n",
    "    print(\"Young\")\n",
    "elif age>=13:\n",
    "    print(\"Teenager\")\n",
    "elif age>=3:\n",
    "    print(\"Kid\")\n",
    "else:\n",
    "    print(\"Toodler\")"
   ]
  },
  {
   "cell_type": "code",
   "execution_count": 18,
   "id": "3a522d06",
   "metadata": {},
   "outputs": [
    {
     "name": "stdout",
     "output_type": "stream",
     "text": [
      "Enter your percentage67\n",
      "your grade is B\n"
     ]
    }
   ],
   "source": [
    "percentage = float(input(\"Enter your percentage\"))\n",
    "if percentage <50:\n",
    "    grade = \"Fail\"\n",
    "elif percentage <60:\n",
    "    grade= \"C\"\n",
    "elif percentage <70:\n",
    "    grade= \"B\"\n",
    "elif percentage <80:\n",
    "    grade= \"A\"\n",
    "elif percentage <90:\n",
    "    grade= \"A+\"\n",
    "else:\n",
    "    grade = \"A*\"\n",
    "print(f\"your grade is {grade}\")"
   ]
  },
  {
   "cell_type": "markdown",
   "id": "e8d25523",
   "metadata": {},
   "source": [
    "# Nested Conditions / Nested Choices / Nested ifs"
   ]
  },
  {
   "cell_type": "code",
   "execution_count": 19,
   "id": "30a2ef25",
   "metadata": {},
   "outputs": [
    {
     "name": "stdout",
     "output_type": "stream",
     "text": [
      "Is today is election dayno\n",
      "Do you have a valid CNICno\n",
      "Is your name in voting listno\n",
      "Sorry you can not cast vote as there no election today\n"
     ]
    }
   ],
   "source": [
    "election_day = input(\"Is today is election day\").lower()\n",
    "cnic = input(\"Do you have a valid CNIC\").lower()\n",
    "name_in_list = input(\"Is your name in voting list\").lower()\n",
    "if election_day == \"yes\":\n",
    "    if cnic==\"yes\":\n",
    "        if name_in_list =='yes':\n",
    "            print(\"Welcome! please cast your vote\")\n",
    "        else:\n",
    "            print(\"Sorry your name not in voter list, you can not cast vote\")\n",
    "    else:\n",
    "        print(\"Sorry you dont have CNIC you can not cast your vote\")\n",
    "else:\n",
    "    print(\"Sorry you can not cast vote as there no election today\")    "
   ]
  },
  {
   "cell_type": "code",
   "execution_count": 21,
   "id": "fdf57d8f",
   "metadata": {},
   "outputs": [
    {
     "name": "stdout",
     "output_type": "stream",
     "text": [
      "Is today is election dayyes\n",
      "Do you have a valid CNICyes\n",
      "Is your name in voting listno\n",
      "Sorry your name not in voter list, you can not cast vote\n"
     ]
    }
   ],
   "source": [
    "election_day = input(\"Is today is election day\").lower()\n",
    "if election_day == \"yes\":\n",
    "    cnic = input(\"Do you have a valid CNIC\").lower()\n",
    "    if cnic==\"yes\":\n",
    "        name_in_list = input(\"Is your name in voting list\").lower()\n",
    "        if name_in_list =='yes':\n",
    "            print(\"Welcome! please cast your vote\")\n",
    "        else:\n",
    "            print(\"Sorry your name not in voter list, you can not cast vote\")\n",
    "    else:\n",
    "        print(\"Sorry you dont have CNIC you can not cast your vote\")\n",
    "else:\n",
    "    print(\"Sorry you can not cast vote as there no election today\")    "
   ]
  },
  {
   "cell_type": "code",
   "execution_count": 25,
   "id": "9c694bf2",
   "metadata": {},
   "outputs": [
    {
     "name": "stdout",
     "output_type": "stream",
     "text": [
      "Please enter your user id to log inmudasirtiger\n",
      "Please enter your password1234\n",
      "Welcome You are logged In\n"
     ]
    }
   ],
   "source": [
    "user_ids = ['yasirpappo', 'mudasirtiger', 'ammirpython', 'baberconda', 'talhachingari']\n",
    "passwords = ['1234','4321','4545', '4040','5555']\n",
    "\n",
    "userid = input(\"Please enter your user id to log in\")\n",
    "if userid in user_ids:\n",
    "    passw = input(\"Please enter your password\")\n",
    "    if passw in passwords:\n",
    "        print(\"Welcome You are logged In\")\n",
    "    else:\n",
    "        print(\"Password is wrong\")\n",
    "else:\n",
    "    print(\"Invalid User id\")      "
   ]
  },
  {
   "cell_type": "code",
   "execution_count": 33,
   "id": "e9891a93",
   "metadata": {},
   "outputs": [
    {
     "name": "stdout",
     "output_type": "stream",
     "text": [
      "Enter physics marks78\n",
      "Enter maths marks87\n",
      "Enter urdu marks56\n",
      "Enter chem marks67\n",
      "Enter comp marks90\n",
      "your percentage is 75.6 and your grade is A and your result is Pass in Pass in All Subjects\n"
     ]
    }
   ],
   "source": [
    "phy = float(input(\"Enter physics marks\"))\n",
    "maths = float(input(\"Enter maths marks\"))\n",
    "urdu = float(input(\"Enter urdu marks\"))\n",
    "chem = float(input(\"Enter chem marks\"))\n",
    "comp = float(input(\"Enter comp marks\"))\n",
    "obtained = phy+maths+urdu+chem+comp\n",
    "total =500\n",
    "percentage = obtained/total*100\n",
    "\n",
    "if phy>=50:\n",
    "    if maths>=50:\n",
    "        if urdu>=50:\n",
    "            if chem>=50:\n",
    "                if comp>=50:\n",
    "                    result = \"Pass\"\n",
    "                    sub = \"Pass in All Subjects\"\n",
    "                else:\n",
    "                    result=\"Fail\"\n",
    "                    sub = \"Computer\"\n",
    "            else:\n",
    "                result=\"Fail\" \n",
    "                sub= \"Chem\"\n",
    "        \n",
    "        else:\n",
    "            result=\"Fail\"\n",
    "            sub = \"Urdu\"\n",
    "    else:\n",
    "        result=\"Fail\"\n",
    "        sub = \"Maths\"\n",
    "else:\n",
    "    result = \"Fail\"\n",
    "    sub = \"Physics\"   \n",
    "    \n",
    "    \n",
    "if percentage <50:\n",
    "    grade = \"Fail\"\n",
    "elif percentage <60:\n",
    "    grade= \"C\"\n",
    "elif percentage <70:\n",
    "    grade= \"B\"\n",
    "elif percentage <80:\n",
    "    grade= \"A\"\n",
    "elif percentage <90:\n",
    "    grade= \"A+\"\n",
    "else:\n",
    "    grade = \"A*\"\n",
    "print(f\"your percentage is {percentage} and your grade is {grade} and your result is {result} in {sub}\")"
   ]
  },
  {
   "cell_type": "markdown",
   "id": "16b24ec0",
   "metadata": {},
   "source": [
    "# class 11 (27June2024"
   ]
  },
  {
   "cell_type": "markdown",
   "id": "487b8e51",
   "metadata": {},
   "source": [
    "# Task1:\n",
    "\n",
    "A company decided to give bonus of 5% to employee if his/her year of service is more than 5 years.\n",
    "\n",
    "Ask user for their salary and year of service and print the net bonus amount."
   ]
  },
  {
   "cell_type": "code",
   "execution_count": 4,
   "id": "45d6b5d2",
   "metadata": {},
   "outputs": [
    {
     "name": "stdout",
     "output_type": "stream",
     "text": [
      "Enter how many year have you been working in the office5\n",
      "Enter your gross salary450000\n",
      "Your bonus is Rs: 22500.0\n"
     ]
    }
   ],
   "source": [
    "service = float(input(\"Enter how many year have you been working in the office\"))\n",
    "\n",
    "if service >=5:\n",
    "    salary = float(input(\"Enter your gross salary\"))    \n",
    "    bonus = salary*0.05\n",
    "else:\n",
    "    bonus = salary*0\n",
    "print(f\"Your bonus is Rs: {bonus}\")    "
   ]
  },
  {
   "cell_type": "markdown",
   "id": "bab7bd16",
   "metadata": {},
   "source": [
    "# Task2:\n",
    "A company decided to give bonus of \n",
    "         - 25% to employee if his/her year of service is more than or equal to 15 years.\n",
    "         \n",
    "         - 20% to employee if his/her year of service is more than or equal to 10 years.\n",
    "         \n",
    "         - 15% to employee if his/her year of service is more than or equal to 7 years.\n",
    "         \n",
    "         - 10% to employee if his/her year of service is more than or equal to 5 years.\n",
    "         \n",
    "         - 5%  to employee if his/her year of service is less than 5 years.    \n",
    "\n",
    "Ask user for their salary and year of service and print the net bonus amount."
   ]
  },
  {
   "cell_type": "code",
   "execution_count": 6,
   "id": "e2edb420",
   "metadata": {},
   "outputs": [
    {
     "name": "stdout",
     "output_type": "stream",
     "text": [
      "Enter how many year have you been working in the office: 5\n",
      "Enter your gross salary200000\n",
      "Your bonus amt is Rs:20000.0/-\n"
     ]
    }
   ],
   "source": [
    "service = float(input(\"Enter how many year have you been working in the office: \"))\n",
    "salary = float(input(\"Enter your gross salary\"))   \n",
    "if service >=15:\n",
    "    bonus = salary*0.25\n",
    "elif service >=10:\n",
    "    bonus = salary*0.20\n",
    "elif service >=7:\n",
    "    bonus = salary*0.15\n",
    "elif service >=5:\n",
    "    bonus = salary*0.10\n",
    "else:\n",
    "    bonus = salary*0.05\n",
    "print(f\"Your bonus amt is Rs:{bonus}/-\")"
   ]
  },
  {
   "cell_type": "markdown",
   "id": "2d63e444",
   "metadata": {},
   "source": [
    "# Task3:\n",
    "Write a program to check whether a person is eligible for voting or not.  \n",
    "\n",
    "Ask age of the person , if age is more than or equal to 18 then eligible if less than 18 no eligible"
   ]
  },
  {
   "cell_type": "markdown",
   "id": "fcbfc2f3",
   "metadata": {},
   "source": [
    "# Task4:\n",
    "Take values of length and breadth of a rectangle from user and check if it is square or rectangle."
   ]
  },
  {
   "cell_type": "markdown",
   "id": "d9d2dabf",
   "metadata": {},
   "source": [
    "# Task5:\n",
    "\n",
    "Write a program to check whether a number entered by user is even or odd.\n",
    "\n",
    "Hint: Use modulo operator (%) to check remainder when divideing with 2 , if remainder is 0 even, else odd  "
   ]
  },
  {
   "cell_type": "code",
   "execution_count": 8,
   "id": "533778e0",
   "metadata": {},
   "outputs": [
    {
     "name": "stdout",
     "output_type": "stream",
     "text": [
      "Enter a number7\n",
      "Odd\n"
     ]
    }
   ],
   "source": [
    "number = int(input(\"Enter a number\"))\n",
    "\n",
    "if number%2 == 0:\n",
    "    print(\"Even\")\n",
    "else:\n",
    "    print(\"Odd\")"
   ]
  },
  {
   "cell_type": "markdown",
   "id": "cd581746",
   "metadata": {},
   "source": [
    "# Task6: \n",
    "    Take two int values from user and print greatest among them."
   ]
  },
  {
   "cell_type": "code",
   "execution_count": 15,
   "id": "4c215140",
   "metadata": {},
   "outputs": [
    {
     "name": "stdout",
     "output_type": "stream",
     "text": [
      "Enter a number5\n",
      "Enter a number5\n",
      "Both are equal\n"
     ]
    }
   ],
   "source": [
    "num1 = int(input(\"Enter a number\"))\n",
    "num2 = int(input(\"Enter a number\"))\n",
    "if num1 > num2: \n",
    "    print(f\"{num1} is greater than {num2}\")\n",
    "elif num2 > num1:\n",
    "    print(f\"{num2} is greater than {num1}\")\n",
    "else:\n",
    "    print(\"Both are equal\") "
   ]
  },
  {
   "cell_type": "markdown",
   "id": "0b81555c",
   "metadata": {},
   "source": [
    "# Task7: \n",
    "    A shop will give discount of 10% if the cost of purchased quantity is more than 10000.\n",
    "- Ask user for quantity\n",
    "- Suppose, one unit will cost 100.\n",
    "- Judge and print total cost for user."
   ]
  },
  {
   "cell_type": "code",
   "execution_count": 17,
   "id": "9659abac",
   "metadata": {},
   "outputs": [
    {
     "name": "stdout",
     "output_type": "stream",
     "text": [
      "Enter how many units you require? 5\n",
      "Your total bill after discount 0.0 is Rs: 7500.0\n"
     ]
    }
   ],
   "source": [
    "price = 1500\n",
    "quantity = int(input(\"Enter how many units you require? \"))\n",
    "total_cost = price*quantity\n",
    "if total_cost >=10000:\n",
    "    discount = total_cost*.10\n",
    "    print(f\"Your total bill after discount {discount} is Rs: {total_cost-discount}\")\n",
    "else:\n",
    "    discount = total_cost*.0\n",
    "    print(f\"Your total bill after discount {discount} is Rs: {total_cost-discount}\")    "
   ]
  },
  {
   "cell_type": "markdown",
   "id": "7d43f1a6",
   "metadata": {},
   "source": [
    "# Task8:\n",
    "    Write a program to calculate the electricity bill (accept number of unit from user) \n",
    "    \n",
    "according to the following criteria :\n",
    "\n",
    "     Unit                                                     Price  \n",
    "     \n",
    "upto 100 units                                              no charge\n",
    "\n",
    "Next 200 units                                              Rs 25 per unit\n",
    "\n",
    "After 300 units                                             Rs 45 per unit\n",
    "\n",
    "(For example if input unit is 350 than total bill amount is Rs.7250\n",
    "\n",
    "(For example if input unit is 97 than total bill amount is Rs.0\n",
    "\n",
    "(For example if input unit is 150 than total bill amount is Rs.1250"
   ]
  },
  {
   "cell_type": "code",
   "execution_count": 24,
   "id": "80fa58c5",
   "metadata": {},
   "outputs": [
    {
     "name": "stdout",
     "output_type": "stream",
     "text": [
      "How many uints consumed? 450\n",
      "You have consumeed 450 and your bill is 11750\n"
     ]
    }
   ],
   "source": [
    "units_consumed = int(input(\"How many uints consumed? \"))\n",
    "bill_amt = 0\n",
    "if units_consumed <=100:\n",
    "    bill_amt = units_consumed*0\n",
    "elif units_consumed <=300:\n",
    "    bill_amt = 100*0 + (units_consumed-100)*25\n",
    "else:\n",
    "    bill_amt = 100*0 + 200*25 + (units_consumed-300)*45\n",
    "    \n",
    "print(f\"You have consumeed {units_consumed} and your bill is {bill_amt}\")"
   ]
  },
  {
   "cell_type": "markdown",
   "id": "9a29b7b7",
   "metadata": {},
   "source": [
    "# Class12(2July2024)"
   ]
  },
  {
   "cell_type": "markdown",
   "id": "401bcc14",
   "metadata": {},
   "source": [
    "# Task9: \n",
    "    Ask user to enter age, gender ( M or F ), and then using following rules print their place of service.\n",
    "\n",
    "    if employee is female, then she will work only in urban areas.\n",
    "\n",
    "    if employee is a male and age is in between 20 to 40 then he may work in anywhere\n",
    "\n",
    "    if employee is male and age is in between 40 t0 60 then he will work in urban areas only.\n",
    "\n",
    "    And any other input of age should print \"ERROR\""
   ]
  },
  {
   "cell_type": "code",
   "execution_count": 2,
   "id": "7605029b",
   "metadata": {},
   "outputs": [
    {
     "name": "stdout",
     "output_type": "stream",
     "text": [
      "Enter your gender: male\n",
      "Enter your age: 67\n",
      "You take rest\n",
      "Your age is 67 and your gender is male, You will work in Error\n"
     ]
    }
   ],
   "source": [
    "gender = input(\"Enter your gender: \").lower()\n",
    "age  = int(input(\"Enter your age: \"))\n",
    "posting = 'Error'\n",
    "if gender == \"female\":\n",
    "    posting = \"Urban\"       \n",
    "        \n",
    "elif (gender=='male') and (age >20) and (age<40):\n",
    "    posting = \"Anywhere\"\n",
    "elif (gender=='male') and (age>40) and (age<60):\n",
    "    posting='Urban'\n",
    "else:\n",
    "    print(\"You take rest\")\n",
    "print(f\"Your age is {age} and your gender is {gender}, You will work in {posting}\")"
   ]
  },
  {
   "cell_type": "markdown",
   "id": "4df80696",
   "metadata": {},
   "source": [
    "# Logical and or  > results in terms of Boolean"
   ]
  },
  {
   "cell_type": "code",
   "execution_count": 10,
   "id": "0a5caa3b",
   "metadata": {},
   "outputs": [
    {
     "name": "stdout",
     "output_type": "stream",
     "text": [
      "Not OK\n"
     ]
    }
   ],
   "source": [
    "age = 30 \n",
    "gender = \"male\"\n",
    "\n",
    "if age==20 and gender==\"male\":\n",
    "    print(\"OK\")\n",
    "else:\n",
    "    print(\"Not OK\")"
   ]
  },
  {
   "cell_type": "raw",
   "id": "6310341c",
   "metadata": {},
   "source": [
    "input1   and   input2       result\n",
    "__________________________________\n",
    " True           True         True\n",
    " False          True         False\n",
    " True           False        False\n",
    " False          False        False\n",
    " \n",
    " \n",
    " input1   or  input2       result\n",
    " _________________________________\n",
    "   True        True        True\n",
    "   True         False      True\n",
    "   False       True        True\n",
    "   False       False       False"
   ]
  },
  {
   "cell_type": "markdown",
   "id": "69cd5212",
   "metadata": {},
   "source": [
    "# Truthy Falsy"
   ]
  },
  {
   "cell_type": "code",
   "execution_count": 14,
   "id": "b2a2c46a",
   "metadata": {},
   "outputs": [
    {
     "data": {
      "text/plain": [
       "False"
      ]
     },
     "execution_count": 14,
     "metadata": {},
     "output_type": "execute_result"
    }
   ],
   "source": [
    "bool(0)"
   ]
  },
  {
   "cell_type": "code",
   "execution_count": 15,
   "id": "5a126420",
   "metadata": {},
   "outputs": [
    {
     "data": {
      "text/plain": [
       "True"
      ]
     },
     "execution_count": 15,
     "metadata": {},
     "output_type": "execute_result"
    }
   ],
   "source": [
    "bool(1)"
   ]
  },
  {
   "cell_type": "code",
   "execution_count": 16,
   "id": "1ad13f65",
   "metadata": {},
   "outputs": [
    {
     "data": {
      "text/plain": [
       "True"
      ]
     },
     "execution_count": 16,
     "metadata": {},
     "output_type": "execute_result"
    }
   ],
   "source": [
    "bool(3)"
   ]
  },
  {
   "cell_type": "code",
   "execution_count": 17,
   "id": "3943c946",
   "metadata": {},
   "outputs": [
    {
     "data": {
      "text/plain": [
       "True"
      ]
     },
     "execution_count": 17,
     "metadata": {},
     "output_type": "execute_result"
    }
   ],
   "source": [
    "bool(\"hello\")"
   ]
  },
  {
   "cell_type": "code",
   "execution_count": 18,
   "id": "04f3ca49",
   "metadata": {},
   "outputs": [
    {
     "data": {
      "text/plain": [
       "False"
      ]
     },
     "execution_count": 18,
     "metadata": {},
     "output_type": "execute_result"
    }
   ],
   "source": [
    "bool(\"\")"
   ]
  },
  {
   "cell_type": "code",
   "execution_count": 19,
   "id": "3e704b2b",
   "metadata": {},
   "outputs": [
    {
     "data": {
      "text/plain": [
       "True"
      ]
     },
     "execution_count": 19,
     "metadata": {},
     "output_type": "execute_result"
    }
   ],
   "source": [
    "bool([1,2,3])"
   ]
  },
  {
   "cell_type": "code",
   "execution_count": 20,
   "id": "4308c339",
   "metadata": {},
   "outputs": [
    {
     "data": {
      "text/plain": [
       "False"
      ]
     },
     "execution_count": 20,
     "metadata": {},
     "output_type": "execute_result"
    }
   ],
   "source": [
    "bool([])"
   ]
  },
  {
   "cell_type": "code",
   "execution_count": 22,
   "id": "145d2aa3",
   "metadata": {},
   "outputs": [
    {
     "data": {
      "text/plain": [
       "12"
      ]
     },
     "execution_count": 22,
     "metadata": {},
     "output_type": "execute_result"
    }
   ],
   "source": [
    "12 or 5 or 6 or 0"
   ]
  },
  {
   "cell_type": "code",
   "execution_count": 24,
   "id": "493842c6",
   "metadata": {},
   "outputs": [
    {
     "data": {
      "text/plain": [
       "1"
      ]
     },
     "execution_count": 24,
     "metadata": {},
     "output_type": "execute_result"
    }
   ],
   "source": [
    "12 and 5 and 6 and 1"
   ]
  },
  {
   "cell_type": "markdown",
   "id": "8c0ae9c2",
   "metadata": {},
   "source": [
    "# Loops"
   ]
  },
  {
   "cell_type": "code",
   "execution_count": 4,
   "id": "be626880",
   "metadata": {},
   "outputs": [
    {
     "name": "stdout",
     "output_type": "stream",
     "text": [
      "Nasir Hussain\n",
      "Nasir Hussain\n",
      "Nasir Hussain\n",
      "Nasir Hussain\n",
      "Nasir Hussain\n",
      "Nasir Hussain\n",
      "Nasir Hussain\n",
      "Nasir Hussain\n",
      "Nasir Hussain\n",
      "Nasir Hussain\n"
     ]
    }
   ],
   "source": [
    "print(\"Nasir Hussain\")\n",
    "print(\"Nasir Hussain\")\n",
    "print(\"Nasir Hussain\")\n",
    "print(\"Nasir Hussain\")\n",
    "print(\"Nasir Hussain\")\n",
    "print(\"Nasir Hussain\")\n",
    "print(\"Nasir Hussain\")\n",
    "print(\"Nasir Hussain\")\n",
    "print(\"Nasir Hussain\")\n",
    "print(\"Nasir Hussain\")"
   ]
  },
  {
   "cell_type": "markdown",
   "id": "ea7c20bf",
   "metadata": {},
   "source": [
    "# Python Loops: For Loop , While Loop"
   ]
  },
  {
   "cell_type": "markdown",
   "id": "5c985cd3",
   "metadata": {},
   "source": [
    "## For Loop\n",
    "   In python for loop iterate over a collection. like list dictinaory range, tuple, set"
   ]
  },
  {
   "cell_type": "code",
   "execution_count": 13,
   "id": "4112c129",
   "metadata": {},
   "outputs": [
    {
     "name": "stdout",
     "output_type": "stream",
     "text": [
      "Hello 0\n",
      "Hello 1\n",
      "Hello 2\n",
      "Hello 3\n",
      "Hello 4\n",
      "Hello 5\n",
      "Hello 6\n",
      "Hello 7\n",
      "Hello 8\n",
      "Hello 9\n"
     ]
    }
   ],
   "source": [
    "for a in range(10):\n",
    "    print(\"Hello\", a)"
   ]
  },
  {
   "cell_type": "code",
   "execution_count": 11,
   "id": "84d2b95a",
   "metadata": {},
   "outputs": [
    {
     "data": {
      "text/plain": [
       "{0, 1, 2, 3, 4, 5, 6, 7, 8, 9}"
      ]
     },
     "execution_count": 11,
     "metadata": {},
     "output_type": "execute_result"
    }
   ],
   "source": []
  },
  {
   "cell_type": "code",
   "execution_count": 14,
   "id": "908daf34",
   "metadata": {},
   "outputs": [
    {
     "name": "stdout",
     "output_type": "stream",
     "text": [
      "Dear Adil kal test hy\n",
      "Dear Ammar kal test hy\n",
      "Dear Nasar kal test hy\n",
      "Dear Maaz kal test hy\n",
      "Dear Sohail kal test hy\n"
     ]
    }
   ],
   "source": [
    "students = ['Adil', 'Ammar', \"Nasar\", \"Maaz\", 'Sohail']\n",
    "\n",
    "print(f\"Dear {students[0]} kal test hy\")\n",
    "print(f\"Dear {students[1]} kal test hy\")\n",
    "print(f\"Dear {students[2]} kal test hy\")\n",
    "print(f\"Dear {students[3]} kal test hy\")\n",
    "print(f\"Dear {students[4]} kal test hy\")"
   ]
  },
  {
   "cell_type": "code",
   "execution_count": 15,
   "id": "1935c328",
   "metadata": {},
   "outputs": [
    {
     "name": "stdout",
     "output_type": "stream",
     "text": [
      "Dear Adil kal test hy\n",
      "Dear Ammar kal test hy\n",
      "Dear Nasar kal test hy\n",
      "Dear Maaz kal test hy\n",
      "Dear Sohail kal test hy\n"
     ]
    }
   ],
   "source": [
    "for student in students:\n",
    "    print(f\"Dear {student} kal test hy\")"
   ]
  },
  {
   "cell_type": "code",
   "execution_count": 16,
   "id": "d7ef5b83",
   "metadata": {},
   "outputs": [
    {
     "name": "stdout",
     "output_type": "stream",
     "text": [
      "0\n",
      "1\n",
      "2\n",
      "3\n",
      "4\n",
      "5\n",
      "6\n",
      "7\n",
      "8\n",
      "9\n"
     ]
    }
   ],
   "source": [
    "for a in range(10):\n",
    "    print(a)"
   ]
  },
  {
   "cell_type": "code",
   "execution_count": 17,
   "id": "1e4afe81",
   "metadata": {},
   "outputs": [
    {
     "name": "stdout",
     "output_type": "stream",
     "text": [
      "1\n",
      "2\n",
      "3\n",
      "4\n",
      "5\n",
      "6\n",
      "7\n",
      "8\n",
      "9\n"
     ]
    }
   ],
   "source": [
    "for a in range(1,10):\n",
    "    print(a)"
   ]
  },
  {
   "cell_type": "code",
   "execution_count": 19,
   "id": "9936d0b1",
   "metadata": {},
   "outputs": [
    {
     "name": "stdout",
     "output_type": "stream",
     "text": [
      "1\n",
      "3\n",
      "5\n",
      "7\n",
      "9\n"
     ]
    }
   ],
   "source": [
    "for a in range(1,10,2):# start,end,step\n",
    "    print(a)"
   ]
  },
  {
   "cell_type": "code",
   "execution_count": 20,
   "id": "2976afbd",
   "metadata": {},
   "outputs": [
    {
     "name": "stdout",
     "output_type": "stream",
     "text": [
      "1\n",
      "6\n",
      "11\n",
      "16\n",
      "21\n",
      "26\n",
      "31\n",
      "36\n",
      "41\n",
      "46\n",
      "51\n",
      "56\n",
      "61\n",
      "66\n",
      "71\n",
      "76\n",
      "81\n",
      "86\n",
      "91\n",
      "96\n"
     ]
    }
   ],
   "source": [
    "for a in range(1,100,5):# start,end,step\n",
    "    print(a)"
   ]
  },
  {
   "cell_type": "code",
   "execution_count": 23,
   "id": "069c1f73",
   "metadata": {},
   "outputs": [
    {
     "name": "stdout",
     "output_type": "stream",
     "text": [
      "-20\n",
      "-15\n",
      "-10\n",
      "-5\n",
      "0\n",
      "5\n",
      "10\n",
      "15\n"
     ]
    }
   ],
   "source": [
    "for a in range(-20,20,5):# start,end,step\n",
    "    print(a)"
   ]
  },
  {
   "cell_type": "code",
   "execution_count": 24,
   "id": "dfe94e68",
   "metadata": {},
   "outputs": [],
   "source": [
    "txt = \"\"\"Pakistan, officially the Islamic Republic of Pakistan, is a country in South Asia. \n",
    "It is the fifth-most populous country, with a population of over 241.5 million, \n",
    "having the second-largest Muslim population as of 2023. Islamabad is the nation's capital, \n",
    "while Karachi is its largest city and financial centre.\"\"\""
   ]
  },
  {
   "cell_type": "code",
   "execution_count": 33,
   "id": "78918f6e",
   "metadata": {},
   "outputs": [
    {
     "name": "stdout",
     "output_type": "stream",
     "text": [
      "A 27\n",
      "O 18\n"
     ]
    }
   ],
   "source": [
    "count_a = 0\n",
    "count_o = 0\n",
    "for char in txt:\n",
    "    if (char==\"a\") or (char==\"A\"):\n",
    "        count_a +=1\n",
    "    elif (char==\"o\") or (char==\"O\"):\n",
    "        count_o +=1\n",
    "    else:\n",
    "        pass\n",
    "print(\"A\", count_a)\n",
    "print(\"O\", count_o)"
   ]
  },
  {
   "cell_type": "code",
   "execution_count": 27,
   "id": "790adc75",
   "metadata": {},
   "outputs": [],
   "source": [
    "a = 10"
   ]
  },
  {
   "cell_type": "code",
   "execution_count": 30,
   "id": "b700d887",
   "metadata": {},
   "outputs": [],
   "source": [
    "a = a+1"
   ]
  },
  {
   "cell_type": "code",
   "execution_count": 31,
   "id": "7daa0249",
   "metadata": {},
   "outputs": [
    {
     "data": {
      "text/plain": [
       "11"
      ]
     },
     "execution_count": 31,
     "metadata": {},
     "output_type": "execute_result"
    }
   ],
   "source": [
    "a"
   ]
  },
  {
   "cell_type": "code",
   "execution_count": null,
   "id": "a5120a33",
   "metadata": {},
   "outputs": [],
   "source": [
    "a+=1"
   ]
  },
  {
   "cell_type": "markdown",
   "id": "7b1dae41",
   "metadata": {},
   "source": [
    "# 4-1. Pizzas: \n",
    "Think of at least three kinds of your favorite pizza Store these\n",
    "\n",
    "pizza names in a list, and then use a for loop to print the name of each pizza\n",
    "\n",
    "•  Modify your for loop to print a sentence using the name of the pizza\n",
    "\n",
    "instead of printing just the name of the pizza For each pizza you should\n",
    "\n",
    "have one line of output containing a simple statement like I like pepperoni\n",
    "\n",
    "pizza\n",
    "\n",
    "•  Add a line at the end of your program, outside the for loop, that states\n",
    "\n",
    "how much you like pizza The output should consist of three or more lines\n",
    "\n",
    "about the kinds of pizza you like and then an additional sentence, such as\n",
    "\n",
    "I really love pizza!"
   ]
  },
  {
   "cell_type": "code",
   "execution_count": 1,
   "id": "f3c70f57",
   "metadata": {},
   "outputs": [
    {
     "name": "stdout",
     "output_type": "stream",
     "text": [
      "fajita\n",
      "chkiken spicy\n",
      "arabic\n"
     ]
    }
   ],
   "source": [
    "pizza_names = ['fajita', 'chkiken spicy', 'arabic']\n",
    "for pizza in pizza_names:\n",
    "    print(pizza)"
   ]
  },
  {
   "cell_type": "code",
   "execution_count": 3,
   "id": "164ef616",
   "metadata": {},
   "outputs": [
    {
     "name": "stdout",
     "output_type": "stream",
     "text": [
      " I like fajita pizza\n",
      " I like chkiken pizza\n",
      " I like arabic pizza\n",
      " I really like to eat pizza in lunch daily!\n"
     ]
    }
   ],
   "source": [
    "pizza_names = ['fajita', 'chkiken', 'arabic']\n",
    "for pizza in pizza_names:\n",
    "    print(f\" I like {pizza} pizza\")\n",
    "print(\" I really like to eat pizza in lunch daily!\")"
   ]
  },
  {
   "cell_type": "markdown",
   "id": "002a46e2",
   "metadata": {},
   "source": [
    "# 4-2. Animals:\n",
    "    Think of at least three different animals that have a common characteristic\n",
    "    \n",
    "    Store the names of these animals in a list, and then use a for loop to\n",
    "    print out the name of each animal\n",
    "    \n",
    "    •  Modify your program to print a statement about each animal, such as\n",
    "\n",
    "    A dog would make a great pet.\n",
    "\n",
    "    •  Add a line at the end of your program stating what these animals have in\n",
    "\n",
    "    common You could print a sentence such as Any of these animals would\n",
    "\n",
    "    make a great pe"
   ]
  },
  {
   "cell_type": "markdown",
   "id": "4375045d",
   "metadata": {},
   "source": [
    "# Continue Break"
   ]
  },
  {
   "cell_type": "code",
   "execution_count": 5,
   "id": "dcc5110c",
   "metadata": {},
   "outputs": [
    {
     "name": "stdout",
     "output_type": "stream",
     "text": [
      "0\n",
      "1\n",
      "2\n",
      "3\n",
      "4\n"
     ]
    }
   ],
   "source": [
    "for a in range(10):\n",
    "    if a==5:\n",
    "        break\n",
    "    else:\n",
    "        print(a)"
   ]
  },
  {
   "cell_type": "code",
   "execution_count": 6,
   "id": "b2775bd8",
   "metadata": {},
   "outputs": [
    {
     "name": "stdout",
     "output_type": "stream",
     "text": [
      "Dear Mr. Adil tomrrow is a holiday\n",
      "Dear Mr. Ammar tomrrow is a holiday\n",
      "Dear Mr. Maaz tomrrow is a holiday\n",
      "Dear Mr. Sohail tomrrow is a holiday\n"
     ]
    }
   ],
   "source": [
    "students = ['Adil', 'Ammar', \"Nasar\", \"Maaz\", 'Sohail']\n",
    "for student in students:\n",
    "    if student!=\"Nasar\":\n",
    "        print(f\"Dear Mr. {student} tomrrow is a holiday\")\n",
    "    else:\n",
    "        continue"
   ]
  },
  {
   "cell_type": "code",
   "execution_count": 7,
   "id": "5431f31a",
   "metadata": {},
   "outputs": [
    {
     "name": "stdout",
     "output_type": "stream",
     "text": [
      "1\n",
      "4\n",
      "9\n",
      "16\n",
      "25\n"
     ]
    }
   ],
   "source": [
    "for a in range(1,10):\n",
    "    print(a**2)\n",
    "    if a==5:\n",
    "        break"
   ]
  },
  {
   "cell_type": "code",
   "execution_count": 10,
   "id": "a90b8a00",
   "metadata": {},
   "outputs": [
    {
     "name": "stdout",
     "output_type": "stream",
     "text": [
      "1\n",
      "4\n",
      "9\n",
      "16\n"
     ]
    }
   ],
   "source": [
    "for a in range(1,10):    \n",
    "    if a==5:\n",
    "        break\n",
    "    print(a**2)"
   ]
  },
  {
   "cell_type": "code",
   "execution_count": 12,
   "id": "65f8572b",
   "metadata": {},
   "outputs": [
    {
     "name": "stdout",
     "output_type": "stream",
     "text": [
      "Enter your friends nameasad\n",
      "Enter your friends namefajaf\n",
      "Enter your friends nameatif\n",
      "atif not allowed\n",
      "Enter your friends nameyasir\\\n",
      "Enter your friends namefaisal\n",
      "Enter your friends namekamran\n",
      "Enter your friends nametahir\n",
      "Enter your friends nameumer\n",
      "Enter your friends namewaqas\n",
      "Enter your friends namephuppo\n",
      "Guest List:\n",
      "['asad', 'fajaf', 'yasir\\\\', 'faisal', 'kamran', 'tahir', 'umer', 'waqas', 'phuppo']\n"
     ]
    }
   ],
   "source": [
    "guests = []\n",
    "for a in range(10):\n",
    "    guest = input(\"Enter your friends name\")\n",
    "    if guest=='atif':\n",
    "        print(f\"{guest} not allowed\")\n",
    "        continue\n",
    "    guests.append(guest)\n",
    "print(\"Guest List:\")\n",
    "print(guests)"
   ]
  },
  {
   "cell_type": "markdown",
   "id": "ae0120ce",
   "metadata": {},
   "source": [
    "Take 10 numbers as input from user and separate these number in even or odd list.\n",
    "if a number is greater than 100 then skip it and if the number is \n",
    "less than fifty break the program"
   ]
  },
  {
   "cell_type": "code",
   "execution_count": 13,
   "id": "575e8917",
   "metadata": {},
   "outputs": [
    {
     "name": "stdout",
     "output_type": "stream",
     "text": [
      "Enter a number56\n",
      "Enter a number51\n",
      "Enter a number88\n",
      "Enter a number120\n",
      "Enter a number48\n",
      "Evens: [56, 88]\n",
      "Odds: [51]\n"
     ]
    }
   ],
   "source": [
    "evens = []\n",
    "odds = []\n",
    "for a in range(10):\n",
    "    num = int(input(\"Enter a number\"))\n",
    "    if(num > 100):\n",
    "        continue\n",
    "    elif(num < 50):\n",
    "        break\n",
    "    elif(num % 2 ==0):\n",
    "        evens.append(num)\n",
    "    else:\n",
    "        odds.append(num)\n",
    "print(f\"Evens: {evens}\")\n",
    "print(f\"Odds: {odds}\")\n"
   ]
  },
  {
   "cell_type": "markdown",
   "id": "c57efd90",
   "metadata": {},
   "source": [
    "# take input a test sequence and count the number of vowels in it. "
   ]
  },
  {
   "cell_type": "code",
   "execution_count": 24,
   "id": "9af5e836",
   "metadata": {},
   "outputs": [
    {
     "name": "stdout",
     "output_type": "stream",
     "text": [
      "Enter a paragaph:hello\n",
      "Vowels:\n",
      "2\n"
     ]
    }
   ],
   "source": [
    "txt = input(\"Enter a paragaph:\")\n",
    "vowels = \"aeiou\"\n",
    "count = 0\n",
    "for char in txt:\n",
    "    if char in vowels:\n",
    "        count+=1\n",
    "print(\"Vowels:\")\n",
    "print(count)"
   ]
  },
  {
   "cell_type": "code",
   "execution_count": 26,
   "id": "8fb7e87a",
   "metadata": {},
   "outputs": [
    {
     "name": "stdout",
     "output_type": "stream",
     "text": [
      "Enter a paragaph:take input a test sequence\n",
      "  \n",
      "            a> 2\n",
      "            e> 5\n",
      "            i> 1\n",
      "            o> 0\n",
      "            u> 2\n",
      "\n",
      "              \n"
     ]
    }
   ],
   "source": [
    "txt = input(\"Enter a paragaph:\").lower()# take input a test sequence\n",
    "count_a = txt.count(\"a\")\n",
    "count_e =txt.count(\"e\")\n",
    "count_i =txt.count(\"i\")\n",
    "count_o =txt.count(\"o\")\n",
    "count_u =txt.count(\"u\")\n",
    "print(f\"\"\"  \n",
    "            a> {count_a}\n",
    "            e> {count_e}\n",
    "            i> {count_i}\n",
    "            o> {count_o}\n",
    "            u> {count_u}\n",
    "\n",
    "              \"\"\")"
   ]
  },
  {
   "cell_type": "code",
   "execution_count": null,
   "id": "b090e353",
   "metadata": {},
   "outputs": [],
   "source": [
    "txt = input(\"Enter a paragaph:\").lower()# take input a test sequencecount_a = txt.count(\"a\")\n",
    "count_e = 0\n",
    "count_i =txt.count(\"i\")\n",
    "count_o =txt.count(\"o\")\n",
    "count_u =txt.count(\"u\")\n"
   ]
  },
  {
   "cell_type": "markdown",
   "id": "8804a4d0",
   "metadata": {},
   "source": [
    "# Class(14 July2024)"
   ]
  },
  {
   "cell_type": "markdown",
   "id": "093eea88",
   "metadata": {},
   "source": [
    "# While Loop"
   ]
  },
  {
   "cell_type": "markdown",
   "id": "6a0f09a4",
   "metadata": {},
   "source": [
    "# Write a program that prompts the user to enter a number n and prints all the numbers from 1 to n."
   ]
  },
  {
   "cell_type": "code",
   "execution_count": 2,
   "id": "a7daeaef",
   "metadata": {},
   "outputs": [
    {
     "name": "stdout",
     "output_type": "stream",
     "text": [
      "Enter a number9\n",
      "1\n",
      "2\n",
      "3\n",
      "4\n",
      "5\n",
      "6\n",
      "7\n",
      "8\n",
      "9\n"
     ]
    }
   ],
   "source": [
    "n = int(input(\"Enter a number\"))\n",
    "\n",
    "for a in range(1,n+1):\n",
    "    print(a)"
   ]
  },
  {
   "cell_type": "markdown",
   "id": "347b1aaf",
   "metadata": {},
   "source": [
    "# Write a program that prompts the user to enter a number n, and then prints all the odd numbers between 1 and n."
   ]
  },
  {
   "cell_type": "code",
   "execution_count": 3,
   "id": "8bd48901",
   "metadata": {},
   "outputs": [
    {
     "name": "stdout",
     "output_type": "stream",
     "text": [
      "Enter a number10\n",
      "1\n",
      "3\n",
      "5\n",
      "7\n",
      "9\n"
     ]
    }
   ],
   "source": [
    "n = int(input(\"Enter a number\"))\n",
    "for a in range(1,n):\n",
    "    if a%2 !=0:\n",
    "        print(a)    "
   ]
  },
  {
   "cell_type": "markdown",
   "id": "f817c786",
   "metadata": {},
   "source": [
    "# Write a program that prints 'Happy Birthday!' five times on screen"
   ]
  },
  {
   "cell_type": "code",
   "execution_count": 5,
   "id": "d4f1ed52",
   "metadata": {},
   "outputs": [
    {
     "name": "stdout",
     "output_type": "stream",
     "text": [
      "Happy Birthday\n",
      "Happy Birthday\n",
      "Happy Birthday\n",
      "Happy Birthday\n",
      "Happy Birthday\n"
     ]
    }
   ],
   "source": [
    "for a in range(1,6):\n",
    "    print(\"Happy Birthday\")"
   ]
  },
  {
   "cell_type": "markdown",
   "id": "c77bdecf",
   "metadata": {},
   "source": [
    "# Write a program that takes a number n as input from the user and generates the first n terms of the series formed by squaring the natural numbers"
   ]
  },
  {
   "cell_type": "code",
   "execution_count": 7,
   "id": "58f9f720",
   "metadata": {},
   "outputs": [
    {
     "name": "stdout",
     "output_type": "stream",
     "text": [
      "Enter a number10\n",
      "1,4,9,16,25,36,49,64,81,100,"
     ]
    }
   ],
   "source": [
    "n = int(input(\"Enter a number\"))\n",
    "\n",
    "for a in range(1,n+1):\n",
    "    print(a**2, end=',')"
   ]
  },
  {
   "cell_type": "markdown",
   "id": "7a2dbb04",
   "metadata": {},
   "source": [
    "# Write a program that prompts the user to input a number and prints its multiplication table"
   ]
  },
  {
   "cell_type": "code",
   "execution_count": 9,
   "id": "173af989",
   "metadata": {},
   "outputs": [
    {
     "name": "stdout",
     "output_type": "stream",
     "text": [
      "Enter a number5\n",
      "5 * 1 = 5\n",
      "5 * 2 = 10\n",
      "5 * 3 = 15\n",
      "5 * 4 = 20\n",
      "5 * 5 = 25\n",
      "5 * 6 = 30\n",
      "5 * 7 = 35\n",
      "5 * 8 = 40\n",
      "5 * 9 = 45\n",
      "5 * 10 = 50\n"
     ]
    }
   ],
   "source": [
    "table_no = int(input(\"Enter a number\"))\n",
    "for count in range(1,11):\n",
    "    print(f\"{table_no} * {count} = {table_no * count}\")\n"
   ]
  },
  {
   "cell_type": "markdown",
   "id": "eb8b775d",
   "metadata": {},
   "source": [
    "# namaz break: till 7:50pm"
   ]
  },
  {
   "cell_type": "markdown",
   "id": "3de167c4",
   "metadata": {},
   "source": [
    "# Write a Python program to print the first 8 terms of an arithmetic progression starting with 3 and having a common difference of 4. The program should output the following sequence: 3 7 11 15 19 23 27 31"
   ]
  },
  {
   "cell_type": "raw",
   "id": "acec501b",
   "metadata": {},
   "source": [
    "1,5,9,13,17,21 .... \n",
    "\n",
    "common difference  d = 4\n",
    "start              a= 1\n",
    "term               n =8\n",
    "\n",
    "AP\n",
    "\n",
    "Tn = a + (n-1)d\n"
   ]
  },
  {
   "cell_type": "code",
   "execution_count": 16,
   "id": "7f8dddd5",
   "metadata": {},
   "outputs": [
    {
     "name": "stdout",
     "output_type": "stream",
     "text": [
      "3\n",
      "7\n",
      "11\n",
      "15\n",
      "19\n",
      "23\n",
      "27\n",
      "31\n"
     ]
    }
   ],
   "source": [
    "a = 3\n",
    "n = 8\n",
    "d = 4\n",
    "for c in range(1,n+1):\n",
    "    print(a+(c-1)*d)"
   ]
  },
  {
   "cell_type": "markdown",
   "id": "712024a6",
   "metadata": {},
   "source": [
    "# Write a program that prompts the user to enter a number and repeats this process 5 times. The program should accumulate the numbers entered and then display the final running total."
   ]
  },
  {
   "cell_type": "code",
   "execution_count": 26,
   "id": "8bf03768",
   "metadata": {},
   "outputs": [
    {
     "name": "stdout",
     "output_type": "stream",
     "text": [
      "Enter a number2\n",
      "Enter a number3\n",
      "Enter a number4\n",
      "Enter a number5\n",
      "Enter a number6\n",
      "20\n"
     ]
    }
   ],
   "source": [
    "total = 0\n",
    "for a in range(1,6):\n",
    "    n = int(input(\"Enter a number\"))\n",
    "    total +=n\n",
    "print(total)"
   ]
  },
  {
   "cell_type": "markdown",
   "id": "e7f791d7",
   "metadata": {},
   "source": [
    "# Write a program that prompts the user to enter a positive integer and calculates itsfactorial. The factorial of a positive integer 'n' is denoted as 'n!' and is calculated by multiplying all the integers from 1 to 'n' together. For example, the factorial of 5 (denoted as 5!) is calculated as 1 x 2 x 3 x 4 x 5."
   ]
  },
  {
   "cell_type": "raw",
   "id": "b8d55ad1",
   "metadata": {},
   "source": [
    "5! = 5*4*3*2*1 =120\n",
    "3! = 3*2*1 = 6\n",
    "10! = 10*9*8*7*6*5*4*3*2*1"
   ]
  },
  {
   "cell_type": "code",
   "execution_count": 32,
   "id": "451777eb",
   "metadata": {},
   "outputs": [
    {
     "name": "stdout",
     "output_type": "stream",
     "text": [
      "Enter a number to calculate factorial5\n",
      "120\n"
     ]
    }
   ],
   "source": [
    "number  = int(input(\"Enter a number to calculate factorial\"))\n",
    "factorial = 1\n",
    "for a in range(number,0,-1): \n",
    "    factorial*=a\n",
    "print(factorial)"
   ]
  },
  {
   "cell_type": "code",
   "execution_count": 34,
   "id": "ef91b28f",
   "metadata": {},
   "outputs": [
    {
     "name": "stdout",
     "output_type": "stream",
     "text": [
      "10\n",
      "9\n",
      "8\n",
      "7\n",
      "6\n",
      "5\n",
      "4\n",
      "3\n",
      "2\n",
      "1\n"
     ]
    }
   ],
   "source": [
    "for a in range(10,0,-1):\n",
    "    print(a)"
   ]
  },
  {
   "cell_type": "markdown",
   "id": "27f4eb98",
   "metadata": {},
   "source": [
    "# Write a Python program that prompts the user to enter a base number and an exponent, and then calculates the power of the base to the exponent. The program should not use the exponentiation operator (**) or the math.pow() function. The program should handle both positive and negative exponents."
   ]
  },
  {
   "cell_type": "code",
   "execution_count": 42,
   "id": "7b9fc01d",
   "metadata": {},
   "outputs": [
    {
     "name": "stdout",
     "output_type": "stream",
     "text": [
      "Enter a base number2\n",
      "Enter a pwer number2\n"
     ]
    },
    {
     "data": {
      "text/plain": [
       "16"
      ]
     },
     "execution_count": 42,
     "metadata": {},
     "output_type": "execute_result"
    }
   ],
   "source": [
    "base = int(input(\"Enter a base number\"))\n",
    "power = int(input(\"Enter a pwer number\"))\n",
    "res = 0\n",
    "for p in range(1,power+1):\n",
    "    \n",
    "base"
   ]
  },
  {
   "cell_type": "code",
   "execution_count": 6,
   "id": "11a8c778",
   "metadata": {},
   "outputs": [],
   "source": [
    "a=1\n",
    "b=5\n",
    "c=2\n"
   ]
  },
  {
   "cell_type": "code",
   "execution_count": 5,
   "id": "9ff9690b",
   "metadata": {},
   "outputs": [
    {
     "name": "stdout",
     "output_type": "stream",
     "text": [
      "-0.4384471871911697 -4.561552812808831\n"
     ]
    }
   ],
   "source": [
    "x1 = (-b+(b**2 - 4*a*c)**.5)/2*a\n",
    "x2 = (-b-(b**2 - 4*a*c)**.5)/2*a\n",
    "print(x1,x2)"
   ]
  },
  {
   "cell_type": "code",
   "execution_count": 7,
   "id": "9bbce8d9",
   "metadata": {},
   "outputs": [
    {
     "name": "stdout",
     "output_type": "stream",
     "text": [
      "5\n",
      "9\n",
      "Biggest is  9\n"
     ]
    }
   ],
   "source": [
    "lst = [5,3,9]\n",
    "\n",
    "biggest = 0\n",
    "\n",
    "for n in lst:\n",
    "    if n > biggest:\n",
    "        biggest =n \n",
    "        print(biggest)\n",
    "print(\"Biggest is \", biggest)   "
   ]
  },
  {
   "cell_type": "code",
   "execution_count": 13,
   "id": "e8ecfd7f",
   "metadata": {},
   "outputs": [
    {
     "name": "stdout",
     "output_type": "stream",
     "text": [
      "Smallest is  0\n"
     ]
    }
   ],
   "source": [
    "lst = [5,3,9,1,4,7,9]\n",
    "\n",
    "smallest = lst[0]\n",
    "\n",
    "for n in lst:\n",
    "    if n < smallest:\n",
    "        smallest =n \n",
    "        print(smallest)\n",
    "print(\"Smallest is \", smallest)   "
   ]
  },
  {
   "cell_type": "code",
   "execution_count": 14,
   "id": "b754526e",
   "metadata": {},
   "outputs": [
    {
     "name": "stdout",
     "output_type": "stream",
     "text": [
      "Enter 10 comma separated numbers1,2,3,4,5,6,7,8,9,10\n"
     ]
    },
    {
     "data": {
      "text/plain": [
       "'1,2,3,4,5,6,7,8,9,10'"
      ]
     },
     "execution_count": 14,
     "metadata": {},
     "output_type": "execute_result"
    }
   ],
   "source": [
    "lst = input(\"Enter 10 comma separated numbers\")\n",
    "lst"
   ]
  },
  {
   "cell_type": "code",
   "execution_count": 16,
   "id": "10047928",
   "metadata": {},
   "outputs": [
    {
     "name": "stdout",
     "output_type": "stream",
     "text": [
      "Enter 10 comma separated numbers1,2,3,4,5,6,7,8,9,10\n"
     ]
    },
    {
     "data": {
      "text/plain": [
       "[1, 2, 3, 4, 5, 6, 7, 8, 9, 10]"
      ]
     },
     "execution_count": 16,
     "metadata": {},
     "output_type": "execute_result"
    }
   ],
   "source": [
    "lst = input(\"Enter 10 comma separated numbers\").split(\",\")\n",
    "new_lst = []\n",
    "for n in lst:\n",
    "    new_lst.append(int(n))\n",
    "new_lst   "
   ]
  },
  {
   "cell_type": "markdown",
   "id": "02b3de29",
   "metadata": {},
   "source": [
    "# While Loops\n",
    "           - while loops runs over a condition"
   ]
  },
  {
   "cell_type": "code",
   "execution_count": 20,
   "id": "4b515847",
   "metadata": {},
   "outputs": [
    {
     "name": "stdout",
     "output_type": "stream",
     "text": [
      "0 hello\n",
      "1 hello\n",
      "2 hello\n",
      "3 hello\n",
      "4 hello\n",
      "5 hello\n",
      "6 hello\n",
      "7 hello\n",
      "8 hello\n",
      "9 hello\n"
     ]
    }
   ],
   "source": [
    "a=0\n",
    "while a<10:\n",
    "    print(a,\"hello\")\n",
    "    a = a+1"
   ]
  },
  {
   "cell_type": "code",
   "execution_count": 21,
   "id": "1290c4e5",
   "metadata": {},
   "outputs": [
    {
     "name": "stdout",
     "output_type": "stream",
     "text": [
      "0 Hello\n",
      "1 Hello\n",
      "2 Hello\n",
      "3 Hello\n",
      "4 Hello\n",
      "5 Hello\n",
      "6 Hello\n",
      "7 Hello\n",
      "8 Hello\n",
      "9 Hello\n"
     ]
    }
   ],
   "source": [
    "for a in range(10):\n",
    "    print(a,\"Hello\")"
   ]
  },
  {
   "cell_type": "code",
   "execution_count": 22,
   "id": "96384f51",
   "metadata": {},
   "outputs": [
    {
     "name": "stdout",
     "output_type": "stream",
     "text": [
      "[12, 32, 4, 76, 90, 2, 4, 34, 112, 56]\n",
      "[5, 67, 89, 1, 321, 33, 43, 67]\n"
     ]
    }
   ],
   "source": [
    "lst = [12,32,4,5,67,76,89,90,1,2,4,34,321,112,33,43,56,67]\n",
    "\n",
    "even=[]\n",
    "odd = []\n",
    "count = 0 \n",
    "while count <18:\n",
    "    if lst[count]%2==0:\n",
    "        even.append(lst[count])\n",
    "        count+=1\n",
    "    else:\n",
    "        odd.append(lst[count])\n",
    "        count+=1\n",
    "        \n",
    "print(even)\n",
    "print(odd)"
   ]
  },
  {
   "cell_type": "code",
   "execution_count": 23,
   "id": "55bbe2ac",
   "metadata": {},
   "outputs": [],
   "source": [
    "for a in lst:\n",
    "    if a%2==0:\n",
    "        even.append(a)\n",
    "    else:\n",
    "        odd.append(a)"
   ]
  },
  {
   "cell_type": "code",
   "execution_count": 24,
   "id": "f4a42ef3",
   "metadata": {},
   "outputs": [
    {
     "name": "stdout",
     "output_type": "stream",
     "text": [
      "[12, 32, 4, 76, 90, 2, 4, 34, 112, 56, 12, 32, 4, 76, 90, 2, 4, 34, 112, 56]\n",
      "[5, 67, 89, 1, 321, 33, 43, 67, 5, 67, 89, 1, 321, 33, 43, 67]\n"
     ]
    }
   ],
   "source": [
    "print(even)\n",
    "print(odd)"
   ]
  },
  {
   "cell_type": "code",
   "execution_count": 27,
   "id": "1e8778f5",
   "metadata": {},
   "outputs": [
    {
     "name": "stdout",
     "output_type": "stream",
     "text": [
      "atif\n",
      "nasir\n",
      "umer\n",
      "asad\n"
     ]
    }
   ],
   "source": [
    "guests = ['atif', 'nasir', 'umer','asad']\n",
    "\n",
    "c = 0\n",
    "while c < len(guests):\n",
    "    \n",
    "    print(guests[c])\n",
    "    c  = c + 1"
   ]
  },
  {
   "cell_type": "code",
   "execution_count": 1,
   "id": "66c265ed",
   "metadata": {},
   "outputs": [],
   "source": [
    "guests = ['atif', 'nasir', 'umer','asad']"
   ]
  },
  {
   "cell_type": "code",
   "execution_count": 2,
   "id": "5584d642",
   "metadata": {},
   "outputs": [
    {
     "name": "stdout",
     "output_type": "stream",
     "text": [
      "Mr.atif you are invited\n",
      "Mr.umer you are invited\n",
      "Mr.asad you are invited\n"
     ]
    }
   ],
   "source": [
    "for guest in guests:\n",
    "    if guest!='nasir':\n",
    "        print(f'Mr.{guest} you are invited')"
   ]
  },
  {
   "cell_type": "code",
   "execution_count": 3,
   "id": "329cc677",
   "metadata": {},
   "outputs": [
    {
     "name": "stdout",
     "output_type": "stream",
     "text": [
      "Enter yout guedst nameYasir\n",
      "Enter yout guedst nameMaaz\n",
      "Enter yout guedst nameAtif\n",
      "Enter yout guedst nameOkasha\n",
      "Enter yout guedst nameAmir\n",
      "Guest Are:\n",
      "['Yasir', 'Maaz', 'Atif', 'Okasha', 'Amir']\n"
     ]
    }
   ],
   "source": [
    "guests = []\n",
    "for a in range(50):\n",
    "    name = input(\"Enter yout guedst name\")\n",
    "    guests.append(name)\n",
    "print(\"Guest Are:\")\n",
    "print(guests)"
   ]
  },
  {
   "cell_type": "code",
   "execution_count": null,
   "id": "9bdcb585",
   "metadata": {},
   "outputs": [],
   "source": [
    "guests = []\n",
    "count = 0\n",
    "while count <50:\n",
    "    name = input(\"Enter yout guedst name\")\n",
    "    guests.append(name)\n",
    "print(\"Guest Are:\")\n",
    "print(guests)"
   ]
  },
  {
   "cell_type": "markdown",
   "id": "1c7786d7",
   "metadata": {},
   "source": [
    "# Flag"
   ]
  },
  {
   "cell_type": "code",
   "execution_count": 4,
   "id": "d919d692",
   "metadata": {},
   "outputs": [
    {
     "name": "stdout",
     "output_type": "stream",
     "text": [
      "Enter yout guest name or type break to breaknasir\n",
      "Enter yout guest name or type break to breakasad\n",
      "Enter yout guest name or type break to breakatif\n",
      "Enter yout guest name or type break to breakali\n",
      "Enter yout guest name or type break to breakdada\n",
      "Enter yout guest name or type break to breakamir\n",
      "Enter yout guest name or type break to breakbreak\n"
     ]
    }
   ],
   "source": [
    "guests = []\n",
    "flag = True\n",
    "while flag:\n",
    "    name = input(\"Enter yout guest name or quit \")\n",
    "    if name == \"quit\":\n",
    "        flag = False\n",
    "    else:\n",
    "        guests.append(name)"
   ]
  },
  {
   "cell_type": "code",
   "execution_count": 5,
   "id": "ba82fbc8",
   "metadata": {},
   "outputs": [
    {
     "data": {
      "text/plain": [
       "['nasir', 'asad', 'atif', 'ali', 'dada', 'amir']"
      ]
     },
     "execution_count": 5,
     "metadata": {},
     "output_type": "execute_result"
    }
   ],
   "source": [
    "guests"
   ]
  },
  {
   "cell_type": "markdown",
   "id": "fc7f4437",
   "metadata": {},
   "source": [
    "# 13. Write a program that prompts the user to enter a number and repeats this process 5 times. The program should accumulate the numbers entered and then display the final running total."
   ]
  },
  {
   "cell_type": "markdown",
   "id": "e7c8e157",
   "metadata": {},
   "source": [
    "# 12. write a program that takes a positive integer N as input and calculates the sum of the reciprocals of all numbers from 1 up to N. The program should display the final sum."
   ]
  },
  {
   "cell_type": "code",
   "execution_count": 12,
   "id": "49c6ef24",
   "metadata": {},
   "outputs": [
    {
     "name": "stdout",
     "output_type": "stream",
     "text": [
      "Enter a number:  5\n",
      "2.283333333333333\n"
     ]
    }
   ],
   "source": [
    "n  = int(input(\"Enter a number:  \"))\n",
    "total = 0#1,1.5,1.833\n",
    "if n>0:\n",
    "    for a in range(1,n+1):#1,2,3\n",
    "        total+=(1/a)\n",
    "        \n",
    "else:\n",
    "    print(\"Wrong input\")\n",
    "print(total)"
   ]
  },
  {
   "cell_type": "code",
   "execution_count": 10,
   "id": "69761790",
   "metadata": {},
   "outputs": [
    {
     "data": {
      "text/plain": [
       "2.283333333333333"
      ]
     },
     "execution_count": 10,
     "metadata": {},
     "output_type": "execute_result"
    }
   ],
   "source": [
    "1+1/2+1/3+1/4+1/5"
   ]
  },
  {
   "cell_type": "code",
   "execution_count": 11,
   "id": "bd37e152",
   "metadata": {},
   "outputs": [
    {
     "data": {
      "text/plain": [
       "0.3333333333333333"
      ]
     },
     "execution_count": 11,
     "metadata": {},
     "output_type": "execute_result"
    }
   ],
   "source": [
    "1/3"
   ]
  },
  {
   "cell_type": "code",
   "execution_count": 13,
   "id": "e2b46ac9",
   "metadata": {},
   "outputs": [],
   "source": [
    "a = 1"
   ]
  },
  {
   "cell_type": "code",
   "execution_count": 14,
   "id": "aa304e5a",
   "metadata": {},
   "outputs": [
    {
     "data": {
      "text/plain": [
       "2"
      ]
     },
     "execution_count": 14,
     "metadata": {},
     "output_type": "execute_result"
    }
   ],
   "source": [
    "a=a+1\n",
    "\n",
    "a+=1"
   ]
  },
  {
   "cell_type": "markdown",
   "id": "00630437",
   "metadata": {},
   "source": [
    "# 10. Write a Python program to print the first 6 terms of a geometric sequence starting with 2 and having a common ratio of 3. The program should output the following sequence: 2 6 18 54 162 486"
   ]
  },
  {
   "cell_type": "code",
   "execution_count": 4,
   "id": "62e28788",
   "metadata": {},
   "outputs": [
    {
     "name": "stdout",
     "output_type": "stream",
     "text": [
      "2,6,18,54,162,486,"
     ]
    }
   ],
   "source": [
    "n= 6\n",
    "\n",
    "a = 2\n",
    "\n",
    "r = 3\n",
    "for c in range(1,n+1):\n",
    "    t6 = a* ((r)**(c-1))\n",
    "    print(t6,end=\",\")"
   ]
  },
  {
   "cell_type": "markdown",
   "id": "8efa77c3",
   "metadata": {},
   "source": [
    "# 8. Write a program that display following output:\n",
    "SHIFT\n",
    "HIFTS\n",
    "IFTSH\n",
    "FTSHI\n",
    "TSHIF\n",
    "SHIFT"
   ]
  },
  {
   "cell_type": "code",
   "execution_count": 5,
   "id": "9cdeb64a",
   "metadata": {},
   "outputs": [],
   "source": [
    "txt = 'SHIFT'  #HIFTS"
   ]
  },
  {
   "cell_type": "code",
   "execution_count": 16,
   "id": "c60d884e",
   "metadata": {},
   "outputs": [
    {
     "name": "stdout",
     "output_type": "stream",
     "text": [
      "SHIFT\n",
      "HIFTS\n",
      "IFTSH\n",
      "FTSHI\n",
      "TSHIF\n",
      "SHIFT\n"
     ]
    }
   ],
   "source": [
    "print(txt)\n",
    "for a in range(0,len(txt)):\n",
    "    txt= txt[1:]+txt[0]\n",
    "    print(txt)"
   ]
  },
  {
   "cell_type": "code",
   "execution_count": 10,
   "id": "5a073c6a",
   "metadata": {},
   "outputs": [
    {
     "data": {
      "text/plain": [
       "'HIFTS'"
      ]
     },
     "execution_count": 10,
     "metadata": {},
     "output_type": "execute_result"
    }
   ],
   "source": [
    "txt[1:]+txt[0]"
   ]
  },
  {
   "cell_type": "code",
   "execution_count": 12,
   "id": "428ee22a",
   "metadata": {},
   "outputs": [
    {
     "data": {
      "text/plain": [
       "'SHIFT'"
      ]
     },
     "execution_count": 12,
     "metadata": {},
     "output_type": "execute_result"
    }
   ],
   "source": [
    "txt"
   ]
  },
  {
   "cell_type": "markdown",
   "id": "f36527a7",
   "metadata": {},
   "source": [
    "'SHIFT'\n",
    " 01234"
   ]
  },
  {
   "cell_type": "code",
   "execution_count": 13,
   "id": "f8cacb20",
   "metadata": {},
   "outputs": [
    {
     "data": {
      "text/plain": [
       "'HI'"
      ]
     },
     "execution_count": 13,
     "metadata": {},
     "output_type": "execute_result"
    }
   ],
   "source": [
    "txt[1:3]"
   ]
  },
  {
   "cell_type": "code",
   "execution_count": 14,
   "id": "f880f493",
   "metadata": {},
   "outputs": [
    {
     "data": {
      "text/plain": [
       "'IFT'"
      ]
     },
     "execution_count": 14,
     "metadata": {},
     "output_type": "execute_result"
    }
   ],
   "source": [
    "txt[2:]"
   ]
  },
  {
   "cell_type": "code",
   "execution_count": 15,
   "id": "c7d5298e",
   "metadata": {},
   "outputs": [
    {
     "data": {
      "text/plain": [
       "'SHIF'"
      ]
     },
     "execution_count": 15,
     "metadata": {},
     "output_type": "execute_result"
    }
   ],
   "source": [
    "txt[:4]"
   ]
  },
  {
   "cell_type": "code",
   "execution_count": 18,
   "id": "3ebcf02d",
   "metadata": {},
   "outputs": [
    {
     "data": {
      "text/plain": [
       "'hlph r'"
      ]
     },
     "execution_count": 18,
     "metadata": {},
     "output_type": "execute_result"
    }
   ],
   "source": [
    "txt = 'hello python world'\n",
    "txt[::3]"
   ]
  },
  {
   "cell_type": "markdown",
   "id": "453dc6c8",
   "metadata": {},
   "source": [
    "# Tuple\n",
    "     - (1,2,3,4,5)\n",
    "     - immutable\n",
    "     "
   ]
  },
  {
   "cell_type": "code",
   "execution_count": 19,
   "id": "4e65ae10",
   "metadata": {},
   "outputs": [],
   "source": [
    "atuple = ('apple', 'orange', 'banana','mango', 'cherry')"
   ]
  },
  {
   "cell_type": "code",
   "execution_count": 20,
   "id": "f8d13924",
   "metadata": {},
   "outputs": [
    {
     "data": {
      "text/plain": [
       "'mango'"
      ]
     },
     "execution_count": 20,
     "metadata": {},
     "output_type": "execute_result"
    }
   ],
   "source": [
    "atuple[3]"
   ]
  },
  {
   "cell_type": "code",
   "execution_count": 21,
   "id": "38ab702e",
   "metadata": {},
   "outputs": [
    {
     "ename": "IndexError",
     "evalue": "tuple index out of range",
     "output_type": "error",
     "traceback": [
      "\u001b[1;31m---------------------------------------------------------------------------\u001b[0m",
      "\u001b[1;31mIndexError\u001b[0m                                Traceback (most recent call last)",
      "Cell \u001b[1;32mIn[21], line 1\u001b[0m\n\u001b[1;32m----> 1\u001b[0m atuple[\u001b[38;5;241m5\u001b[39m]\n",
      "\u001b[1;31mIndexError\u001b[0m: tuple index out of range"
     ]
    }
   ],
   "source": [
    "atuple[5]"
   ]
  },
  {
   "cell_type": "code",
   "execution_count": 22,
   "id": "f5496734",
   "metadata": {},
   "outputs": [
    {
     "data": {
      "text/plain": [
       "('banana', 'mango')"
      ]
     },
     "execution_count": 22,
     "metadata": {},
     "output_type": "execute_result"
    }
   ],
   "source": [
    "atuple[2:4]"
   ]
  },
  {
   "cell_type": "code",
   "execution_count": 23,
   "id": "35aa59cc",
   "metadata": {},
   "outputs": [
    {
     "ename": "TypeError",
     "evalue": "'tuple' object does not support item assignment",
     "output_type": "error",
     "traceback": [
      "\u001b[1;31m---------------------------------------------------------------------------\u001b[0m",
      "\u001b[1;31mTypeError\u001b[0m                                 Traceback (most recent call last)",
      "Cell \u001b[1;32mIn[23], line 1\u001b[0m\n\u001b[1;32m----> 1\u001b[0m atuple[\u001b[38;5;241m2\u001b[39m] \u001b[38;5;241m=\u001b[39m \u001b[38;5;124m'\u001b[39m\u001b[38;5;124mkiwi\u001b[39m\u001b[38;5;124m'\u001b[39m\n",
      "\u001b[1;31mTypeError\u001b[0m: 'tuple' object does not support item assignment"
     ]
    }
   ],
   "source": [
    "atuple[2] = 'kiwi'"
   ]
  },
  {
   "cell_type": "code",
   "execution_count": 26,
   "id": "7b2a49a3",
   "metadata": {},
   "outputs": [
    {
     "data": {
      "text/plain": [
       "('apple', 'orange', 'banana', 'mango', 'cherry', 'tomato', 'onion')"
      ]
     },
     "execution_count": 26,
     "metadata": {},
     "output_type": "execute_result"
    }
   ],
   "source": [
    "atuple + ('tomato', 'onion')"
   ]
  },
  {
   "cell_type": "code",
   "execution_count": 27,
   "id": "c108cbb8",
   "metadata": {},
   "outputs": [],
   "source": [
    "atuple = atuple + ('tomato', 'onion')"
   ]
  },
  {
   "cell_type": "code",
   "execution_count": 28,
   "id": "d9102bb0",
   "metadata": {},
   "outputs": [
    {
     "data": {
      "text/plain": [
       "('apple', 'orange', 'banana', 'mango', 'cherry', 'tomato', 'onion')"
      ]
     },
     "execution_count": 28,
     "metadata": {},
     "output_type": "execute_result"
    }
   ],
   "source": [
    "atuple"
   ]
  },
  {
   "cell_type": "markdown",
   "id": "6278a077",
   "metadata": {},
   "source": [
    "# Set : a set is collection of disctinct objects\n",
    "    - {}\n",
    "    - {1,2,3}\n",
    "    - immutable"
   ]
  },
  {
   "cell_type": "code",
   "execution_count": 31,
   "id": "aa09a920",
   "metadata": {},
   "outputs": [],
   "source": [
    "aset = {1}"
   ]
  },
  {
   "cell_type": "code",
   "execution_count": 32,
   "id": "b0d2fdef",
   "metadata": {},
   "outputs": [
    {
     "data": {
      "text/plain": [
       "set"
      ]
     },
     "execution_count": 32,
     "metadata": {},
     "output_type": "execute_result"
    }
   ],
   "source": [
    "type(aset)"
   ]
  },
  {
   "cell_type": "code",
   "execution_count": 33,
   "id": "75037fb9",
   "metadata": {},
   "outputs": [],
   "source": [
    "aset = {1,2,3,4,5,5,6,7,8,3,4,5,8,9,20}"
   ]
  },
  {
   "cell_type": "code",
   "execution_count": 34,
   "id": "7763795f",
   "metadata": {},
   "outputs": [
    {
     "data": {
      "text/plain": [
       "10"
      ]
     },
     "execution_count": 34,
     "metadata": {},
     "output_type": "execute_result"
    }
   ],
   "source": [
    "len(aset)"
   ]
  },
  {
   "cell_type": "code",
   "execution_count": 35,
   "id": "820f4ede",
   "metadata": {},
   "outputs": [
    {
     "data": {
      "text/plain": [
       "{1, 2, 3, 4, 5, 6, 7, 8, 9, 20}"
      ]
     },
     "execution_count": 35,
     "metadata": {},
     "output_type": "execute_result"
    }
   ],
   "source": [
    "aset"
   ]
  },
  {
   "cell_type": "code",
   "execution_count": 36,
   "id": "fac798b0",
   "metadata": {},
   "outputs": [
    {
     "ename": "TypeError",
     "evalue": "'set' object does not support item assignment",
     "output_type": "error",
     "traceback": [
      "\u001b[1;31m---------------------------------------------------------------------------\u001b[0m",
      "\u001b[1;31mTypeError\u001b[0m                                 Traceback (most recent call last)",
      "Cell \u001b[1;32mIn[36], line 1\u001b[0m\n\u001b[1;32m----> 1\u001b[0m aset[\u001b[38;5;241m4\u001b[39m] \u001b[38;5;241m=\u001b[39m \u001b[38;5;241m56\u001b[39m\n",
      "\u001b[1;31mTypeError\u001b[0m: 'set' object does not support item assignment"
     ]
    }
   ],
   "source": [
    "aset[4] = 56"
   ]
  },
  {
   "cell_type": "code",
   "execution_count": 37,
   "id": "593affb6",
   "metadata": {},
   "outputs": [
    {
     "data": {
      "text/plain": [
       "{1, 2, 3, 4, 5, 6, 7, 8, 9, 20}"
      ]
     },
     "execution_count": 37,
     "metadata": {},
     "output_type": "execute_result"
    }
   ],
   "source": [
    "aset"
   ]
  },
  {
   "cell_type": "code",
   "execution_count": 38,
   "id": "13bb0ac6",
   "metadata": {},
   "outputs": [],
   "source": [
    "aset.add(100)"
   ]
  },
  {
   "cell_type": "code",
   "execution_count": 39,
   "id": "7b832f4a",
   "metadata": {},
   "outputs": [
    {
     "data": {
      "text/plain": [
       "{1, 2, 3, 4, 5, 6, 7, 8, 9, 20, 100}"
      ]
     },
     "execution_count": 39,
     "metadata": {},
     "output_type": "execute_result"
    }
   ],
   "source": [
    "aset"
   ]
  },
  {
   "cell_type": "code",
   "execution_count": 40,
   "id": "d5041850",
   "metadata": {},
   "outputs": [
    {
     "data": {
      "text/plain": [
       "set()"
      ]
     },
     "execution_count": 40,
     "metadata": {},
     "output_type": "execute_result"
    }
   ],
   "source": [
    "aset.difference(aset)"
   ]
  },
  {
   "cell_type": "code",
   "execution_count": 41,
   "id": "db0bb9b0",
   "metadata": {},
   "outputs": [],
   "source": [
    "bset = {2,4,6,8,10,12,14,16,18,20}"
   ]
  },
  {
   "cell_type": "code",
   "execution_count": 42,
   "id": "2ef06428",
   "metadata": {},
   "outputs": [],
   "source": [
    "aset.difference_update(bset)"
   ]
  },
  {
   "cell_type": "code",
   "execution_count": 43,
   "id": "ae191a97",
   "metadata": {},
   "outputs": [
    {
     "data": {
      "text/plain": [
       "{1, 3, 5, 7, 9, 100}"
      ]
     },
     "execution_count": 43,
     "metadata": {},
     "output_type": "execute_result"
    }
   ],
   "source": [
    "aset"
   ]
  },
  {
   "cell_type": "code",
   "execution_count": 44,
   "id": "284ce7f1",
   "metadata": {},
   "outputs": [
    {
     "data": {
      "text/plain": [
       "{2, 4, 6, 8, 10, 12, 14, 16, 18, 20}"
      ]
     },
     "execution_count": 44,
     "metadata": {},
     "output_type": "execute_result"
    }
   ],
   "source": [
    "bset"
   ]
  },
  {
   "cell_type": "markdown",
   "id": "4840db6e",
   "metadata": {},
   "source": [
    "# Functions\n",
    "    - Block of code.\n",
    "    - Excecutes when called\n",
    "    - Can be called as many time as we wish.\n",
    "          - Open functions  : \n",
    "                  print()\n",
    "                  type()\n",
    "                  id()\n",
    "                  len()\n",
    "                  range()\n",
    "                  help()\n",
    "          - class functions\n",
    "                  list functions\n",
    "                  strig\n",
    "                  dictionary\n",
    "                  tuple\n",
    "                  set\n",
    "          - user-defined functions\n",
    "                  we will defined our own functions"
   ]
  },
  {
   "cell_type": "code",
   "execution_count": 49,
   "id": "4590731f",
   "metadata": {},
   "outputs": [
    {
     "name": "stdout",
     "output_type": "stream",
     "text": [
      "Hello\n"
     ]
    }
   ],
   "source": [
    "# function definition\n",
    "def say_hello():\n",
    "    print(\"Hello\")\n",
    "\n",
    "\n",
    "# function call\n",
    "say_hello()"
   ]
  },
  {
   "cell_type": "code",
   "execution_count": 50,
   "id": "1fc338d2",
   "metadata": {},
   "outputs": [
    {
     "name": "stdout",
     "output_type": "stream",
     "text": [
      "Hello\n"
     ]
    }
   ],
   "source": [
    "say_hello()"
   ]
  },
  {
   "cell_type": "code",
   "execution_count": 51,
   "id": "db3f6838",
   "metadata": {},
   "outputs": [
    {
     "name": "stdout",
     "output_type": "stream",
     "text": [
      "Hello\n"
     ]
    }
   ],
   "source": [
    "say_hello()"
   ]
  },
  {
   "cell_type": "code",
   "execution_count": 52,
   "id": "fcd20550",
   "metadata": {},
   "outputs": [
    {
     "name": "stdout",
     "output_type": "stream",
     "text": [
      "Hello\n"
     ]
    }
   ],
   "source": [
    "say_hello()"
   ]
  },
  {
   "cell_type": "code",
   "execution_count": 54,
   "id": "a4622dd1",
   "metadata": {},
   "outputs": [],
   "source": [
    "def sumkaro():\n",
    "    n1 = int(input(\"Enter a number: \"))\n",
    "    n2 = int(input(\"Enter a number: \"))\n",
    "    \n",
    "    print(f\"Sum is {n1+n2}\")"
   ]
  },
  {
   "cell_type": "code",
   "execution_count": 55,
   "id": "b76f8727",
   "metadata": {},
   "outputs": [
    {
     "name": "stdout",
     "output_type": "stream",
     "text": [
      "Enter a number: 23\n",
      "Enter a number: 12\n",
      "Sum is 35\n"
     ]
    }
   ],
   "source": [
    "sumkaro()"
   ]
  },
  {
   "cell_type": "code",
   "execution_count": 56,
   "id": "85e33029",
   "metadata": {},
   "outputs": [
    {
     "name": "stdout",
     "output_type": "stream",
     "text": [
      "Enter a number: 1\n",
      "Enter a number: 2\n",
      "Sum is 3\n"
     ]
    }
   ],
   "source": [
    "sumkaro()"
   ]
  },
  {
   "cell_type": "code",
   "execution_count": 57,
   "id": "36743dfb",
   "metadata": {},
   "outputs": [],
   "source": [
    "alist = ['ali','nasar','maaz', 'okasha', 'ahmed', 'anas']"
   ]
  },
  {
   "cell_type": "markdown",
   "id": "4746cfbe",
   "metadata": {},
   "source": [
    "### 8-1. Message: Write a function called display_message() that prints one sentence telling everyone what you are learning about in this chapter Call the function, and make sure the message displays correctly"
   ]
  },
  {
   "cell_type": "code",
   "execution_count": 58,
   "id": "2d448ded",
   "metadata": {},
   "outputs": [],
   "source": [
    "def display_message():\n",
    "    for name in alist:\n",
    "        print(f\"Mere dost {name}, hum python me functions parh rahe hen\")    "
   ]
  },
  {
   "cell_type": "code",
   "execution_count": 59,
   "id": "6c87644e",
   "metadata": {},
   "outputs": [
    {
     "name": "stdout",
     "output_type": "stream",
     "text": [
      "Mere dost ali, hum python me functions parh rahe hen\n",
      "Mere dost nasar, hum python me functions parh rahe hen\n",
      "Mere dost maaz, hum python me functions parh rahe hen\n",
      "Mere dost okasha, hum python me functions parh rahe hen\n",
      "Mere dost ahmed, hum python me functions parh rahe hen\n",
      "Mere dost anas, hum python me functions parh rahe hen\n"
     ]
    }
   ],
   "source": [
    "display_message()"
   ]
  },
  {
   "cell_type": "code",
   "execution_count": 62,
   "id": "21575c3a",
   "metadata": {},
   "outputs": [],
   "source": [
    "def display_message():\n",
    "    for name in alist:\n",
    "        if (name[0]==\"a\") or (name[0]==\"A\"):\n",
    "            print(f\"Mere dost {name}, hum python me functions parh rahe hen\")    "
   ]
  },
  {
   "cell_type": "code",
   "execution_count": 63,
   "id": "6360e4eb",
   "metadata": {},
   "outputs": [],
   "source": [
    "def display_message():\n",
    "    for name in alist:\n",
    "        if name.startswith(\"A\") or name.startswith(\"a\"):\n",
    "            print(f\"Mere dost {name}, hum python me functions parh rahe hen\")    "
   ]
  },
  {
   "cell_type": "code",
   "execution_count": 64,
   "id": "7ea8afe1",
   "metadata": {},
   "outputs": [
    {
     "name": "stdout",
     "output_type": "stream",
     "text": [
      "Mere dost ali, hum python me functions parh rahe hen\n",
      "Mere dost ahmed, hum python me functions parh rahe hen\n",
      "Mere dost anas, hum python me functions parh rahe hen\n"
     ]
    }
   ],
   "source": [
    "display_message()"
   ]
  },
  {
   "cell_type": "code",
   "execution_count": null,
   "id": "c72490ae",
   "metadata": {},
   "outputs": [],
   "source": []
  }
 ],
 "metadata": {
  "kernelspec": {
   "display_name": "Python 3 (ipykernel)",
   "language": "python",
   "name": "python3"
  },
  "language_info": {
   "codemirror_mode": {
    "name": "ipython",
    "version": 3
   },
   "file_extension": ".py",
   "mimetype": "text/x-python",
   "name": "python",
   "nbconvert_exporter": "python",
   "pygments_lexer": "ipython3",
   "version": "3.11.5"
  }
 },
 "nbformat": 4,
 "nbformat_minor": 5
}
