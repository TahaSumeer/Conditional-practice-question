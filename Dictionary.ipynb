{
 "cells": [
  {
   "cell_type": "code",
   "execution_count": 40,
   "id": "94372133-fe70-4a70-9681-4b39e38f8054",
   "metadata": {},
   "outputs": [],
   "source": [
    "dict = {'name':'taha','age':15,'class':'python'}"
   ]
  },
  {
   "cell_type": "code",
   "execution_count": 41,
   "id": "c5361c14-de1d-4f3a-98f9-addf0b7e5228",
   "metadata": {},
   "outputs": [
    {
     "data": {
      "text/plain": [
       "3"
      ]
     },
     "execution_count": 41,
     "metadata": {},
     "output_type": "execute_result"
    }
   ],
   "source": [
    "dict\n",
    "len(dict)"
   ]
  },
  {
   "cell_type": "code",
   "execution_count": 42,
   "id": "1bd86abc-291c-44de-8280-be341e40101a",
   "metadata": {},
   "outputs": [
    {
     "data": {
      "text/plain": [
       "'taha'"
      ]
     },
     "execution_count": 42,
     "metadata": {},
     "output_type": "execute_result"
    }
   ],
   "source": [
    "dict['name']"
   ]
  },
  {
   "cell_type": "code",
   "execution_count": 12,
   "id": "d016fca5-4cd5-4599-bb9c-a43582a2302b",
   "metadata": {},
   "outputs": [
    {
     "data": {
      "text/plain": [
       "dict_keys(['name', 'age', 'class'])"
      ]
     },
     "execution_count": 12,
     "metadata": {},
     "output_type": "execute_result"
    }
   ],
   "source": [
    "dict.keys()"
   ]
  },
  {
   "cell_type": "code",
   "execution_count": 13,
   "id": "8b0f25b0-52ac-4617-80d6-94a5df3cb14c",
   "metadata": {},
   "outputs": [
    {
     "data": {
      "text/plain": [
       "dict_values(['taha', 15, 'python'])"
      ]
     },
     "execution_count": 13,
     "metadata": {},
     "output_type": "execute_result"
    }
   ],
   "source": [
    "dict.values()"
   ]
  },
  {
   "cell_type": "code",
   "execution_count": 25,
   "id": "d4fcde98-1075-4992-842c-f8678a6fe030",
   "metadata": {},
   "outputs": [
    {
     "data": {
      "text/plain": [
       "dict_items([('name', 'taha'), ('age', 15), ('class', 'python')])"
      ]
     },
     "execution_count": 25,
     "metadata": {},
     "output_type": "execute_result"
    }
   ],
   "source": [
    "dict.items()"
   ]
  },
  {
   "cell_type": "code",
   "execution_count": 37,
   "id": "e6794ed3-f5ee-4892-bb2f-545976840048",
   "metadata": {},
   "outputs": [],
   "source": [
    "dict1 = {'location':'karachi','uni':'smiu'}\n"
   ]
  },
  {
   "cell_type": "code",
   "execution_count": 29,
   "id": "24a7272e-c8bc-4de1-91a3-e746441661a1",
   "metadata": {},
   "outputs": [],
   "source": [
    "dict['gender'] = 'male'"
   ]
  },
  {
   "cell_type": "code",
   "execution_count": 36,
   "id": "ad59cbbe-245e-438e-a2ad-8ca0d36bc563",
   "metadata": {},
   "outputs": [
    {
     "data": {
      "text/plain": [
       "{'name': 'taha', 'age': 15, 'class': 'python', 'gender': 'male'}"
      ]
     },
     "execution_count": 36,
     "metadata": {},
     "output_type": "execute_result"
    }
   ],
   "source": [
    "dict"
   ]
  },
  {
   "cell_type": "code",
   "execution_count": 38,
   "id": "103ccfd4-8283-45d0-b0d4-4a1409011b2e",
   "metadata": {},
   "outputs": [
    {
     "data": {
      "text/plain": [
       "{'location': 'karachi', 'uni': 'smiu'}"
      ]
     },
     "execution_count": 38,
     "metadata": {},
     "output_type": "execute_result"
    }
   ],
   "source": [
    "dict1"
   ]
  },
  {
   "cell_type": "code",
   "execution_count": 43,
   "id": "1f11d0f2-46bb-402e-afec-bc7fae1e4ebe",
   "metadata": {},
   "outputs": [],
   "source": [
    "dict.update(dict1)"
   ]
  },
  {
   "cell_type": "code",
   "execution_count": 44,
   "id": "29dcc0b4-f6a9-4ba7-b205-031c24ce9b77",
   "metadata": {},
   "outputs": [
    {
     "data": {
      "text/plain": [
       "{'name': 'taha',\n",
       " 'age': 15,\n",
       " 'class': 'python',\n",
       " 'location': 'karachi',\n",
       " 'uni': 'smiu'}"
      ]
     },
     "execution_count": 44,
     "metadata": {},
     "output_type": "execute_result"
    }
   ],
   "source": [
    "dict\n"
   ]
  },
  {
   "cell_type": "code",
   "execution_count": null,
   "id": "95da6019-a407-4695-bff7-425f0ff0bbd4",
   "metadata": {},
   "outputs": [],
   "source": []
  }
 ],
 "metadata": {
  "kernelspec": {
   "display_name": "Python 3 (ipykernel)",
   "language": "python",
   "name": "python3"
  },
  "language_info": {
   "codemirror_mode": {
    "name": "ipython",
    "version": 3
   },
   "file_extension": ".py",
   "mimetype": "text/x-python",
   "name": "python",
   "nbconvert_exporter": "python",
   "pygments_lexer": "ipython3",
   "version": "3.11.7"
  }
 },
 "nbformat": 4,
 "nbformat_minor": 5
}
