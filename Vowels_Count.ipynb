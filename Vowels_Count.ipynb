{
 "cells": [
  {
   "cell_type": "code",
   "execution_count": 2,
   "id": "f802f6af-738f-4088-8899-2df3e286cffc",
   "metadata": {},
   "outputs": [
    {
     "name": "stdin",
     "output_type": "stream",
     "text": [
      "Enter a paragraph:  WebAssembly is an open standard whose main objective is to offer a closely native performance on the web while maintaining compatibility with the current ecosystems and standards.\n"
     ]
    },
    {
     "name": "stdout",
     "output_type": "stream",
     "text": [
      "The paragraph contains 56 vowels.\n"
     ]
    }
   ],
   "source": [
    "paragraph = input(\"Enter a paragraph: \")\n",
    "\n",
    "vowels = 'aeiou'\n",
    "count = 0\n",
    "\n",
    "for char in paragraph.lower():\n",
    "    if char in vowels:\n",
    "        count += 1\n",
    "\n",
    "print(f\"The paragraph contains {count} vowels.\")\n"
   ]
  },
  {
   "cell_type": "code",
   "execution_count": null,
   "id": "1172fe16-cd06-4127-946c-320a4d163211",
   "metadata": {},
   "outputs": [],
   "source": []
  }
 ],
 "metadata": {
  "kernelspec": {
   "display_name": "Python 3 (ipykernel)",
   "language": "python",
   "name": "python3"
  },
  "language_info": {
   "codemirror_mode": {
    "name": "ipython",
    "version": 3
   },
   "file_extension": ".py",
   "mimetype": "text/x-python",
   "name": "python",
   "nbconvert_exporter": "python",
   "pygments_lexer": "ipython3",
   "version": "3.11.7"
  }
 },
 "nbformat": 4,
 "nbformat_minor": 5
}
