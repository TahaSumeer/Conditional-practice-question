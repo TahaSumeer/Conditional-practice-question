{
 "cells": [
  {
   "cell_type": "code",
   "execution_count": 1,
   "id": "3a8f9ccf-5fdd-45f1-85a7-7c59c976e67c",
   "metadata": {},
   "outputs": [],
   "source": [
    "#Data types / Object types\n"
   ]
  },
  {
   "cell_type": "code",
   "execution_count": 2,
   "id": "3a23a774-ade9-4106-a5b4-7a8030a54dac",
   "metadata": {},
   "outputs": [
    {
     "data": {
      "text/plain": [
       "48"
      ]
     },
     "execution_count": 2,
     "metadata": {},
     "output_type": "execute_result"
    }
   ],
   "source": [
    "12 * 4 "
   ]
  },
  {
   "cell_type": "code",
   "execution_count": 13,
   "id": "3add25a0-dae9-4f42-a1bb-c9f3889ef6d8",
   "metadata": {},
   "outputs": [
    {
     "data": {
      "text/plain": [
       "1024"
      ]
     },
     "execution_count": 13,
     "metadata": {},
     "output_type": "execute_result"
    }
   ],
   "source": [
    "2**10"
   ]
  },
  {
   "cell_type": "code",
   "execution_count": 14,
   "id": "3349fca5-3a10-4213-a72e-ff4b18138730",
   "metadata": {},
   "outputs": [],
   "source": [
    "import math"
   ]
  },
  {
   "cell_type": "code",
   "execution_count": 15,
   "id": "ca854746-a8ca-4a66-bfb3-73c7e5094f80",
   "metadata": {},
   "outputs": [
    {
     "data": {
      "text/plain": [
       "3.141592653589793"
      ]
     },
     "execution_count": 15,
     "metadata": {},
     "output_type": "execute_result"
    }
   ],
   "source": [
    "math.pi"
   ]
  },
  {
   "cell_type": "code",
   "execution_count": 19,
   "id": "c10de49b-f040-4704-87cb-7be5dcb02b46",
   "metadata": {},
   "outputs": [],
   "source": [
    "import random"
   ]
  },
  {
   "cell_type": "code",
   "execution_count": 21,
   "id": "97ad79fb-1e13-40da-b21d-e8579e32657d",
   "metadata": {},
   "outputs": [
    {
     "data": {
      "text/plain": [
       "0.21736062432812675"
      ]
     },
     "execution_count": 21,
     "metadata": {},
     "output_type": "execute_result"
    }
   ],
   "source": [
    "random.random()"
   ]
  },
  {
   "cell_type": "code",
   "execution_count": 22,
   "id": "3480e45a-bdcd-483c-ae53-491651bdd865",
   "metadata": {},
   "outputs": [
    {
     "data": {
      "text/plain": [
       "1"
      ]
     },
     "execution_count": 22,
     "metadata": {},
     "output_type": "execute_result"
    }
   ],
   "source": [
    "random.choice([1,2,3,4,5])"
   ]
  },
  {
   "cell_type": "code",
   "execution_count": 26,
   "id": "468949a0-d225-4f0c-b264-46df8c4c8e83",
   "metadata": {},
   "outputs": [
    {
     "data": {
      "text/plain": [
       "5"
      ]
     },
     "execution_count": 26,
     "metadata": {},
     "output_type": "execute_result"
    }
   ],
   "source": [
    "random.choice([1,2,3,4,5])"
   ]
  },
  {
   "cell_type": "code",
   "execution_count": 27,
   "id": "49f3f603-cb02-489a-82e4-9445262c75d0",
   "metadata": {},
   "outputs": [],
   "source": [
    "username = \"chaiaurcode\""
   ]
  },
  {
   "cell_type": "code",
   "execution_count": 28,
   "id": "3ae0ccb4-d278-4968-a66b-1eb6617401f2",
   "metadata": {},
   "outputs": [
    {
     "data": {
      "text/plain": [
       "11"
      ]
     },
     "execution_count": 28,
     "metadata": {},
     "output_type": "execute_result"
    }
   ],
   "source": [
    "len(username)"
   ]
  },
  {
   "cell_type": "code",
   "execution_count": 29,
   "id": "649bfc37-f2cd-4924-a152-edfd61794c98",
   "metadata": {},
   "outputs": [
    {
     "data": {
      "text/plain": [
       "'h'"
      ]
     },
     "execution_count": 29,
     "metadata": {},
     "output_type": "execute_result"
    }
   ],
   "source": [
    "username[1]"
   ]
  },
  {
   "cell_type": "code",
   "execution_count": 30,
   "id": "aebb8289-e9f6-473c-a680-d1e991a365e0",
   "metadata": {},
   "outputs": [
    {
     "data": {
      "text/plain": [
       "'aiau'"
      ]
     },
     "execution_count": 30,
     "metadata": {},
     "output_type": "execute_result"
    }
   ],
   "source": [
    "username[2:6]"
   ]
  },
  {
   "cell_type": "code",
   "execution_count": 32,
   "id": "4271e6e3-dffd-45be-8e4d-63bd27ef521d",
   "metadata": {},
   "outputs": [
    {
     "data": {
      "text/plain": [
       "['__add__',\n",
       " '__class__',\n",
       " '__contains__',\n",
       " '__delattr__',\n",
       " '__dir__',\n",
       " '__doc__',\n",
       " '__eq__',\n",
       " '__format__',\n",
       " '__ge__',\n",
       " '__getattribute__',\n",
       " '__getitem__',\n",
       " '__getnewargs__',\n",
       " '__getstate__',\n",
       " '__gt__',\n",
       " '__hash__',\n",
       " '__init__',\n",
       " '__init_subclass__',\n",
       " '__iter__',\n",
       " '__le__',\n",
       " '__len__',\n",
       " '__lt__',\n",
       " '__mod__',\n",
       " '__mul__',\n",
       " '__ne__',\n",
       " '__new__',\n",
       " '__reduce__',\n",
       " '__reduce_ex__',\n",
       " '__repr__',\n",
       " '__rmod__',\n",
       " '__rmul__',\n",
       " '__setattr__',\n",
       " '__sizeof__',\n",
       " '__str__',\n",
       " '__subclasshook__',\n",
       " 'capitalize',\n",
       " 'casefold',\n",
       " 'center',\n",
       " 'count',\n",
       " 'encode',\n",
       " 'endswith',\n",
       " 'expandtabs',\n",
       " 'find',\n",
       " 'format',\n",
       " 'format_map',\n",
       " 'index',\n",
       " 'isalnum',\n",
       " 'isalpha',\n",
       " 'isascii',\n",
       " 'isdecimal',\n",
       " 'isdigit',\n",
       " 'isidentifier',\n",
       " 'islower',\n",
       " 'isnumeric',\n",
       " 'isprintable',\n",
       " 'isspace',\n",
       " 'istitle',\n",
       " 'isupper',\n",
       " 'join',\n",
       " 'ljust',\n",
       " 'lower',\n",
       " 'lstrip',\n",
       " 'maketrans',\n",
       " 'partition',\n",
       " 'removeprefix',\n",
       " 'removesuffix',\n",
       " 'replace',\n",
       " 'rfind',\n",
       " 'rindex',\n",
       " 'rjust',\n",
       " 'rpartition',\n",
       " 'rsplit',\n",
       " 'rstrip',\n",
       " 'split',\n",
       " 'splitlines',\n",
       " 'startswith',\n",
       " 'strip',\n",
       " 'swapcase',\n",
       " 'title',\n",
       " 'translate',\n",
       " 'upper',\n",
       " 'zfill']"
      ]
     },
     "execution_count": 32,
     "metadata": {},
     "output_type": "execute_result"
    }
   ],
   "source": [
    "dir(username)"
   ]
  },
  {
   "cell_type": "code",
   "execution_count": 33,
   "id": "2c72bdf4-fba8-4564-a462-0393048691db",
   "metadata": {},
   "outputs": [],
   "source": [
    "mylist = [123, \"Chai\", 3.14]"
   ]
  },
  {
   "cell_type": "code",
   "execution_count": 34,
   "id": "558979d6-a1b6-4dcd-ac46-53642a8041bc",
   "metadata": {},
   "outputs": [
    {
     "data": {
      "text/plain": [
       "[123, 'Chai', 3.14]"
      ]
     },
     "execution_count": 34,
     "metadata": {},
     "output_type": "execute_result"
    }
   ],
   "source": [
    "mylist"
   ]
  },
  {
   "cell_type": "code",
   "execution_count": 41,
   "id": "947d1e42-35b3-41f4-a7a4-556f2a3bb6f0",
   "metadata": {},
   "outputs": [],
   "source": [
    "myd = {'one': 'Lemon', 'two': 'ginger', 'three': 'black'}"
   ]
  },
  {
   "cell_type": "code",
   "execution_count": 36,
   "id": "a2b0d49f-98c1-41b9-a0b0-3738af1345e9",
   "metadata": {},
   "outputs": [
    {
     "data": {
      "text/plain": [
       "{'one': 'Lemon', 'two': 'ginger', 'Three': 'black'}"
      ]
     },
     "execution_count": 36,
     "metadata": {},
     "output_type": "execute_result"
    }
   ],
   "source": [
    "myd"
   ]
  },
  {
   "cell_type": "code",
   "execution_count": 42,
   "id": "5e30c306-b28f-4015-ba58-0e1b3772bec8",
   "metadata": {},
   "outputs": [
    {
     "data": {
      "text/plain": [
       "'black'"
      ]
     },
     "execution_count": 42,
     "metadata": {},
     "output_type": "execute_result"
    }
   ],
   "source": [
    "myd['three']"
   ]
  },
  {
   "cell_type": "code",
   "execution_count": null,
   "id": "f24b4b7c-719f-4a8e-be69-6bb1a1054e70",
   "metadata": {},
   "outputs": [],
   "source": []
  }
 ],
 "metadata": {
  "kernelspec": {
   "display_name": "Python 3 (ipykernel)",
   "language": "python",
   "name": "python3"
  },
  "language_info": {
   "codemirror_mode": {
    "name": "ipython",
    "version": 3
   },
   "file_extension": ".py",
   "mimetype": "text/x-python",
   "name": "python",
   "nbconvert_exporter": "python",
   "pygments_lexer": "ipython3",
   "version": "3.11.7"
  }
 },
 "nbformat": 4,
 "nbformat_minor": 5
}
