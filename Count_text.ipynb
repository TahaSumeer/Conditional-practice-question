{
 "cells": [
  {
   "cell_type": "code",
   "execution_count": null,
   "id": "d6b28bab-813d-4ea8-813a-aaea0dd28225",
   "metadata": {},
   "outputs": [],
   "source": [
    "string = input(\"Enter a text here to check vowels\")\n",
    "List = [\"a\", \"e\", \"i\", \"o\", \"u\"]\n",
    "\n",
    "print({c: string.count(c) for c in List})"
   ]
  },
  {
   "cell_type": "code",
   "execution_count": null,
   "id": "be26276b-e1e6-4875-8187-f8cc87f9a17e",
   "metadata": {},
   "outputs": [],
   "source": []
  },
  {
   "cell_type": "code",
   "execution_count": null,
   "id": "f9a4fd87-fe9c-4848-a5eb-ff24799a2825",
   "metadata": {},
   "outputs": [],
   "source": []
  }
 ],
 "metadata": {
  "kernelspec": {
   "display_name": "Python 3 (ipykernel)",
   "language": "python",
   "name": "python3"
  },
  "language_info": {
   "codemirror_mode": {
    "name": "ipython",
    "version": 3
   },
   "file_extension": ".py",
   "mimetype": "text/x-python",
   "name": "python",
   "nbconvert_exporter": "python",
   "pygments_lexer": "ipython3",
   "version": "3.11.7"
  }
 },
 "nbformat": 4,
 "nbformat_minor": 5
}
