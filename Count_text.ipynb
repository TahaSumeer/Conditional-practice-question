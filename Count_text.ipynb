{
 "cells": [
  {
   "cell_type": "code",
   "execution_count": 37,
   "id": "d6b28bab-813d-4ea8-813a-aaea0dd28225",
   "metadata": {},
   "outputs": [
    {
     "name": "stdin",
     "output_type": "stream",
     "text": [
      "Enter a text here to check vowels Welcome to complete git and github series in Hindi. In this video we will learn about Git in depth along with workflow so that you can use git in your daily life. Further we will explore about github so that you can store your code online in an easy way. Not only that, we have special docs that comes with this course. You can visit https://docs.chaicode.com and get all details from there so that you focus on learning and not on writing docs. If you wish, you can write them but we recommend to implement the commands directly. …\n"
     ]
    },
    {
     "name": "stdout",
     "output_type": "stream",
     "text": [
      "{'a': 27, 'e': 40, 'i': 34, 'o': 41, 'u': 17}\n"
     ]
    }
   ],
   "source": [
    "string = input(\"Enter a text here to check vowels\")\n",
    "List = [\"a\", \"e\", \"i\", \"o\", \"u\"]\n",
    "\n",
    "print({c: string.count(c) for c in List})"
   ]
  },
  {
   "cell_type": "code",
   "execution_count": null,
   "id": "60db2729-291a-4af4-b0e5-1d22e5927a88",
   "metadata": {},
   "outputs": [],
   "source": []
  }
 ],
 "metadata": {
  "kernelspec": {
   "display_name": "Python 3 (ipykernel)",
   "language": "python",
   "name": "python3"
  },
  "language_info": {
   "codemirror_mode": {
    "name": "ipython",
    "version": 3
   },
   "file_extension": ".py",
   "mimetype": "text/x-python",
   "name": "python",
   "nbconvert_exporter": "python",
   "pygments_lexer": "ipython3",
   "version": "3.11.7"
  }
 },
 "nbformat": 4,
 "nbformat_minor": 5
}
