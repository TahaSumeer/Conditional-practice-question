{
 "cells": [
  {
   "cell_type": "markdown",
   "id": "4090d0fa-72ab-4f49-946e-67c838e922d2",
   "metadata": {},
   "source": [
    "### Age"
   ]
  },
  {
   "cell_type": "code",
   "execution_count": 37,
   "id": "76621c7d-3e76-414b-8119-bb7831c8f71f",
   "metadata": {},
   "outputs": [
    {
     "name": "stdin",
     "output_type": "stream",
     "text": [
      "Enter your age 39\n"
     ]
    },
    {
     "name": "stdout",
     "output_type": "stream",
     "text": [
      "Young\n"
     ]
    }
   ],
   "source": [
    "age =  int(input(\"Enter your age\"))\n",
    "if age < 13:\n",
    "    print(\"kid\")\n",
    "elif age < 18: \n",
    "    print(\"aduld\")\n",
    "elif age < 40:\n",
    "    print(\"Young\")\n",
    "else:\n",
    "    print(\"old\")"
   ]
  },
  {
   "cell_type": "markdown",
   "id": "cbc415aa-c94d-46d2-ac57-f74634f52fd6",
   "metadata": {},
   "source": [
    "### Movie Tickets\n"
   ]
  },
  {
   "cell_type": "code",
   "execution_count": 71,
   "id": "b558a072-6dc2-45ce-bde6-696eced89eab",
   "metadata": {},
   "outputs": [
    {
     "name": "stdin",
     "output_type": "stream",
     "text": [
      "Enter your age to check price of movie ticket 21\n",
      "Enter a day to check discount:  wednesday\n"
     ]
    },
    {
     "name": "stdout",
     "output_type": "stream",
     "text": [
      "The price of the movie ticket is $10\n"
     ]
    }
   ],
   "source": [
    "age = int(input(\"Enter your age to check price of movie ticket\"))\n",
    "if age < 8:\n",
    "    price = 8\n",
    "else:\n",
    "    price = 12\n",
    "day = input(\"Enter a day to check discount: \").strip().lower() \n",
    "\n",
    "if day == \"wednesday\":\n",
    "    price = price - 2 \n",
    "\n",
    "print(f\"The price of the movie ticket is ${price}\")"
   ]
  },
  {
   "cell_type": "markdown",
   "id": "a1e3330d-da07-4b83-9b08-79981271fd87",
   "metadata": {},
   "source": [
    "### Grade check"
   ]
  },
  {
   "cell_type": "code",
   "execution_count": 2,
   "id": "fc256339-c1b8-4e02-97f9-307a33f5d7d5",
   "metadata": {},
   "outputs": [
    {
     "name": "stdin",
     "output_type": "stream",
     "text": [
      "Enter your total marks: 500\n",
      "Enter your obtain marks: 450\n"
     ]
    },
    {
     "name": "stdout",
     "output_type": "stream",
     "text": [
      "Your percentage is: 90.0 %\n",
      "You got A1\n"
     ]
    }
   ],
   "source": [
    "Total_marks = int(input(\"Enter your total marks:\"))\n",
    "obtain_marks = int(input(\"Enter your obtain marks:\"))\n",
    "if obtain_marks > Total_marks:\n",
    "    print(\"Please check your obtained marks, it cannot be greater than total marks.\")\n",
    "    exit()\n",
    "\n",
    "percent = obtain_marks / Total_marks * 100\n",
    "print(\"Your percentage is:\",percent,\"%\")\n",
    "\n",
    "\n",
    "if percent > 90:\n",
    "    print(\"You got A+\")\n",
    "elif percent > 80:\n",
    "    print(\"You got A1\")\n",
    "elif percent > 70:\n",
    "    print(\"You got A\")\n",
    "elif percent > 60:\n",
    "    print(\"You got B\")\n",
    "elif percent > 50:\n",
    "    print(\"You got C\")\n",
    "else:\n",
    "    print(\"fail\")\n"
   ]
  },
  {
   "cell_type": "markdown",
   "id": "614b4e92-25aa-468c-94f4-cf135199db0c",
   "metadata": {},
   "source": [
    "### Weather Activity\n"
   ]
  },
  {
   "cell_type": "code",
   "execution_count": 32,
   "id": "80b8e724-9a07-4dc9-a4e8-e9e40de24bdb",
   "metadata": {},
   "outputs": [
    {
     "name": "stdin",
     "output_type": "stream",
     "text": [
      "Enter a weather RAINY\n"
     ]
    },
    {
     "name": "stdout",
     "output_type": "stream",
     "text": [
      "Stay at home\n"
     ]
    }
   ],
   "source": [
    "weather = input(\"Enter a weather\").lower()\n",
    "\n",
    "if weather == \"sunny\":\n",
    "    print(\"Go at sea\")\n",
    "    \n",
    "elif weather == \"rainy\":\n",
    "    print(\"Stay at home\")\n",
    "elif weather == \"snowy\":\n",
    "    print(\"Build a SnowMan\")\n",
    "else: \n",
    "    print(\"please enter true weather\")\n",
    "   \n",
    "\n"
   ]
  },
  {
   "cell_type": "markdown",
   "id": "4193bda8-b2ff-400a-b1bd-ce962bb364f0",
   "metadata": {},
   "source": [
    "### Transportation\n"
   ]
  },
  {
   "cell_type": "code",
   "execution_count": 37,
   "id": "48d0689c-897e-43de-9b81-4708e9203524",
   "metadata": {},
   "outputs": [
    {
     "name": "stdin",
     "output_type": "stream",
     "text": [
      "Enter a distance to check which vehicle is best for you 15\n"
     ]
    },
    {
     "name": "stdout",
     "output_type": "stream",
     "text": [
      "Bike\n"
     ]
    }
   ],
   "source": [
    "Distance = int(input(\"Enter a distance to check which vehicle is best for you\"))\n",
    "\n",
    "if Distance <= 3:\n",
    "    print(\"Walk\")\n",
    "elif Distance <= 15:\n",
    "    print(\"Bike\")\n",
    "else: #Distance <= 30:\n",
    "    print(\"Car\")"
   ]
  },
  {
   "cell_type": "code",
   "execution_count": null,
   "id": "b2013446-98c7-496d-8711-a129516edbf8",
   "metadata": {},
   "outputs": [],
   "source": []
  }
 ],
 "metadata": {
  "kernelspec": {
   "display_name": "Python 3 (ipykernel)",
   "language": "python",
   "name": "python3"
  },
  "language_info": {
   "codemirror_mode": {
    "name": "ipython",
    "version": 3
   },
   "file_extension": ".py",
   "mimetype": "text/x-python",
   "name": "python",
   "nbconvert_exporter": "python",
   "pygments_lexer": "ipython3",
   "version": "3.11.7"
  }
 },
 "nbformat": 4,
 "nbformat_minor": 5
}
