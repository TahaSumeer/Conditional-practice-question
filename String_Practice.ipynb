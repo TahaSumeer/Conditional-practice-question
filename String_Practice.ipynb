{
 "cells": [
  {
   "cell_type": "code",
   "execution_count": 3,
   "id": "392b4ff6-54f7-4717-a77c-201e0e5c8511",
   "metadata": {},
   "outputs": [],
   "source": [
    "chai = \"Masala Chai\""
   ]
  },
  {
   "cell_type": "code",
   "execution_count": 9,
   "id": "f8765c89-b726-4c5f-8b1d-498ab584fa72",
   "metadata": {},
   "outputs": [
    {
     "name": "stdout",
     "output_type": "stream",
     "text": [
      "masala chai\n"
     ]
    }
   ],
   "source": [
    "print(chai.lower())"
   ]
  },
  {
   "cell_type": "code",
   "execution_count": 60,
   "id": "4e69e0ae-3243-4355-8e72-2f038980b6c2",
   "metadata": {},
   "outputs": [],
   "source": [
    "Tea = \"   Lemon Tea  \""
   ]
  },
  {
   "cell_type": "code",
   "execution_count": 61,
   "id": "e0ae9f6b-79a1-4142-a59c-0e019e335662",
   "metadata": {},
   "outputs": [
    {
     "name": "stdout",
     "output_type": "stream",
     "text": [
      "  L\n"
     ]
    }
   ],
   "source": [
    "print(Tea[1:4])"
   ]
  },
  {
   "cell_type": "code",
   "execution_count": 86,
   "id": "2d5301b5-9dab-41af-92aa-6bb20d4838a7",
   "metadata": {},
   "outputs": [
    {
     "name": "stdout",
     "output_type": "stream",
     "text": [
      "   Tea  \n"
     ]
    }
   ],
   "source": [
    "print(Tea.replace(\"Lemon Tea\", \"Tea\"))"
   ]
  },
  {
   "cell_type": "code",
   "execution_count": 87,
   "id": "e4ec8b38-4354-4d12-a182-b91220799005",
   "metadata": {},
   "outputs": [
    {
     "name": "stdout",
     "output_type": "stream",
     "text": [
      "['Lemon', 'Tea']\n"
     ]
    },
    {
     "data": {
      "text/plain": [
       "str"
      ]
     },
     "execution_count": 87,
     "metadata": {},
     "output_type": "execute_result"
    }
   ],
   "source": [
    "print(Tea.split())\n",
    "type(Tea)"
   ]
  },
  {
   "cell_type": "code",
   "execution_count": 64,
   "id": "39a1d740-ada9-4f7b-b73f-736b7bfc03ce",
   "metadata": {},
   "outputs": [
    {
     "name": "stdout",
     "output_type": "stream",
     "text": [
      "1\n"
     ]
    }
   ],
   "source": [
    "print(Tea.count(\"L\"))"
   ]
  },
  {
   "cell_type": "code",
   "execution_count": 68,
   "id": "6e5e7953-4595-4afa-85b3-50bfa34a76eb",
   "metadata": {},
   "outputs": [
    {
     "name": "stdout",
     "output_type": "stream",
     "text": [
      "Lemon Tea\n"
     ]
    }
   ],
   "source": [
    "print(Tea.strip())"
   ]
  },
  {
   "cell_type": "code",
   "execution_count": 75,
   "id": "7cc3ca39-0957-43f4-b873-571b58d95392",
   "metadata": {},
   "outputs": [
    {
     "name": "stdout",
     "output_type": "stream",
     "text": [
      "9\n"
     ]
    }
   ],
   "source": [
    "print(Tea.find(\"T\"))"
   ]
  },
  {
   "cell_type": "code",
   "execution_count": 76,
   "id": "a053be1a-7890-4acd-8bd7-147cd51d95f7",
   "metadata": {},
   "outputs": [],
   "source": [
    "check = \"Enter a text\"\n",
    "vowels = [\"a\",\"e\",\"o\",\"i\",\"u\"]"
   ]
  },
  {
   "cell_type": "code",
   "execution_count": 84,
   "id": "b1f4b6bc-de44-41e8-884b-a34744f0e441",
   "metadata": {},
   "outputs": [
    {
     "name": "stdout",
     "output_type": "stream",
     "text": [
      "{'E': 1, 'n': 1, 't': 3, 'e': 2, 'r': 1, ' ': 2, 'a': 1, 'x': 1}\n"
     ]
    }
   ],
   "source": [
    "print({c: check.count(c) for c in check})"
   ]
  },
  {
   "cell_type": "code",
   "execution_count": 85,
   "id": "0e5d3ae1-894a-43b1-a2a2-43f26534ca06",
   "metadata": {},
   "outputs": [
    {
     "name": "stdin",
     "output_type": "stream",
     "text": [
      "Enter a text here to check vowels the world is going to be happy place\n"
     ]
    },
    {
     "name": "stdout",
     "output_type": "stream",
     "text": [
      "{'a': 2, 'e': 3, 'i': 2, 'o': 3, 'u': 0}\n"
     ]
    }
   ],
   "source": [
    "string = input(\"Enter a text here to check vowels\")\n",
    "List = [\"a\", \"e\", \"i\", \"o\", \"u\"]\n",
    "\n",
    "print({c: string.count(c) for c in List})"
   ]
  },
  {
   "cell_type": "code",
   "execution_count": 88,
   "id": "f38e9078-2e96-4a5e-ac34-3cac30a0e3e2",
   "metadata": {},
   "outputs": [],
   "source": [
    "tea1= \"Masala chai and ginger tea\""
   ]
  },
  {
   "cell_type": "code",
   "execution_count": 96,
   "id": "e43fe93d-2808-4928-956c-cd7166d664eb",
   "metadata": {},
   "outputs": [
    {
     "name": "stdout",
     "output_type": "stream",
     "text": [
      "True\n"
     ]
    }
   ],
   "source": [
    "print(\"and ginger\" in tea1)"
   ]
  },
  {
   "cell_type": "code",
   "execution_count": 103,
   "id": "9efd72d3-07a2-4d88-9f18-b2d16a67d00c",
   "metadata": {},
   "outputs": [
    {
     "name": "stdout",
     "output_type": "stream",
     "text": [
      "Masala chai and ginger tea\n",
      "Masala chai and ginger tea\n",
      "Masala chai and ginger tea\n",
      "Masala chai and ginger tea\n",
      "Masala chai and ginger tea\n",
      "Masala chai and ginger tea\n",
      "Masala chai and ginger tea\n",
      "Masala chai and ginger tea\n",
      "Masala chai and ginger tea\n",
      "Masala chai and ginger tea\n",
      "Masala chai and ginger tea\n",
      "Masala chai and ginger tea\n",
      "Masala chai and ginger tea\n",
      "Masala chai and ginger tea\n",
      "Masala chai and ginger tea\n",
      "Masala chai and ginger tea\n",
      "Masala chai and ginger tea\n",
      "Masala chai and ginger tea\n",
      "Masala chai and ginger tea\n",
      "Masala chai and ginger tea\n",
      "Masala chai and ginger tea\n",
      "Masala chai and ginger tea\n",
      "Masala chai and ginger tea\n",
      "Masala chai and ginger tea\n",
      "Masala chai and ginger tea\n",
      "Masala chai and ginger tea\n"
     ]
    }
   ],
   "source": [
    "for c in tea1:\n",
    "    print(tea1)"
   ]
  },
  {
   "cell_type": "code",
   "execution_count": 104,
   "id": "849cf1a7-1886-484e-abce-b2352565d67a",
   "metadata": {},
   "outputs": [],
   "source": [
    "chai_var= [\"lemon\",\"mint\",\"masala\", \"ginger\"]"
   ]
  },
  {
   "cell_type": "code",
   "execution_count": 125,
   "id": "e4466cc6-cea9-4d78-9b8f-475bd8a1e387",
   "metadata": {},
   "outputs": [
    {
     "name": "stdout",
     "output_type": "stream",
     "text": [
      "lemon , mint , masala , ginger\n"
     ]
    }
   ],
   "source": [
    "print(\" , \".join(chai_var))"
   ]
  },
  {
   "cell_type": "code",
   "execution_count": 124,
   "id": "f7a8006a-e7a8-42bc-8905-44065c32dcda",
   "metadata": {},
   "outputs": [
    {
     "data": {
      "text/plain": [
       "list"
      ]
     },
     "execution_count": 124,
     "metadata": {},
     "output_type": "execute_result"
    }
   ],
   "source": [
    "type(chai_var)"
   ]
  },
  {
   "cell_type": "code",
   "execution_count": null,
   "id": "21f63ba4-e3c0-4bd7-9437-741208a7b469",
   "metadata": {},
   "outputs": [],
   "source": [
    "help"
   ]
  }
 ],
 "metadata": {
  "kernelspec": {
   "display_name": "Python 3 (ipykernel)",
   "language": "python",
   "name": "python3"
  },
  "language_info": {
   "codemirror_mode": {
    "name": "ipython",
    "version": 3
   },
   "file_extension": ".py",
   "mimetype": "text/x-python",
   "name": "python",
   "nbconvert_exporter": "python",
   "pygments_lexer": "ipython3",
   "version": "3.11.7"
  }
 },
 "nbformat": 4,
 "nbformat_minor": 5
}
