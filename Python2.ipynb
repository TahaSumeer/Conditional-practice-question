{
 "cells": [
  {
   "cell_type": "markdown",
   "id": "fc2b6fac",
   "metadata": {},
   "source": [
    "# Python Functions"
   ]
  },
  {
   "cell_type": "code",
   "execution_count": 10,
   "id": "bf1744c6",
   "metadata": {},
   "outputs": [],
   "source": [
    "# parameterless function : that dont ask anything from caller.\n",
    "def sayHello():\n",
    "    print(\"Hello\")"
   ]
  },
  {
   "cell_type": "code",
   "execution_count": 11,
   "id": "c40e1fb7",
   "metadata": {},
   "outputs": [
    {
     "name": "stdout",
     "output_type": "stream",
     "text": [
      "Hello\n"
     ]
    }
   ],
   "source": [
    "sayHellO()"
   ]
  },
  {
   "cell_type": "code",
   "execution_count": 12,
   "id": "84e5172b",
   "metadata": {},
   "outputs": [
    {
     "name": "stdout",
     "output_type": "stream",
     "text": [
      "Hello\n"
     ]
    }
   ],
   "source": [
    "sayHellO()"
   ]
  },
  {
   "cell_type": "code",
   "execution_count": 13,
   "id": "86bcc68a",
   "metadata": {},
   "outputs": [],
   "source": [
    "# parametrized function: it rceives a paramter\n",
    "def sayHello(name):\n",
    "    print(f\"Hello {name}.\")"
   ]
  },
  {
   "cell_type": "code",
   "execution_count": 15,
   "id": "8d18646f",
   "metadata": {},
   "outputs": [
    {
     "ename": "TypeError",
     "evalue": "sayHello() missing 1 required positional argument: 'name'",
     "output_type": "error",
     "traceback": [
      "\u001b[1;31m---------------------------------------------------------------------------\u001b[0m",
      "\u001b[1;31mTypeError\u001b[0m                                 Traceback (most recent call last)",
      "Cell \u001b[1;32mIn[15], line 1\u001b[0m\n\u001b[1;32m----> 1\u001b[0m sayHello()\n",
      "\u001b[1;31mTypeError\u001b[0m: sayHello() missing 1 required positional argument: 'name'"
     ]
    }
   ],
   "source": [
    "sayHello()"
   ]
  },
  {
   "cell_type": "code",
   "execution_count": 16,
   "id": "1d3362e9",
   "metadata": {},
   "outputs": [
    {
     "name": "stdout",
     "output_type": "stream",
     "text": [
      "Hello Atif Khan.\n"
     ]
    }
   ],
   "source": [
    "sayHello(\"Atif Khan\")  # argument"
   ]
  },
  {
   "cell_type": "code",
   "execution_count": 17,
   "id": "fcba6358",
   "metadata": {},
   "outputs": [],
   "source": [
    "def add(n1, n2):\n",
    "    print(n1+n2)"
   ]
  },
  {
   "cell_type": "code",
   "execution_count": 18,
   "id": "c2dc8ab5",
   "metadata": {},
   "outputs": [
    {
     "ename": "TypeError",
     "evalue": "add() missing 2 required positional arguments: 'n1' and 'n2'",
     "output_type": "error",
     "traceback": [
      "\u001b[1;31m---------------------------------------------------------------------------\u001b[0m",
      "\u001b[1;31mTypeError\u001b[0m                                 Traceback (most recent call last)",
      "Cell \u001b[1;32mIn[18], line 1\u001b[0m\n\u001b[1;32m----> 1\u001b[0m add()\n",
      "\u001b[1;31mTypeError\u001b[0m: add() missing 2 required positional arguments: 'n1' and 'n2'"
     ]
    }
   ],
   "source": [
    "add()"
   ]
  },
  {
   "cell_type": "code",
   "execution_count": 20,
   "id": "2e37bb17",
   "metadata": {},
   "outputs": [
    {
     "name": "stdout",
     "output_type": "stream",
     "text": [
      "57\n"
     ]
    }
   ],
   "source": [
    "add(12,45)"
   ]
  },
  {
   "cell_type": "markdown",
   "id": "01cf33d4",
   "metadata": {},
   "source": [
    "# Positional Arguments and Keyword Arguments"
   ]
  },
  {
   "cell_type": "code",
   "execution_count": 21,
   "id": "f3d8ab1f",
   "metadata": {},
   "outputs": [],
   "source": [
    "def full_name(first_name, last_name):\n",
    "    full_name = f\"{first_name} {last_name}\"\n",
    "    print(full_name)"
   ]
  },
  {
   "cell_type": "code",
   "execution_count": 22,
   "id": "cb17f96c",
   "metadata": {},
   "outputs": [
    {
     "name": "stdout",
     "output_type": "stream",
     "text": [
      "Maaz Touseef\n"
     ]
    }
   ],
   "source": [
    "full_name(\"Maaz\", \"Touseef\")"
   ]
  },
  {
   "cell_type": "code",
   "execution_count": 23,
   "id": "d9a75c62",
   "metadata": {},
   "outputs": [
    {
     "name": "stdout",
     "output_type": "stream",
     "text": [
      "Touseef Maaz\n"
     ]
    }
   ],
   "source": [
    "full_name(\"Touseef\",\"Maaz\")"
   ]
  },
  {
   "cell_type": "code",
   "execution_count": 24,
   "id": "2e5c7288",
   "metadata": {},
   "outputs": [],
   "source": [
    "def full_name(first_name, last_name):\n",
    "    full_name = f\"{first_name} {last_name}\"\n",
    "    print(full_name)"
   ]
  },
  {
   "cell_type": "code",
   "execution_count": 25,
   "id": "deeedd4a",
   "metadata": {},
   "outputs": [
    {
     "name": "stdout",
     "output_type": "stream",
     "text": [
      "Maaz Touseef\n"
     ]
    }
   ],
   "source": [
    "full_name(last_name='Touseef', first_name=\"Maaz\")"
   ]
  },
  {
   "cell_type": "markdown",
   "id": "f064f9a9",
   "metadata": {},
   "source": [
    "8-3. T-Shirt: Write a function called make_shirt() that accepts a size and the\n",
    "text of a message that should be printed on the shirt The function should print\n",
    "a sentence summarizing the size of the shirt and the message printed on it\n",
    "Call the function once using positional arguments to make a shirt Call the\n",
    "function a second time using keyword argumnets."
   ]
  },
  {
   "cell_type": "code",
   "execution_count": 29,
   "id": "7ed19952",
   "metadata": {},
   "outputs": [],
   "source": [
    "def make_shirt(size, msg):\n",
    "    print(f\"The Size is: {size} and the message is: {msg}\")"
   ]
  },
  {
   "cell_type": "code",
   "execution_count": 30,
   "id": "f386702b",
   "metadata": {},
   "outputs": [
    {
     "name": "stdout",
     "output_type": "stream",
     "text": [
      "The Size is: Medium and the message is: Hello Python\n"
     ]
    }
   ],
   "source": [
    "make_shirt(msg=\"Hello Python\", size=\"Medium\")"
   ]
  },
  {
   "cell_type": "code",
   "execution_count": 31,
   "id": "ea19940b",
   "metadata": {},
   "outputs": [
    {
     "name": "stdout",
     "output_type": "stream",
     "text": [
      "The Size is: medium and the message is: Karachi\n"
     ]
    }
   ],
   "source": [
    "make_shirt('medium', 'Karachi')"
   ]
  },
  {
   "cell_type": "markdown",
   "id": "6101992d",
   "metadata": {},
   "source": [
    "# Default Parameter"
   ]
  },
  {
   "cell_type": "code",
   "execution_count": 35,
   "id": "8fc37699",
   "metadata": {},
   "outputs": [],
   "source": [
    "def make_shirt(size='Small', msg=\"Great Shirt\"):\n",
    "    print(f\"The Size is: {size} and the message is: {msg}\")"
   ]
  },
  {
   "cell_type": "code",
   "execution_count": 37,
   "id": "ef19f831",
   "metadata": {},
   "outputs": [
    {
     "name": "stdout",
     "output_type": "stream",
     "text": [
      "The Size is: Small and the message is: Great Shirt\n"
     ]
    }
   ],
   "source": [
    "make_shirt()"
   ]
  },
  {
   "cell_type": "code",
   "execution_count": 38,
   "id": "f5f3a5ae",
   "metadata": {},
   "outputs": [
    {
     "name": "stdout",
     "output_type": "stream",
     "text": [
      "The Size is: Large and the message is: Awesome\n"
     ]
    }
   ],
   "source": [
    "make_shirt(\"Large\", \"Awesome\")"
   ]
  },
  {
   "cell_type": "markdown",
   "id": "f6709eee",
   "metadata": {},
   "source": [
    "# Mix of positional and default Paraemter "
   ]
  },
  {
   "cell_type": "code",
   "execution_count": 39,
   "id": "9d560a59",
   "metadata": {},
   "outputs": [
    {
     "ename": "SyntaxError",
     "evalue": "non-default argument follows default argument (1670067733.py, line 1)",
     "output_type": "error",
     "traceback": [
      "\u001b[1;36m  Cell \u001b[1;32mIn[39], line 1\u001b[1;36m\u001b[0m\n\u001b[1;33m    def make_shirt(size='Small', msg):\u001b[0m\n\u001b[1;37m                                 ^\u001b[0m\n\u001b[1;31mSyntaxError\u001b[0m\u001b[1;31m:\u001b[0m non-default argument follows default argument\n"
     ]
    }
   ],
   "source": [
    "def make_shirt(size='Small', msg):\n",
    "    print(f\"The Size is: {size} and the message is: {msg}\")\n",
    "    \n",
    "# error"
   ]
  },
  {
   "cell_type": "code",
   "execution_count": 40,
   "id": "d7208330",
   "metadata": {},
   "outputs": [],
   "source": [
    "def make_shirt(msg,size='Small'):\n",
    "    print(f\"The Size is: {size} and the message is: {msg}\")\n",
    "    \n",
    "# error"
   ]
  },
  {
   "cell_type": "code",
   "execution_count": 41,
   "id": "27110c60",
   "metadata": {},
   "outputs": [],
   "source": [
    "def calculate_area(length, breadth):\n",
    "    area = length*breadth\n",
    "    print(f'The area is {area} sqm')"
   ]
  },
  {
   "cell_type": "code",
   "execution_count": 42,
   "id": "8ec0bfe3",
   "metadata": {},
   "outputs": [
    {
     "ename": "SyntaxError",
     "evalue": "positional argument follows keyword argument (3617790964.py, line 1)",
     "output_type": "error",
     "traceback": [
      "\u001b[1;36m  Cell \u001b[1;32mIn[42], line 1\u001b[1;36m\u001b[0m\n\u001b[1;33m    calculate_area(length=23, 24)\u001b[0m\n\u001b[1;37m                                ^\u001b[0m\n\u001b[1;31mSyntaxError\u001b[0m\u001b[1;31m:\u001b[0m positional argument follows keyword argument\n"
     ]
    }
   ],
   "source": [
    "calculate_area(length=23, 24)"
   ]
  },
  {
   "cell_type": "code",
   "execution_count": 43,
   "id": "167cb160",
   "metadata": {},
   "outputs": [
    {
     "ename": "TypeError",
     "evalue": "calculate_area() got multiple values for argument 'length'",
     "output_type": "error",
     "traceback": [
      "\u001b[1;31m---------------------------------------------------------------------------\u001b[0m",
      "\u001b[1;31mTypeError\u001b[0m                                 Traceback (most recent call last)",
      "Cell \u001b[1;32mIn[43], line 1\u001b[0m\n\u001b[1;32m----> 1\u001b[0m calculate_area(\u001b[38;5;241m24\u001b[39m,length\u001b[38;5;241m=\u001b[39m\u001b[38;5;241m23\u001b[39m)\n",
      "\u001b[1;31mTypeError\u001b[0m: calculate_area() got multiple values for argument 'length'"
     ]
    }
   ],
   "source": [
    "calculate_area(24,length=23)"
   ]
  },
  {
   "cell_type": "code",
   "execution_count": 52,
   "id": "d58d2652",
   "metadata": {},
   "outputs": [],
   "source": [
    "def calculate_area(breadth, length):\n",
    "    area = length*breadth    # local variable\n",
    "    print(f'The area is {area} sqm')"
   ]
  },
  {
   "cell_type": "code",
   "execution_count": 53,
   "id": "108ad880",
   "metadata": {},
   "outputs": [
    {
     "name": "stdout",
     "output_type": "stream",
     "text": [
      "The area is 529 sqm\n"
     ]
    }
   ],
   "source": [
    "calculate_area(23, length=23)"
   ]
  },
  {
   "cell_type": "markdown",
   "id": "b92c2daf",
   "metadata": {},
   "source": [
    "# Return Values"
   ]
  },
  {
   "cell_type": "code",
   "execution_count": 46,
   "id": "adbc3a26",
   "metadata": {},
   "outputs": [
    {
     "name": "stdout",
     "output_type": "stream",
     "text": [
      "The area is 15 sqm\n"
     ]
    }
   ],
   "source": [
    "calculate_area(3,5)"
   ]
  },
  {
   "cell_type": "code",
   "execution_count": 47,
   "id": "b754bc76",
   "metadata": {},
   "outputs": [
    {
     "ename": "NameError",
     "evalue": "name 'area' is not defined",
     "output_type": "error",
     "traceback": [
      "\u001b[1;31m---------------------------------------------------------------------------\u001b[0m",
      "\u001b[1;31mNameError\u001b[0m                                 Traceback (most recent call last)",
      "Cell \u001b[1;32mIn[47], line 1\u001b[0m\n\u001b[1;32m----> 1\u001b[0m \u001b[38;5;28mprint\u001b[39m(area)\n",
      "\u001b[1;31mNameError\u001b[0m: name 'area' is not defined"
     ]
    }
   ],
   "source": [
    "print(area)"
   ]
  },
  {
   "cell_type": "markdown",
   "id": "fc735f1e",
   "metadata": {},
   "source": [
    "area  is local variable. A variable that id defined and initialized inside function,\n",
    "it can not be acessed outside the function."
   ]
  },
  {
   "cell_type": "code",
   "execution_count": 66,
   "id": "c7385fbc",
   "metadata": {},
   "outputs": [],
   "source": [
    "def calculate_area(breadth, length):\n",
    "    area = length*breadth    # local variable\n",
    "    return area "
   ]
  },
  {
   "cell_type": "code",
   "execution_count": 67,
   "id": "22ae1914",
   "metadata": {},
   "outputs": [],
   "source": [
    "calculated_area = calculate_area(12,45)"
   ]
  },
  {
   "cell_type": "code",
   "execution_count": 64,
   "id": "25f0a484",
   "metadata": {},
   "outputs": [],
   "source": [
    "del calculated_area"
   ]
  },
  {
   "cell_type": "code",
   "execution_count": 68,
   "id": "ef89aedd",
   "metadata": {},
   "outputs": [
    {
     "data": {
      "text/plain": [
       "540"
      ]
     },
     "execution_count": 68,
     "metadata": {},
     "output_type": "execute_result"
    }
   ],
   "source": [
    "calculated_area"
   ]
  },
  {
   "cell_type": "code",
   "execution_count": 69,
   "id": "4515d16a",
   "metadata": {},
   "outputs": [],
   "source": [
    "def count_capital_letters(txt):\n",
    "    count=0\n",
    "    for char in txt:\n",
    "        if char.isupper():\n",
    "            count+=1\n",
    "    return count"
   ]
  },
  {
   "cell_type": "code",
   "execution_count": 70,
   "id": "8b131a00",
   "metadata": {},
   "outputs": [
    {
     "data": {
      "text/plain": [
       "5"
      ]
     },
     "execution_count": 70,
     "metadata": {},
     "output_type": "execute_result"
    }
   ],
   "source": [
    "count_capital_letters(\"\"\"\n",
    "A function doesn’t always have to display its output directly. \n",
    "Instead, it can process some data and then return a value or set of values. \n",
    "The value the function returns is called a return value. \n",
    "The return statement takes a value from inside a function and sends it back to the line that called the function.\n",
    "Return values allow you to move much of your program’s grunt work into functions, which can simplify the body of your program.\"\"\")"
   ]
  },
  {
   "cell_type": "code",
   "execution_count": 71,
   "id": "d3b48a1a",
   "metadata": {},
   "outputs": [],
   "source": [
    "txt =\"\"\" A function doesn’t always have to display its output directly. \n",
    "Instead, it can process some data and then return a value or set of values. \n",
    "The value the function returns is called a return value. \n",
    "The return statement takes a value from inside a function and sends it back to the line that called the function.\n",
    "Return values allow you to move much of your program’s grunt work into functions, which can simplify the body of your program.\"\"\""
   ]
  },
  {
   "cell_type": "code",
   "execution_count": 72,
   "id": "6bbd07f6",
   "metadata": {},
   "outputs": [
    {
     "name": "stdout",
     "output_type": "stream",
     "text": [
      "5\n"
     ]
    }
   ],
   "source": [
    "print(count_capital_letters(txt))"
   ]
  },
  {
   "cell_type": "code",
   "execution_count": 77,
   "id": "cc0868d1",
   "metadata": {},
   "outputs": [],
   "source": [
    "def count_capital_letters(txt):\n",
    "    count=0\n",
    "    for char in txt:\n",
    "        if char.isupper():\n",
    "            count+=1   "
   ]
  },
  {
   "cell_type": "code",
   "execution_count": 78,
   "id": "b00ae530",
   "metadata": {},
   "outputs": [
    {
     "name": "stdout",
     "output_type": "stream",
     "text": [
      "None\n"
     ]
    }
   ],
   "source": [
    "print(count_capital_letters(txt))"
   ]
  },
  {
   "cell_type": "code",
   "execution_count": 80,
   "id": "95b4f8f5",
   "metadata": {},
   "outputs": [
    {
     "name": "stdout",
     "output_type": "stream",
     "text": [
      "PAKISTAN\n"
     ]
    }
   ],
   "source": [
    "print(\"pakistan\".upper())"
   ]
  },
  {
   "cell_type": "code",
   "execution_count": 81,
   "id": "6126f804",
   "metadata": {},
   "outputs": [],
   "source": [
    "lst=[42,15,78,1]\n",
    "lst.sort()"
   ]
  },
  {
   "cell_type": "code",
   "execution_count": 82,
   "id": "5765d2b0",
   "metadata": {},
   "outputs": [
    {
     "name": "stdout",
     "output_type": "stream",
     "text": [
      "None\n"
     ]
    }
   ],
   "source": [
    "print(lst.sort())"
   ]
  },
  {
   "cell_type": "code",
   "execution_count": 83,
   "id": "4bcbfff3",
   "metadata": {},
   "outputs": [
    {
     "ename": "AttributeError",
     "evalue": "'list' object has no attribute 'sorted'",
     "output_type": "error",
     "traceback": [
      "\u001b[1;31m---------------------------------------------------------------------------\u001b[0m",
      "\u001b[1;31mAttributeError\u001b[0m                            Traceback (most recent call last)",
      "Cell \u001b[1;32mIn[83], line 1\u001b[0m\n\u001b[1;32m----> 1\u001b[0m lst\u001b[38;5;241m.\u001b[39msorted()\n",
      "\u001b[1;31mAttributeError\u001b[0m: 'list' object has no attribute 'sorted'"
     ]
    }
   ],
   "source": []
  },
  {
   "cell_type": "code",
   "execution_count": 84,
   "id": "4cc4a593",
   "metadata": {},
   "outputs": [
    {
     "data": {
      "text/plain": [
       "'PAKISTAN'"
      ]
     },
     "execution_count": 84,
     "metadata": {},
     "output_type": "execute_result"
    }
   ],
   "source": [
    "\"pakistan\".upper()"
   ]
  },
  {
   "cell_type": "code",
   "execution_count": 85,
   "id": "1f302c86",
   "metadata": {},
   "outputs": [
    {
     "name": "stdout",
     "output_type": "stream",
     "text": [
      "\n"
     ]
    }
   ],
   "source": [
    "print()"
   ]
  },
  {
   "cell_type": "code",
   "execution_count": 86,
   "id": "3f36a7e5",
   "metadata": {},
   "outputs": [
    {
     "data": {
      "text/plain": [
       "[1, 15, 42, 78]"
      ]
     },
     "execution_count": 86,
     "metadata": {},
     "output_type": "execute_result"
    }
   ],
   "source": [
    "lst"
   ]
  },
  {
   "cell_type": "code",
   "execution_count": 89,
   "id": "690a7bc8",
   "metadata": {},
   "outputs": [],
   "source": [
    "def count_capital_letters(txt):\n",
    "    count=0\n",
    "    capitals=[]\n",
    "    for char in txt:\n",
    "        if char.isupper():\n",
    "            capitals.append(char)\n",
    "            count+=1   \n",
    "    return count, capitals"
   ]
  },
  {
   "cell_type": "code",
   "execution_count": 91,
   "id": "5b7614d9",
   "metadata": {},
   "outputs": [],
   "source": [
    "count, lst = count_capital_letters(txt)"
   ]
  },
  {
   "cell_type": "code",
   "execution_count": 92,
   "id": "7b709265",
   "metadata": {},
   "outputs": [
    {
     "data": {
      "text/plain": [
       "5"
      ]
     },
     "execution_count": 92,
     "metadata": {},
     "output_type": "execute_result"
    }
   ],
   "source": [
    "count"
   ]
  },
  {
   "cell_type": "code",
   "execution_count": 93,
   "id": "d2812de0",
   "metadata": {},
   "outputs": [
    {
     "data": {
      "text/plain": [
       "['A', 'I', 'T', 'T', 'R']"
      ]
     },
     "execution_count": 93,
     "metadata": {},
     "output_type": "execute_result"
    }
   ],
   "source": [
    "lst"
   ]
  },
  {
   "cell_type": "markdown",
   "id": "8def5b7f",
   "metadata": {},
   "source": [
    "# 25July2024"
   ]
  },
  {
   "cell_type": "raw",
   "id": "44392cae",
   "metadata": {},
   "source": [
    "Question:\n",
    "Write a function which accepts a sequence of comma separated 4 digit binary numbers \n",
    "as its input and then check whether they are divisible by 5 or not. \n",
    "The numbers that are divisible by 5 are to be printed in a comma separated sequence.\n",
    "Example:\n",
    "0100,0011,1010,1001\n",
    "Then the output should be:\n",
    "1010\n",
    "Notes: Assume the data is input by console.\n",
    "\n"
   ]
  },
  {
   "cell_type": "code",
   "execution_count": 4,
   "id": "5597be82",
   "metadata": {},
   "outputs": [
    {
     "data": {
      "text/plain": [
       "9"
      ]
     },
     "execution_count": 4,
     "metadata": {},
     "output_type": "execute_result"
    }
   ],
   "source": [
    "# 0100\n",
    "\n",
    "0*2**3+1*2**2+0*2**1+0*2**0\n",
    "\n",
    "\n",
    "# ,0011\n",
    "0*2**3+0*2**2+1*2**1+1*2**0\n",
    "\n",
    "\n",
    "\n",
    "# ,1010,\n",
    "\n",
    "1*2**3+0*2**2+1*2**1+0*2**0\n",
    "# 1001\n",
    "\n",
    "1*2**3+0*2**2+0*2**1+1*2**0"
   ]
  },
  {
   "cell_type": "code",
   "execution_count": 5,
   "id": "eb0cdf86",
   "metadata": {},
   "outputs": [
    {
     "data": {
      "text/plain": [
       "'0b1111011'"
      ]
     },
     "execution_count": 5,
     "metadata": {},
     "output_type": "execute_result"
    }
   ],
   "source": [
    "bin(123)"
   ]
  },
  {
   "cell_type": "code",
   "execution_count": 7,
   "id": "15632309",
   "metadata": {},
   "outputs": [
    {
     "data": {
      "text/plain": [
       "4"
      ]
     },
     "execution_count": 7,
     "metadata": {},
     "output_type": "execute_result"
    }
   ],
   "source": [
    "0b100"
   ]
  },
  {
   "cell_type": "code",
   "execution_count": 8,
   "id": "eb8430f2",
   "metadata": {},
   "outputs": [
    {
     "data": {
      "text/plain": [
       "123"
      ]
     },
     "execution_count": 8,
     "metadata": {},
     "output_type": "execute_result"
    }
   ],
   "source": [
    "int(0b1111011)"
   ]
  },
  {
   "cell_type": "code",
   "execution_count": 11,
   "id": "86d9dee3",
   "metadata": {},
   "outputs": [
    {
     "name": "stdout",
     "output_type": "stream",
     "text": [
      "Binary to Decimal 1001 : 9\n"
     ]
    }
   ],
   "source": [
    "b = \"1001\"\n",
    "print(\"Binary to Decimal\", b, \":\", int(b, 2))"
   ]
  },
  {
   "cell_type": "code",
   "execution_count": 31,
   "id": "98ee1db7",
   "metadata": {},
   "outputs": [],
   "source": [
    "def bin_5(bin_nums):\n",
    "    '''This function takes five binary numbers of 4 digtis as input\n",
    "    and returns all the numbers  divisible by 5 '''\n",
    "    bin_nums = bin_nums.split(',')\n",
    "    multiple_of_5= []\n",
    "    for n in bin_nums:\n",
    "        if int(n,2)%5==0:\n",
    "            multiple_of_5.append(n)\n",
    "    return multiple_of_5"
   ]
  },
  {
   "cell_type": "code",
   "execution_count": 32,
   "id": "65992074",
   "metadata": {},
   "outputs": [
    {
     "name": "stdout",
     "output_type": "stream",
     "text": [
      "Please enter 4 digit 5 comma separated binary numbers1001,1000,0101,0011,1111\n"
     ]
    },
    {
     "data": {
      "text/plain": [
       "['0101', '1111']"
      ]
     },
     "execution_count": 32,
     "metadata": {},
     "output_type": "execute_result"
    }
   ],
   "source": [
    "bin_5(input(\"Please enter 4 digit 5 comma separated binary numbers\"))"
   ]
  },
  {
   "cell_type": "markdown",
   "id": "728d8d95",
   "metadata": {},
   "source": [
    "1001,1000,0101,0011,1111"
   ]
  },
  {
   "cell_type": "code",
   "execution_count": 33,
   "id": "0c274dc3",
   "metadata": {},
   "outputs": [
    {
     "data": {
      "text/plain": [
       "17"
      ]
     },
     "execution_count": 33,
     "metadata": {},
     "output_type": "execute_result"
    }
   ],
   "source": [
    "0b10001"
   ]
  },
  {
   "cell_type": "code",
   "execution_count": 37,
   "id": "46b0b9a2",
   "metadata": {},
   "outputs": [
    {
     "data": {
      "text/plain": [
       "17"
      ]
     },
     "execution_count": 37,
     "metadata": {},
     "output_type": "execute_result"
    }
   ],
   "source": [
    "int('10001',2)"
   ]
  },
  {
   "cell_type": "code",
   "execution_count": 38,
   "id": "1ac4d761",
   "metadata": {},
   "outputs": [
    {
     "data": {
      "text/plain": [
       "'0b1111011'"
      ]
     },
     "execution_count": 38,
     "metadata": {},
     "output_type": "execute_result"
    }
   ],
   "source": [
    "bin(123)"
   ]
  },
  {
   "cell_type": "code",
   "execution_count": null,
   "id": "984beda4",
   "metadata": {},
   "outputs": [],
   "source": []
  }
 ],
 "metadata": {
  "kernelspec": {
   "display_name": "Python 3 (ipykernel)",
   "language": "python",
   "name": "python3"
  },
  "language_info": {
   "codemirror_mode": {
    "name": "ipython",
    "version": 3
   },
   "file_extension": ".py",
   "mimetype": "text/x-python",
   "name": "python",
   "nbconvert_exporter": "python",
   "pygments_lexer": "ipython3",
   "version": "3.11.5"
  }
 },
 "nbformat": 4,
 "nbformat_minor": 5
}
