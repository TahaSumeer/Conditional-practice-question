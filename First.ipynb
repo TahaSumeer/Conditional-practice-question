{
 "cells": [
  {
   "cell_type": "code",
   "execution_count": 1,
   "id": "de2342dd-c465-4bb1-a77f-913e6901dac6",
   "metadata": {},
   "outputs": [
    {
     "name": "stdout",
     "output_type": "stream",
     "text": [
      "Taha\n"
     ]
    }
   ],
   "source": [
    "name= \"Taha\"\n",
    "print(name)"
   ]
  },
  {
   "cell_type": "code",
   "execution_count": 2,
   "id": "33212d18-2ab2-429f-97b5-cc117c341d1e",
   "metadata": {},
   "outputs": [
    {
     "data": {
      "text/plain": [
       "str"
      ]
     },
     "execution_count": 2,
     "metadata": {},
     "output_type": "execute_result"
    }
   ],
   "source": [
    "type(name)"
   ]
  },
  {
   "cell_type": "code",
   "execution_count": 7,
   "id": "abdfad17-9752-41d8-a95d-d74f7806eb50",
   "metadata": {},
   "outputs": [
    {
     "name": "stdout",
     "output_type": "stream",
     "text": [
      "21\n"
     ]
    }
   ],
   "source": [
    "age = int('21')\n",
    "print(age)"
   ]
  },
  {
   "cell_type": "code",
   "execution_count": 8,
   "id": "722fb4c7-0eba-4e8a-91ba-bb65417ebc50",
   "metadata": {},
   "outputs": [
    {
     "data": {
      "text/plain": [
       "int"
      ]
     },
     "execution_count": 8,
     "metadata": {},
     "output_type": "execute_result"
    }
   ],
   "source": [
    "type(age)"
   ]
  },
  {
   "cell_type": "code",
   "execution_count": 29,
   "id": "78096e47-c281-42da-a18f-ceee8e197279",
   "metadata": {},
   "outputs": [
    {
     "name": "stdin",
     "output_type": "stream",
     "text": [
      "Enter your age 29\n"
     ]
    },
    {
     "name": "stdout",
     "output_type": "stream",
     "text": [
      "You're eligible to vote\n"
     ]
    }
   ],
   "source": [
    "age=int(input(\"Enter your age\"))\n",
    "if age >=18:\n",
    "    print(\"You're eligible to vote\")  \n",
    "else:\n",
    "    print(\"bade ho k aoa\")\n",
    " "
   ]
  },
  {
   "cell_type": "code",
   "execution_count": 25,
   "id": "cfae1b31-1be1-44ab-9985-863653c100ed",
   "metadata": {},
   "outputs": [
    {
     "name": "stdout",
     "output_type": "stream",
     "text": [
      "bade ho k aoa\n"
     ]
    }
   ],
   "source": [
    "age=17\n",
    "if age > 18:\n",
    "    print(\"You're eligible to vote\")  \n",
    "else:\n",
    "    print(\"bade ho k aoa\")"
   ]
  },
  {
   "cell_type": "code",
   "execution_count": 1,
   "id": "23d273b6-b3b0-4c36-8234-5f2a7f1a8506",
   "metadata": {},
   "outputs": [
    {
     "name": "stdin",
     "output_type": "stream",
     "text": [
      "Enter a text here to check vowels My name is olu\n"
     ]
    },
    {
     "name": "stdout",
     "output_type": "stream",
     "text": [
      "{'a': 1, 'e': 1, 'i': 1, 'o': 1, 'u': 1}\n"
     ]
    }
   ],
   "source": [
    "string = input(\"Enter a text here to check vowels\")\n",
    "List = [\"a\", \"e\", \"i\", \"o\", \"u\"]\n",
    "\n",
    "print({c: string.count(c) for c in List})"
   ]
  },
  {
   "cell_type": "code",
   "execution_count": 16,
   "id": "a00fa390-8e7c-412b-8dc0-96ecbdad3203",
   "metadata": {},
   "outputs": [
    {
     "name": "stdin",
     "output_type": "stream",
     "text": [
      "Enter your age 18\n"
     ]
    },
    {
     "name": "stdout",
     "output_type": "stream",
     "text": [
      "Vote\n"
     ]
    }
   ],
   "source": [
    "age1= int(input(\"Enter your age\"))\n",
    "if age1 >= 18:\n",
    "    print(\"Vote\")\n",
    "else:\n",
    "    print(\"No Vote\")"
   ]
  },
  {
   "cell_type": "code",
   "execution_count": null,
   "id": "99a489d8-7e47-4bef-be06-6dc31855d9d9",
   "metadata": {},
   "outputs": [],
   "source": []
  }
 ],
 "metadata": {
  "kernelspec": {
   "display_name": "Python 3 (ipykernel)",
   "language": "python",
   "name": "python3"
  },
  "language_info": {
   "codemirror_mode": {
    "name": "ipython",
    "version": 3
   },
   "file_extension": ".py",
   "mimetype": "text/x-python",
   "name": "python",
   "nbconvert_exporter": "python",
   "pygments_lexer": "ipython3",
   "version": "3.11.7"
  }
 },
 "nbformat": 4,
 "nbformat_minor": 5
}
